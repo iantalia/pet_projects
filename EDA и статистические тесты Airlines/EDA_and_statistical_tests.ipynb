{
  "nbformat": 4,
  "nbformat_minor": 0,
  "metadata": {
    "colab": {
      "provenance": []
    },
    "kernelspec": {
      "name": "python3",
      "display_name": "Python 3"
    },
    "language_info": {
      "name": "python"
    }
  },
  "cells": [
    {
      "cell_type": "markdown",
      "source": [
        "# Что это за pet-проект?\n",
        "\n",
        "Этот pet-проект я выполнял изначально как финальный проект по учебной дисциплине \"Программирование на Python\" (2025 год). Я дополнил и переработал его для портфолио.\n",
        "\n",
        "Проект демонстрирует мои следующие навыки и знания:\n",
        "\n",
        "*   Умение проводить разведочный анализ данных (EDA), в т.ч. оценивать качество данных, обрабатывать и трансформировать данные, а также их визуализировать.\n",
        "*   Умение формулировать исследовательские гипотезы и переводить их на язык статистических гипотез.\n",
        "* Знание допущений для применения разных статистических тестов, умение проверять допущения, проводить статистические тесты и правильно их интерпретировать*.\n",
        "* Умение извлекать бизнес-инсайты даже на ограниченных, неполных данных.\n",
        "* Умение составлять отчет по проделанной работе.\n",
        "\n",
        "\\* примечание: в работе со статистическими тестами я исхожу из допущения, что используемый датасет содержит случайные выборки.\n"
      ],
      "metadata": {
        "id": "B2FrN9ghcs2O"
      }
    },
    {
      "cell_type": "markdown",
      "source": [
        "# Постановка цели и описание логики представления работы\n",
        "\n",
        "Предположим, что нам поступила срочная ad-hoc задача: сын одного миллиардера на деньги отца захотел войти в авиабизнес и хочет уже сегодня за семейным ужином представить идею отцу. Сын выступает нашим заказчиком. Он пришел с идеей, что ему нужно найти такую целевую аудиторию пассажиров, которая чем-то неудовлетворена в своих перелетах. Заказчик хочет, чтобы мы нашли ему какую-то нишу, в которой есть в чем-то слабые авиакомпании-конкуренты, которых он мог бы в чем-то опередить. Конкретных идей у заказчика нет, но у него есть набор данных с отзывами, который он просит использовать для анализа так, как нам угодно. Ему главное, чтобы мы определили нишу и дали рекомендации, что ему делать дальше.\n",
        "\n",
        "Работа выстроена по следующему плану. В самом начале мы занимаеся базовыми техническими приготовлениями, включая базовую проверку и обработку основной используемой нами таблицы \"Airline\" (отзывы на полеты на конкретных авиалиниях). Затем мы начинаем поэтапно подбирать целевую аудиторию нашему заказчику, чему посвящены разделы:\n",
        "\n",
        "* \"Вопрос 1\": Мы смотрим, пассажиры из какого географического региона наименее удовлетворены своими перелетами (ответ: из георегиона \"Америки\").\n",
        "\n",
        "* \"Стат. тест 1\": Мы убеждаемся, что обнаруженная в ответе на первый вопрос разница является неслучайной с точки зрения статистики (ответ: да, она неслучайная).\n",
        "\n",
        "* \"Вопрос 2\": Чтобы сузить целевую аудиторию, мы смотрим, пассажиры какого класса полета из георегиона \"Америки\" наименее удовлетворены своими перелетами (ответ: пассажиры эконом-класса, включая эконом-премиум).\n",
        "\n",
        "* \"Стат. тест 2\". Мы убеждаемся, что обнаруженная в ответе на второй вопрос разница является неслучайной с точки зрения статистики (ответ: да, она неслучайная).\n",
        "\n",
        "После определения более-менее узкой целевой аудитории (пассажиры эконом-класса георегиона \"Америки\") в разделе \"Вопрос 3\" мы определяем 10 потенциальных конкурентов нашему заказчику, а затем смотрим, у кого из них наихудшие кресла по оценкам целевой аудитории.\n",
        "\n",
        "Отчет завершается разделом с подведением итогов и практическими рекомендациями для заказчика."
      ],
      "metadata": {
        "id": "jVff_NQx6WRq"
      }
    },
    {
      "cell_type": "markdown",
      "source": [
        "# Базовая подготовка"
      ],
      "metadata": {
        "id": "4F4RoPGparhK"
      }
    },
    {
      "cell_type": "markdown",
      "source": [
        "## Подгрузим и импортируем нужные библиотеки\n",
        "\n",
        "Библиотека \"scikit_posthocs\", с помощью которой в одном из разделов отчета будет проводиться пост-хок тест Данна, по умолчанию не входит в окружение Google Colab'а, поэтому загружаем ее дополнительно."
      ],
      "metadata": {
        "id": "Qbdi4j7P3agK"
      }
    },
    {
      "cell_type": "code",
      "source": [
        "%%capture\n",
        "!pip install scikit_posthocs"
      ],
      "metadata": {
        "id": "zoKxTcrJASYw"
      },
      "execution_count": 52,
      "outputs": []
    },
    {
      "cell_type": "markdown",
      "source": [
        "Остальные библиотеки уже есть в окружении Colab'а, поэтому просто импортируем."
      ],
      "metadata": {
        "id": "EBrXObYF5Rp6"
      }
    },
    {
      "cell_type": "code",
      "source": [
        "import pandas as pd\n",
        "import numpy as np\n",
        "import seaborn as sns\n",
        "import scipy.stats as stats\n",
        "import scikit_posthocs as sp"
      ],
      "metadata": {
        "id": "hdH-AsoldeRq"
      },
      "execution_count": 2,
      "outputs": []
    },
    {
      "cell_type": "markdown",
      "source": [
        "## Базовая подготовка основной таблицы \"Airline\"\n",
        "\n",
        "Для начала загрузим основную таблицу, с которой будем работать, и посмотрим на несколько строк, чтобы лучше понять содержание таблицы."
      ],
      "metadata": {
        "id": "iKB391-W4W9Y"
      }
    },
    {
      "cell_type": "code",
      "execution_count": 3,
      "metadata": {
        "colab": {
          "base_uri": "https://localhost:8080/",
          "height": 476
        },
        "id": "8O6nflGAao4s",
        "outputId": "ff300a5d-fdba-43c2-8c1b-65d127268f3c"
      },
      "outputs": [
        {
          "output_type": "execute_result",
          "data": {
            "text/plain": [
              "    airline_name                            link  \\\n",
              "0  adria-airways  /airline-reviews/adria-airways   \n",
              "1  adria-airways  /airline-reviews/adria-airways   \n",
              "2  adria-airways  /airline-reviews/adria-airways   \n",
              "\n",
              "                           title         author  author_country        date  \\\n",
              "0  Adria Airways customer review       L Stefan          Canada  2013-08-19   \n",
              "1  Adria Airways customer review       P Wilson  United Kingdom  2011-09-13   \n",
              "2  Adria Airways customer review  Michael Scott             NaN  2008-05-29   \n",
              "\n",
              "                                             content aircraft type_traveller  \\\n",
              "0  VIE-LJU LJU-MUC Aug 4-15th CRJ200. Both flight...      NaN            NaN   \n",
              "1  London Gatwick to Ljubljana and Ljubljana to V...      NaN            NaN   \n",
              "2  London to Tirana via Ljubljana Economy Class. ...      NaN            NaN   \n",
              "\n",
              "      cabin_flown route  overall_rating  seat_comfort_rating  \\\n",
              "0         Economy   NaN             8.0                  4.0   \n",
              "1  Business Class   NaN            10.0                  NaN   \n",
              "2             NaN   NaN             4.0                  NaN   \n",
              "\n",
              "   cabin_staff_rating  food_beverages_rating  inflight_entertainment_rating  \\\n",
              "0                 4.0                    4.0                            0.0   \n",
              "1                 NaN                    NaN                            NaN   \n",
              "2                 NaN                    NaN                            NaN   \n",
              "\n",
              "   ground_service_rating  wifi_connectivity_rating  value_money_rating  \\\n",
              "0                    NaN                       NaN                 4.0   \n",
              "1                    NaN                       NaN                 4.0   \n",
              "2                    NaN                       NaN                 NaN   \n",
              "\n",
              "   recommended  \n",
              "0            1  \n",
              "1            1  \n",
              "2            0  "
            ],
            "text/html": [
              "\n",
              "  <div id=\"df-b98d7713-74a2-46ff-a8c2-f6c6383d09ab\" class=\"colab-df-container\">\n",
              "    <div>\n",
              "<style scoped>\n",
              "    .dataframe tbody tr th:only-of-type {\n",
              "        vertical-align: middle;\n",
              "    }\n",
              "\n",
              "    .dataframe tbody tr th {\n",
              "        vertical-align: top;\n",
              "    }\n",
              "\n",
              "    .dataframe thead th {\n",
              "        text-align: right;\n",
              "    }\n",
              "</style>\n",
              "<table border=\"1\" class=\"dataframe\">\n",
              "  <thead>\n",
              "    <tr style=\"text-align: right;\">\n",
              "      <th></th>\n",
              "      <th>airline_name</th>\n",
              "      <th>link</th>\n",
              "      <th>title</th>\n",
              "      <th>author</th>\n",
              "      <th>author_country</th>\n",
              "      <th>date</th>\n",
              "      <th>content</th>\n",
              "      <th>aircraft</th>\n",
              "      <th>type_traveller</th>\n",
              "      <th>cabin_flown</th>\n",
              "      <th>route</th>\n",
              "      <th>overall_rating</th>\n",
              "      <th>seat_comfort_rating</th>\n",
              "      <th>cabin_staff_rating</th>\n",
              "      <th>food_beverages_rating</th>\n",
              "      <th>inflight_entertainment_rating</th>\n",
              "      <th>ground_service_rating</th>\n",
              "      <th>wifi_connectivity_rating</th>\n",
              "      <th>value_money_rating</th>\n",
              "      <th>recommended</th>\n",
              "    </tr>\n",
              "  </thead>\n",
              "  <tbody>\n",
              "    <tr>\n",
              "      <th>0</th>\n",
              "      <td>adria-airways</td>\n",
              "      <td>/airline-reviews/adria-airways</td>\n",
              "      <td>Adria Airways customer review</td>\n",
              "      <td>L Stefan</td>\n",
              "      <td>Canada</td>\n",
              "      <td>2013-08-19</td>\n",
              "      <td>VIE-LJU LJU-MUC Aug 4-15th CRJ200. Both flight...</td>\n",
              "      <td>NaN</td>\n",
              "      <td>NaN</td>\n",
              "      <td>Economy</td>\n",
              "      <td>NaN</td>\n",
              "      <td>8.0</td>\n",
              "      <td>4.0</td>\n",
              "      <td>4.0</td>\n",
              "      <td>4.0</td>\n",
              "      <td>0.0</td>\n",
              "      <td>NaN</td>\n",
              "      <td>NaN</td>\n",
              "      <td>4.0</td>\n",
              "      <td>1</td>\n",
              "    </tr>\n",
              "    <tr>\n",
              "      <th>1</th>\n",
              "      <td>adria-airways</td>\n",
              "      <td>/airline-reviews/adria-airways</td>\n",
              "      <td>Adria Airways customer review</td>\n",
              "      <td>P Wilson</td>\n",
              "      <td>United Kingdom</td>\n",
              "      <td>2011-09-13</td>\n",
              "      <td>London Gatwick to Ljubljana and Ljubljana to V...</td>\n",
              "      <td>NaN</td>\n",
              "      <td>NaN</td>\n",
              "      <td>Business Class</td>\n",
              "      <td>NaN</td>\n",
              "      <td>10.0</td>\n",
              "      <td>NaN</td>\n",
              "      <td>NaN</td>\n",
              "      <td>NaN</td>\n",
              "      <td>NaN</td>\n",
              "      <td>NaN</td>\n",
              "      <td>NaN</td>\n",
              "      <td>4.0</td>\n",
              "      <td>1</td>\n",
              "    </tr>\n",
              "    <tr>\n",
              "      <th>2</th>\n",
              "      <td>adria-airways</td>\n",
              "      <td>/airline-reviews/adria-airways</td>\n",
              "      <td>Adria Airways customer review</td>\n",
              "      <td>Michael Scott</td>\n",
              "      <td>NaN</td>\n",
              "      <td>2008-05-29</td>\n",
              "      <td>London to Tirana via Ljubljana Economy Class. ...</td>\n",
              "      <td>NaN</td>\n",
              "      <td>NaN</td>\n",
              "      <td>NaN</td>\n",
              "      <td>NaN</td>\n",
              "      <td>4.0</td>\n",
              "      <td>NaN</td>\n",
              "      <td>NaN</td>\n",
              "      <td>NaN</td>\n",
              "      <td>NaN</td>\n",
              "      <td>NaN</td>\n",
              "      <td>NaN</td>\n",
              "      <td>NaN</td>\n",
              "      <td>0</td>\n",
              "    </tr>\n",
              "  </tbody>\n",
              "</table>\n",
              "</div>\n",
              "    <div class=\"colab-df-buttons\">\n",
              "\n",
              "  <div class=\"colab-df-container\">\n",
              "    <button class=\"colab-df-convert\" onclick=\"convertToInteractive('df-b98d7713-74a2-46ff-a8c2-f6c6383d09ab')\"\n",
              "            title=\"Convert this dataframe to an interactive table.\"\n",
              "            style=\"display:none;\">\n",
              "\n",
              "  <svg xmlns=\"http://www.w3.org/2000/svg\" height=\"24px\" viewBox=\"0 -960 960 960\">\n",
              "    <path d=\"M120-120v-720h720v720H120Zm60-500h600v-160H180v160Zm220 220h160v-160H400v160Zm0 220h160v-160H400v160ZM180-400h160v-160H180v160Zm440 0h160v-160H620v160ZM180-180h160v-160H180v160Zm440 0h160v-160H620v160Z\"/>\n",
              "  </svg>\n",
              "    </button>\n",
              "\n",
              "  <style>\n",
              "    .colab-df-container {\n",
              "      display:flex;\n",
              "      gap: 12px;\n",
              "    }\n",
              "\n",
              "    .colab-df-convert {\n",
              "      background-color: #E8F0FE;\n",
              "      border: none;\n",
              "      border-radius: 50%;\n",
              "      cursor: pointer;\n",
              "      display: none;\n",
              "      fill: #1967D2;\n",
              "      height: 32px;\n",
              "      padding: 0 0 0 0;\n",
              "      width: 32px;\n",
              "    }\n",
              "\n",
              "    .colab-df-convert:hover {\n",
              "      background-color: #E2EBFA;\n",
              "      box-shadow: 0px 1px 2px rgba(60, 64, 67, 0.3), 0px 1px 3px 1px rgba(60, 64, 67, 0.15);\n",
              "      fill: #174EA6;\n",
              "    }\n",
              "\n",
              "    .colab-df-buttons div {\n",
              "      margin-bottom: 4px;\n",
              "    }\n",
              "\n",
              "    [theme=dark] .colab-df-convert {\n",
              "      background-color: #3B4455;\n",
              "      fill: #D2E3FC;\n",
              "    }\n",
              "\n",
              "    [theme=dark] .colab-df-convert:hover {\n",
              "      background-color: #434B5C;\n",
              "      box-shadow: 0px 1px 3px 1px rgba(0, 0, 0, 0.15);\n",
              "      filter: drop-shadow(0px 1px 2px rgba(0, 0, 0, 0.3));\n",
              "      fill: #FFFFFF;\n",
              "    }\n",
              "  </style>\n",
              "\n",
              "    <script>\n",
              "      const buttonEl =\n",
              "        document.querySelector('#df-b98d7713-74a2-46ff-a8c2-f6c6383d09ab button.colab-df-convert');\n",
              "      buttonEl.style.display =\n",
              "        google.colab.kernel.accessAllowed ? 'block' : 'none';\n",
              "\n",
              "      async function convertToInteractive(key) {\n",
              "        const element = document.querySelector('#df-b98d7713-74a2-46ff-a8c2-f6c6383d09ab');\n",
              "        const dataTable =\n",
              "          await google.colab.kernel.invokeFunction('convertToInteractive',\n",
              "                                                    [key], {});\n",
              "        if (!dataTable) return;\n",
              "\n",
              "        const docLinkHtml = 'Like what you see? Visit the ' +\n",
              "          '<a target=\"_blank\" href=https://colab.research.google.com/notebooks/data_table.ipynb>data table notebook</a>'\n",
              "          + ' to learn more about interactive tables.';\n",
              "        element.innerHTML = '';\n",
              "        dataTable['output_type'] = 'display_data';\n",
              "        await google.colab.output.renderOutput(dataTable, element);\n",
              "        const docLink = document.createElement('div');\n",
              "        docLink.innerHTML = docLinkHtml;\n",
              "        element.appendChild(docLink);\n",
              "      }\n",
              "    </script>\n",
              "  </div>\n",
              "\n",
              "\n",
              "    <div id=\"df-00ac7936-d66f-4e31-a4d4-84a7cd42d532\">\n",
              "      <button class=\"colab-df-quickchart\" onclick=\"quickchart('df-00ac7936-d66f-4e31-a4d4-84a7cd42d532')\"\n",
              "                title=\"Suggest charts\"\n",
              "                style=\"display:none;\">\n",
              "\n",
              "<svg xmlns=\"http://www.w3.org/2000/svg\" height=\"24px\"viewBox=\"0 0 24 24\"\n",
              "     width=\"24px\">\n",
              "    <g>\n",
              "        <path d=\"M19 3H5c-1.1 0-2 .9-2 2v14c0 1.1.9 2 2 2h14c1.1 0 2-.9 2-2V5c0-1.1-.9-2-2-2zM9 17H7v-7h2v7zm4 0h-2V7h2v10zm4 0h-2v-4h2v4z\"/>\n",
              "    </g>\n",
              "</svg>\n",
              "      </button>\n",
              "\n",
              "<style>\n",
              "  .colab-df-quickchart {\n",
              "      --bg-color: #E8F0FE;\n",
              "      --fill-color: #1967D2;\n",
              "      --hover-bg-color: #E2EBFA;\n",
              "      --hover-fill-color: #174EA6;\n",
              "      --disabled-fill-color: #AAA;\n",
              "      --disabled-bg-color: #DDD;\n",
              "  }\n",
              "\n",
              "  [theme=dark] .colab-df-quickchart {\n",
              "      --bg-color: #3B4455;\n",
              "      --fill-color: #D2E3FC;\n",
              "      --hover-bg-color: #434B5C;\n",
              "      --hover-fill-color: #FFFFFF;\n",
              "      --disabled-bg-color: #3B4455;\n",
              "      --disabled-fill-color: #666;\n",
              "  }\n",
              "\n",
              "  .colab-df-quickchart {\n",
              "    background-color: var(--bg-color);\n",
              "    border: none;\n",
              "    border-radius: 50%;\n",
              "    cursor: pointer;\n",
              "    display: none;\n",
              "    fill: var(--fill-color);\n",
              "    height: 32px;\n",
              "    padding: 0;\n",
              "    width: 32px;\n",
              "  }\n",
              "\n",
              "  .colab-df-quickchart:hover {\n",
              "    background-color: var(--hover-bg-color);\n",
              "    box-shadow: 0 1px 2px rgba(60, 64, 67, 0.3), 0 1px 3px 1px rgba(60, 64, 67, 0.15);\n",
              "    fill: var(--button-hover-fill-color);\n",
              "  }\n",
              "\n",
              "  .colab-df-quickchart-complete:disabled,\n",
              "  .colab-df-quickchart-complete:disabled:hover {\n",
              "    background-color: var(--disabled-bg-color);\n",
              "    fill: var(--disabled-fill-color);\n",
              "    box-shadow: none;\n",
              "  }\n",
              "\n",
              "  .colab-df-spinner {\n",
              "    border: 2px solid var(--fill-color);\n",
              "    border-color: transparent;\n",
              "    border-bottom-color: var(--fill-color);\n",
              "    animation:\n",
              "      spin 1s steps(1) infinite;\n",
              "  }\n",
              "\n",
              "  @keyframes spin {\n",
              "    0% {\n",
              "      border-color: transparent;\n",
              "      border-bottom-color: var(--fill-color);\n",
              "      border-left-color: var(--fill-color);\n",
              "    }\n",
              "    20% {\n",
              "      border-color: transparent;\n",
              "      border-left-color: var(--fill-color);\n",
              "      border-top-color: var(--fill-color);\n",
              "    }\n",
              "    30% {\n",
              "      border-color: transparent;\n",
              "      border-left-color: var(--fill-color);\n",
              "      border-top-color: var(--fill-color);\n",
              "      border-right-color: var(--fill-color);\n",
              "    }\n",
              "    40% {\n",
              "      border-color: transparent;\n",
              "      border-right-color: var(--fill-color);\n",
              "      border-top-color: var(--fill-color);\n",
              "    }\n",
              "    60% {\n",
              "      border-color: transparent;\n",
              "      border-right-color: var(--fill-color);\n",
              "    }\n",
              "    80% {\n",
              "      border-color: transparent;\n",
              "      border-right-color: var(--fill-color);\n",
              "      border-bottom-color: var(--fill-color);\n",
              "    }\n",
              "    90% {\n",
              "      border-color: transparent;\n",
              "      border-bottom-color: var(--fill-color);\n",
              "    }\n",
              "  }\n",
              "</style>\n",
              "\n",
              "      <script>\n",
              "        async function quickchart(key) {\n",
              "          const quickchartButtonEl =\n",
              "            document.querySelector('#' + key + ' button');\n",
              "          quickchartButtonEl.disabled = true;  // To prevent multiple clicks.\n",
              "          quickchartButtonEl.classList.add('colab-df-spinner');\n",
              "          try {\n",
              "            const charts = await google.colab.kernel.invokeFunction(\n",
              "                'suggestCharts', [key], {});\n",
              "          } catch (error) {\n",
              "            console.error('Error during call to suggestCharts:', error);\n",
              "          }\n",
              "          quickchartButtonEl.classList.remove('colab-df-spinner');\n",
              "          quickchartButtonEl.classList.add('colab-df-quickchart-complete');\n",
              "        }\n",
              "        (() => {\n",
              "          let quickchartButtonEl =\n",
              "            document.querySelector('#df-00ac7936-d66f-4e31-a4d4-84a7cd42d532 button');\n",
              "          quickchartButtonEl.style.display =\n",
              "            google.colab.kernel.accessAllowed ? 'block' : 'none';\n",
              "        })();\n",
              "      </script>\n",
              "    </div>\n",
              "    </div>\n",
              "  </div>\n"
            ],
            "application/vnd.google.colaboratory.intrinsic+json": {
              "type": "dataframe",
              "variable_name": "airline",
              "summary": "{\n  \"name\": \"airline\",\n  \"rows\": 4488,\n  \"fields\": [\n    {\n      \"column\": \"airline_name\",\n      \"properties\": {\n        \"dtype\": \"category\",\n        \"num_unique_values\": 290,\n        \"samples\": [\n          \"china-southern-airlines\",\n          \"wizz-air\",\n          \"american-airlines\"\n        ],\n        \"semantic_type\": \"\",\n        \"description\": \"\"\n      }\n    },\n    {\n      \"column\": \"link\",\n      \"properties\": {\n        \"dtype\": \"category\",\n        \"num_unique_values\": 290,\n        \"samples\": [\n          \"/airline-reviews/china-southern-airlines\",\n          \"/airline-reviews/wizz-air\",\n          \"/airline-reviews/american-airlines\"\n        ],\n        \"semantic_type\": \"\",\n        \"description\": \"\"\n      }\n    },\n    {\n      \"column\": \"title\",\n      \"properties\": {\n        \"dtype\": \"category\",\n        \"num_unique_values\": 290,\n        \"samples\": [\n          \"China Southern Airlines customer review\",\n          \"Wizz Air customer review\",\n          \"American Airlines customer review\"\n        ],\n        \"semantic_type\": \"\",\n        \"description\": \"\"\n      }\n    },\n    {\n      \"column\": \"author\",\n      \"properties\": {\n        \"dtype\": \"string\",\n        \"num_unique_values\": 2794,\n        \"samples\": [\n          \"V Agarwal\",\n          \"L Ian\",\n          \"Lee Cheng Jun\"\n        ],\n        \"semantic_type\": \"\",\n        \"description\": \"\"\n      }\n    },\n    {\n      \"column\": \"author_country\",\n      \"properties\": {\n        \"dtype\": \"category\",\n        \"num_unique_values\": 89,\n        \"samples\": [\n          \"South Africa\",\n          \"Egypt\",\n          \"Taiwan\"\n        ],\n        \"semantic_type\": \"\",\n        \"description\": \"\"\n      }\n    },\n    {\n      \"column\": \"date\",\n      \"properties\": {\n        \"dtype\": \"object\",\n        \"num_unique_values\": 1300,\n        \"samples\": [\n          \"2015-01-28\",\n          \"2013-08-27\",\n          \"2011-07-20\"\n        ],\n        \"semantic_type\": \"\",\n        \"description\": \"\"\n      }\n    },\n    {\n      \"column\": \"content\",\n      \"properties\": {\n        \"dtype\": \"string\",\n        \"num_unique_values\": 4488,\n        \"samples\": [\n          \"From Auckland to Tianjin stop over in Hong Kong. With Air China between HKG and Tianjin Returning. Both flights were terrible. HKG to TSN cabin crews had no smile no greetings at all. During the meal service they forgot to provide my meal because the crew were busying chatting. On way back from TSN to HKG new Boeing 737-800 with Sky Interior. The service from male cabin crews seemed to be better than their female colleagues. Overall Air China may have nice planes but they showed no willingness to provide any customer service for their CA103/4.\",\n          \"QR845 12 March KUL-DOHA. QR237 DOH-IST. Return flight 23 March QR240. IST-DOH. QR844 DOH-KUL. Was given different seats from Doha to Istanbul although I have booked the seats and got a confirmation email from Qatar Airways resulting us being separated from each other. Tea and coffee were not offered and took quite a long time to get a cup of coffee after requested for one. On the flight back from Istanbul to Doha lunch took ages to be served. The air hostesses don't seem to move and was at the first 3 rows for almost 1 hour while those serving on the other side has already distributed to all passengers. Please improve.\",\n          \"Flew from Brussels-Dubai-Tokyo and back again a total of 34 hours on Emirates planes. Absolutely outstanding airline. The crew were immaculately turned out and very friendly. The plane was clean and the meals were delicious. The inflight entertainment was also very good with a wide choice of games/films though some of the older planes have a slightly less user friendly interface. One feature I liked was as your plane nears Dubai on the inflight entertainment screen you can see where your connecting flight gate/terminal is. Families with young kids also get complimentary strollers when they land.\"\n        ],\n        \"semantic_type\": \"\",\n        \"description\": \"\"\n      }\n    },\n    {\n      \"column\": \"aircraft\",\n      \"properties\": {\n        \"dtype\": \"category\",\n        \"num_unique_values\": 89,\n        \"samples\": [\n          \"Boeing 747 / Boeing 747\",\n          \"Boeing 777-200ER\",\n          \"Boeing 757\"\n        ],\n        \"semantic_type\": \"\",\n        \"description\": \"\"\n      }\n    },\n    {\n      \"column\": \"type_traveller\",\n      \"properties\": {\n        \"dtype\": \"category\",\n        \"num_unique_values\": 4,\n        \"samples\": [\n          \"Couple Leisure\",\n          \"FamilyLeisure\",\n          \"Solo Leisure\"\n        ],\n        \"semantic_type\": \"\",\n        \"description\": \"\"\n      }\n    },\n    {\n      \"column\": \"cabin_flown\",\n      \"properties\": {\n        \"dtype\": \"category\",\n        \"num_unique_values\": 4,\n        \"samples\": [\n          \"Business Class\",\n          \"First Class\",\n          \"Economy\"\n        ],\n        \"semantic_type\": \"\",\n        \"description\": \"\"\n      }\n    },\n    {\n      \"column\": \"route\",\n      \"properties\": {\n        \"dtype\": \"category\",\n        \"num_unique_values\": 256,\n        \"samples\": [\n          \"Johannesburg to Melbourne via Singapore\",\n          \"YWG-LHR via YYZ\",\n          \"Washington DC to Milan via Keflavik\"\n        ],\n        \"semantic_type\": \"\",\n        \"description\": \"\"\n      }\n    },\n    {\n      \"column\": \"overall_rating\",\n      \"properties\": {\n        \"dtype\": \"number\",\n        \"std\": 3.005129513235372,\n        \"min\": 1.0,\n        \"max\": 10.0,\n        \"num_unique_values\": 10,\n        \"samples\": [\n          5.0,\n          10.0,\n          2.0\n        ],\n        \"semantic_type\": \"\",\n        \"description\": \"\"\n      }\n    },\n    {\n      \"column\": \"seat_comfort_rating\",\n      \"properties\": {\n        \"dtype\": \"number\",\n        \"std\": 1.3463863545149246,\n        \"min\": 0.0,\n        \"max\": 5.0,\n        \"num_unique_values\": 6,\n        \"samples\": [\n          4.0,\n          5.0,\n          0.0\n        ],\n        \"semantic_type\": \"\",\n        \"description\": \"\"\n      }\n    },\n    {\n      \"column\": \"cabin_staff_rating\",\n      \"properties\": {\n        \"dtype\": \"number\",\n        \"std\": 1.4597056511406568,\n        \"min\": 0.0,\n        \"max\": 5.0,\n        \"num_unique_values\": 6,\n        \"samples\": [\n          4.0,\n          5.0,\n          0.0\n        ],\n        \"semantic_type\": \"\",\n        \"description\": \"\"\n      }\n    },\n    {\n      \"column\": \"food_beverages_rating\",\n      \"properties\": {\n        \"dtype\": \"number\",\n        \"std\": 1.5613421033886947,\n        \"min\": 0.0,\n        \"max\": 5.0,\n        \"num_unique_values\": 6,\n        \"samples\": [\n          4.0,\n          5.0,\n          2.0\n        ],\n        \"semantic_type\": \"\",\n        \"description\": \"\"\n      }\n    },\n    {\n      \"column\": \"inflight_entertainment_rating\",\n      \"properties\": {\n        \"dtype\": \"number\",\n        \"std\": 1.7275561991589912,\n        \"min\": 0.0,\n        \"max\": 5.0,\n        \"num_unique_values\": 6,\n        \"samples\": [\n          0.0,\n          1.0,\n          2.0\n        ],\n        \"semantic_type\": \"\",\n        \"description\": \"\"\n      }\n    },\n    {\n      \"column\": \"ground_service_rating\",\n      \"properties\": {\n        \"dtype\": \"number\",\n        \"std\": 1.4595597290467528,\n        \"min\": 1.0,\n        \"max\": 5.0,\n        \"num_unique_values\": 5,\n        \"samples\": [\n          1.0,\n          5.0,\n          2.0\n        ],\n        \"semantic_type\": \"\",\n        \"description\": \"\"\n      }\n    },\n    {\n      \"column\": \"wifi_connectivity_rating\",\n      \"properties\": {\n        \"dtype\": \"number\",\n        \"std\": 1.7009355714376186,\n        \"min\": 1.0,\n        \"max\": 5.0,\n        \"num_unique_values\": 5,\n        \"samples\": [\n          3.0,\n          2.0,\n          5.0\n        ],\n        \"semantic_type\": \"\",\n        \"description\": \"\"\n      }\n    },\n    {\n      \"column\": \"value_money_rating\",\n      \"properties\": {\n        \"dtype\": \"number\",\n        \"std\": 1.4400622350146677,\n        \"min\": 0.0,\n        \"max\": 5.0,\n        \"num_unique_values\": 6,\n        \"samples\": [\n          4.0,\n          5.0,\n          0.0\n        ],\n        \"semantic_type\": \"\",\n        \"description\": \"\"\n      }\n    },\n    {\n      \"column\": \"recommended\",\n      \"properties\": {\n        \"dtype\": \"number\",\n        \"std\": 0,\n        \"min\": 0,\n        \"max\": 1,\n        \"num_unique_values\": 2,\n        \"samples\": [\n          0,\n          1\n        ],\n        \"semantic_type\": \"\",\n        \"description\": \"\"\n      }\n    }\n  ]\n}"
            }
          },
          "metadata": {},
          "execution_count": 3
        }
      ],
      "source": [
        "airline = pd.read_csv('/content/drive/MyDrive/Python_Course_Sociology/Project_1/airline.csv')\n",
        "airline.head(3)"
      ]
    },
    {
      "cell_type": "markdown",
      "source": [
        "Проверим соответствие типов данных ожидаемым. Как видим ниже, почти все колонки имеют тот тип данных, который можно было бы ожидать. Однако столбик с датой имеет строковый тип, что не позволит проводить над ним нужные операции."
      ],
      "metadata": {
        "id": "lCtVG-tl2Oy0"
      }
    },
    {
      "cell_type": "code",
      "source": [
        "airline.info()"
      ],
      "metadata": {
        "colab": {
          "base_uri": "https://localhost:8080/"
        },
        "id": "27EbHhoUfXE4",
        "outputId": "520d019b-df5b-46f8-d845-93b6ea64733a"
      },
      "execution_count": 4,
      "outputs": [
        {
          "output_type": "stream",
          "name": "stdout",
          "text": [
            "<class 'pandas.core.frame.DataFrame'>\n",
            "RangeIndex: 4488 entries, 0 to 4487\n",
            "Data columns (total 20 columns):\n",
            " #   Column                         Non-Null Count  Dtype  \n",
            "---  ------                         --------------  -----  \n",
            " 0   airline_name                   4488 non-null   object \n",
            " 1   link                           4488 non-null   object \n",
            " 2   title                          4488 non-null   object \n",
            " 3   author                         4488 non-null   object \n",
            " 4   author_country                 4304 non-null   object \n",
            " 5   date                           4488 non-null   object \n",
            " 6   content                        4488 non-null   object \n",
            " 7   aircraft                       177 non-null    object \n",
            " 8   type_traveller                 263 non-null    object \n",
            " 9   cabin_flown                    4184 non-null   object \n",
            " 10  route                          258 non-null    object \n",
            " 11  overall_rating                 4115 non-null   float64\n",
            " 12  seat_comfort_rating            3523 non-null   float64\n",
            " 13  cabin_staff_rating             3523 non-null   float64\n",
            " 14  food_beverages_rating          3488 non-null   float64\n",
            " 15  inflight_entertainment_rating  3214 non-null   float64\n",
            " 16  ground_service_rating          235 non-null    float64\n",
            " 17  wifi_connectivity_rating       56 non-null     float64\n",
            " 18  value_money_rating             4294 non-null   float64\n",
            " 19  recommended                    4488 non-null   int64  \n",
            "dtypes: float64(8), int64(1), object(11)\n",
            "memory usage: 701.4+ KB\n"
          ]
        }
      ]
    },
    {
      "cell_type": "markdown",
      "source": [
        "Поправим колонку с датой: переведем из текста в дату в нужном формате \"год-месяц-день\"."
      ],
      "metadata": {
        "id": "L0_En-JJ5mHs"
      }
    },
    {
      "cell_type": "code",
      "source": [
        "airline['date'] = pd.to_datetime(airline.date, format='%Y-%m-%d')\n",
        "airline['date'].dtypes"
      ],
      "metadata": {
        "colab": {
          "base_uri": "https://localhost:8080/"
        },
        "id": "VzO29BS95DAC",
        "outputId": "bc47480d-a735-4396-9914-ff6dd0ede945"
      },
      "execution_count": 5,
      "outputs": [
        {
          "output_type": "execute_result",
          "data": {
            "text/plain": [
              "dtype('<M8[ns]')"
            ]
          },
          "metadata": {},
          "execution_count": 5
        }
      ]
    },
    {
      "cell_type": "markdown",
      "source": [
        "На всякий случай проведем базовую проверку на дубликаты в датафрейме. Возьмем колонку с текстом отзыва (\"content\") и проверим, нет ли в ней хотя бы одного дублирующегося один-в-один текста. (Конечно, таким образом можно обнаружить дубли, если два отзыва, например, состоят из одного и того же смайлика, но качество таких неинформативных отзывов сразу ставится под большое сомнение.)\n",
        "\n",
        "Как видим, все в порядке."
      ],
      "metadata": {
        "id": "0xHUSSBC6V59"
      }
    },
    {
      "cell_type": "code",
      "source": [
        "airline['content'].duplicated().any()"
      ],
      "metadata": {
        "colab": {
          "base_uri": "https://localhost:8080/"
        },
        "id": "LnqQkYFag-PY",
        "outputId": "59ce29cd-d493-48a1-c326-1431680e7c8f"
      },
      "execution_count": 6,
      "outputs": [
        {
          "output_type": "execute_result",
          "data": {
            "text/plain": [
              "np.False_"
            ]
          },
          "metadata": {},
          "execution_count": 6
        }
      ]
    },
    {
      "cell_type": "markdown",
      "source": [
        "Теперь давайте проверим, какие шкалы используются в количественных переменных.\n",
        "\n",
        "*   У совокупной оценки (\"overall_rating\") шкала от 1 до 10.\n",
        "*   Колонка с обозначением, рекомендует ли автор отзыва авиалинию или нет (\"recommended\"), по сути является бинарной (0 = нет, 1 = да) и могла бы быть приведена к булевскому виду, но не будем ее трогать и просто будем помнить ее бинарный характер.\n",
        "* Остальные колонки имеют шкалу от 0 до 5 (правда 0 в колонках с малым число значений просто не попадается)."
      ],
      "metadata": {
        "id": "q_GlGNtD658R"
      }
    },
    {
      "cell_type": "code",
      "source": [
        "airline.describe()"
      ],
      "metadata": {
        "colab": {
          "base_uri": "https://localhost:8080/",
          "height": 300
        },
        "id": "7kshdonDfoXk",
        "outputId": "077fd064-d327-4945-8270-6c9d932ab3d7"
      },
      "execution_count": 7,
      "outputs": [
        {
          "output_type": "execute_result",
          "data": {
            "text/plain": [
              "                                date  overall_rating  seat_comfort_rating  \\\n",
              "count                           4488     4115.000000          3523.000000   \n",
              "mean   2013-06-12 23:23:06.096256768        6.385419             3.243259   \n",
              "min              2003-03-25 00:00:00        1.000000             0.000000   \n",
              "25%              2012-08-07 00:00:00        4.000000             2.000000   \n",
              "50%              2013-12-15 00:00:00        7.000000             3.000000   \n",
              "75%              2014-09-19 00:00:00        9.000000             4.000000   \n",
              "max              2015-08-02 00:00:00       10.000000             5.000000   \n",
              "std                              NaN        3.005130             1.346386   \n",
              "\n",
              "       cabin_staff_rating  food_beverages_rating  \\\n",
              "count         3523.000000            3488.000000   \n",
              "mean             3.508941               2.882167   \n",
              "min              0.000000               0.000000   \n",
              "25%              3.000000               2.000000   \n",
              "50%              4.000000               3.000000   \n",
              "75%              5.000000               4.000000   \n",
              "max              5.000000               5.000000   \n",
              "std              1.459706               1.561342   \n",
              "\n",
              "       inflight_entertainment_rating  ground_service_rating  \\\n",
              "count                    3214.000000             235.000000   \n",
              "mean                        2.399502               3.221277   \n",
              "min                         0.000000               1.000000   \n",
              "25%                         1.000000               2.000000   \n",
              "50%                         2.000000               4.000000   \n",
              "75%                         4.000000               4.000000   \n",
              "max                         5.000000               5.000000   \n",
              "std                         1.727556               1.459560   \n",
              "\n",
              "       wifi_connectivity_rating  value_money_rating  recommended  \n",
              "count                 56.000000         4294.000000  4488.000000  \n",
              "mean                   2.625000            3.336516     0.602941  \n",
              "min                    1.000000            0.000000     0.000000  \n",
              "25%                    1.000000            2.000000     0.000000  \n",
              "50%                    2.000000            4.000000     1.000000  \n",
              "75%                    4.000000            4.000000     1.000000  \n",
              "max                    5.000000            5.000000     1.000000  \n",
              "std                    1.700936            1.440062     0.489343  "
            ],
            "text/html": [
              "\n",
              "  <div id=\"df-f718cd72-57a8-4b83-8765-149263581cc1\" class=\"colab-df-container\">\n",
              "    <div>\n",
              "<style scoped>\n",
              "    .dataframe tbody tr th:only-of-type {\n",
              "        vertical-align: middle;\n",
              "    }\n",
              "\n",
              "    .dataframe tbody tr th {\n",
              "        vertical-align: top;\n",
              "    }\n",
              "\n",
              "    .dataframe thead th {\n",
              "        text-align: right;\n",
              "    }\n",
              "</style>\n",
              "<table border=\"1\" class=\"dataframe\">\n",
              "  <thead>\n",
              "    <tr style=\"text-align: right;\">\n",
              "      <th></th>\n",
              "      <th>date</th>\n",
              "      <th>overall_rating</th>\n",
              "      <th>seat_comfort_rating</th>\n",
              "      <th>cabin_staff_rating</th>\n",
              "      <th>food_beverages_rating</th>\n",
              "      <th>inflight_entertainment_rating</th>\n",
              "      <th>ground_service_rating</th>\n",
              "      <th>wifi_connectivity_rating</th>\n",
              "      <th>value_money_rating</th>\n",
              "      <th>recommended</th>\n",
              "    </tr>\n",
              "  </thead>\n",
              "  <tbody>\n",
              "    <tr>\n",
              "      <th>count</th>\n",
              "      <td>4488</td>\n",
              "      <td>4115.000000</td>\n",
              "      <td>3523.000000</td>\n",
              "      <td>3523.000000</td>\n",
              "      <td>3488.000000</td>\n",
              "      <td>3214.000000</td>\n",
              "      <td>235.000000</td>\n",
              "      <td>56.000000</td>\n",
              "      <td>4294.000000</td>\n",
              "      <td>4488.000000</td>\n",
              "    </tr>\n",
              "    <tr>\n",
              "      <th>mean</th>\n",
              "      <td>2013-06-12 23:23:06.096256768</td>\n",
              "      <td>6.385419</td>\n",
              "      <td>3.243259</td>\n",
              "      <td>3.508941</td>\n",
              "      <td>2.882167</td>\n",
              "      <td>2.399502</td>\n",
              "      <td>3.221277</td>\n",
              "      <td>2.625000</td>\n",
              "      <td>3.336516</td>\n",
              "      <td>0.602941</td>\n",
              "    </tr>\n",
              "    <tr>\n",
              "      <th>min</th>\n",
              "      <td>2003-03-25 00:00:00</td>\n",
              "      <td>1.000000</td>\n",
              "      <td>0.000000</td>\n",
              "      <td>0.000000</td>\n",
              "      <td>0.000000</td>\n",
              "      <td>0.000000</td>\n",
              "      <td>1.000000</td>\n",
              "      <td>1.000000</td>\n",
              "      <td>0.000000</td>\n",
              "      <td>0.000000</td>\n",
              "    </tr>\n",
              "    <tr>\n",
              "      <th>25%</th>\n",
              "      <td>2012-08-07 00:00:00</td>\n",
              "      <td>4.000000</td>\n",
              "      <td>2.000000</td>\n",
              "      <td>3.000000</td>\n",
              "      <td>2.000000</td>\n",
              "      <td>1.000000</td>\n",
              "      <td>2.000000</td>\n",
              "      <td>1.000000</td>\n",
              "      <td>2.000000</td>\n",
              "      <td>0.000000</td>\n",
              "    </tr>\n",
              "    <tr>\n",
              "      <th>50%</th>\n",
              "      <td>2013-12-15 00:00:00</td>\n",
              "      <td>7.000000</td>\n",
              "      <td>3.000000</td>\n",
              "      <td>4.000000</td>\n",
              "      <td>3.000000</td>\n",
              "      <td>2.000000</td>\n",
              "      <td>4.000000</td>\n",
              "      <td>2.000000</td>\n",
              "      <td>4.000000</td>\n",
              "      <td>1.000000</td>\n",
              "    </tr>\n",
              "    <tr>\n",
              "      <th>75%</th>\n",
              "      <td>2014-09-19 00:00:00</td>\n",
              "      <td>9.000000</td>\n",
              "      <td>4.000000</td>\n",
              "      <td>5.000000</td>\n",
              "      <td>4.000000</td>\n",
              "      <td>4.000000</td>\n",
              "      <td>4.000000</td>\n",
              "      <td>4.000000</td>\n",
              "      <td>4.000000</td>\n",
              "      <td>1.000000</td>\n",
              "    </tr>\n",
              "    <tr>\n",
              "      <th>max</th>\n",
              "      <td>2015-08-02 00:00:00</td>\n",
              "      <td>10.000000</td>\n",
              "      <td>5.000000</td>\n",
              "      <td>5.000000</td>\n",
              "      <td>5.000000</td>\n",
              "      <td>5.000000</td>\n",
              "      <td>5.000000</td>\n",
              "      <td>5.000000</td>\n",
              "      <td>5.000000</td>\n",
              "      <td>1.000000</td>\n",
              "    </tr>\n",
              "    <tr>\n",
              "      <th>std</th>\n",
              "      <td>NaN</td>\n",
              "      <td>3.005130</td>\n",
              "      <td>1.346386</td>\n",
              "      <td>1.459706</td>\n",
              "      <td>1.561342</td>\n",
              "      <td>1.727556</td>\n",
              "      <td>1.459560</td>\n",
              "      <td>1.700936</td>\n",
              "      <td>1.440062</td>\n",
              "      <td>0.489343</td>\n",
              "    </tr>\n",
              "  </tbody>\n",
              "</table>\n",
              "</div>\n",
              "    <div class=\"colab-df-buttons\">\n",
              "\n",
              "  <div class=\"colab-df-container\">\n",
              "    <button class=\"colab-df-convert\" onclick=\"convertToInteractive('df-f718cd72-57a8-4b83-8765-149263581cc1')\"\n",
              "            title=\"Convert this dataframe to an interactive table.\"\n",
              "            style=\"display:none;\">\n",
              "\n",
              "  <svg xmlns=\"http://www.w3.org/2000/svg\" height=\"24px\" viewBox=\"0 -960 960 960\">\n",
              "    <path d=\"M120-120v-720h720v720H120Zm60-500h600v-160H180v160Zm220 220h160v-160H400v160Zm0 220h160v-160H400v160ZM180-400h160v-160H180v160Zm440 0h160v-160H620v160ZM180-180h160v-160H180v160Zm440 0h160v-160H620v160Z\"/>\n",
              "  </svg>\n",
              "    </button>\n",
              "\n",
              "  <style>\n",
              "    .colab-df-container {\n",
              "      display:flex;\n",
              "      gap: 12px;\n",
              "    }\n",
              "\n",
              "    .colab-df-convert {\n",
              "      background-color: #E8F0FE;\n",
              "      border: none;\n",
              "      border-radius: 50%;\n",
              "      cursor: pointer;\n",
              "      display: none;\n",
              "      fill: #1967D2;\n",
              "      height: 32px;\n",
              "      padding: 0 0 0 0;\n",
              "      width: 32px;\n",
              "    }\n",
              "\n",
              "    .colab-df-convert:hover {\n",
              "      background-color: #E2EBFA;\n",
              "      box-shadow: 0px 1px 2px rgba(60, 64, 67, 0.3), 0px 1px 3px 1px rgba(60, 64, 67, 0.15);\n",
              "      fill: #174EA6;\n",
              "    }\n",
              "\n",
              "    .colab-df-buttons div {\n",
              "      margin-bottom: 4px;\n",
              "    }\n",
              "\n",
              "    [theme=dark] .colab-df-convert {\n",
              "      background-color: #3B4455;\n",
              "      fill: #D2E3FC;\n",
              "    }\n",
              "\n",
              "    [theme=dark] .colab-df-convert:hover {\n",
              "      background-color: #434B5C;\n",
              "      box-shadow: 0px 1px 3px 1px rgba(0, 0, 0, 0.15);\n",
              "      filter: drop-shadow(0px 1px 2px rgba(0, 0, 0, 0.3));\n",
              "      fill: #FFFFFF;\n",
              "    }\n",
              "  </style>\n",
              "\n",
              "    <script>\n",
              "      const buttonEl =\n",
              "        document.querySelector('#df-f718cd72-57a8-4b83-8765-149263581cc1 button.colab-df-convert');\n",
              "      buttonEl.style.display =\n",
              "        google.colab.kernel.accessAllowed ? 'block' : 'none';\n",
              "\n",
              "      async function convertToInteractive(key) {\n",
              "        const element = document.querySelector('#df-f718cd72-57a8-4b83-8765-149263581cc1');\n",
              "        const dataTable =\n",
              "          await google.colab.kernel.invokeFunction('convertToInteractive',\n",
              "                                                    [key], {});\n",
              "        if (!dataTable) return;\n",
              "\n",
              "        const docLinkHtml = 'Like what you see? Visit the ' +\n",
              "          '<a target=\"_blank\" href=https://colab.research.google.com/notebooks/data_table.ipynb>data table notebook</a>'\n",
              "          + ' to learn more about interactive tables.';\n",
              "        element.innerHTML = '';\n",
              "        dataTable['output_type'] = 'display_data';\n",
              "        await google.colab.output.renderOutput(dataTable, element);\n",
              "        const docLink = document.createElement('div');\n",
              "        docLink.innerHTML = docLinkHtml;\n",
              "        element.appendChild(docLink);\n",
              "      }\n",
              "    </script>\n",
              "  </div>\n",
              "\n",
              "\n",
              "    <div id=\"df-8a467be8-d2ad-4cf9-b8ed-27ef657cd153\">\n",
              "      <button class=\"colab-df-quickchart\" onclick=\"quickchart('df-8a467be8-d2ad-4cf9-b8ed-27ef657cd153')\"\n",
              "                title=\"Suggest charts\"\n",
              "                style=\"display:none;\">\n",
              "\n",
              "<svg xmlns=\"http://www.w3.org/2000/svg\" height=\"24px\"viewBox=\"0 0 24 24\"\n",
              "     width=\"24px\">\n",
              "    <g>\n",
              "        <path d=\"M19 3H5c-1.1 0-2 .9-2 2v14c0 1.1.9 2 2 2h14c1.1 0 2-.9 2-2V5c0-1.1-.9-2-2-2zM9 17H7v-7h2v7zm4 0h-2V7h2v10zm4 0h-2v-4h2v4z\"/>\n",
              "    </g>\n",
              "</svg>\n",
              "      </button>\n",
              "\n",
              "<style>\n",
              "  .colab-df-quickchart {\n",
              "      --bg-color: #E8F0FE;\n",
              "      --fill-color: #1967D2;\n",
              "      --hover-bg-color: #E2EBFA;\n",
              "      --hover-fill-color: #174EA6;\n",
              "      --disabled-fill-color: #AAA;\n",
              "      --disabled-bg-color: #DDD;\n",
              "  }\n",
              "\n",
              "  [theme=dark] .colab-df-quickchart {\n",
              "      --bg-color: #3B4455;\n",
              "      --fill-color: #D2E3FC;\n",
              "      --hover-bg-color: #434B5C;\n",
              "      --hover-fill-color: #FFFFFF;\n",
              "      --disabled-bg-color: #3B4455;\n",
              "      --disabled-fill-color: #666;\n",
              "  }\n",
              "\n",
              "  .colab-df-quickchart {\n",
              "    background-color: var(--bg-color);\n",
              "    border: none;\n",
              "    border-radius: 50%;\n",
              "    cursor: pointer;\n",
              "    display: none;\n",
              "    fill: var(--fill-color);\n",
              "    height: 32px;\n",
              "    padding: 0;\n",
              "    width: 32px;\n",
              "  }\n",
              "\n",
              "  .colab-df-quickchart:hover {\n",
              "    background-color: var(--hover-bg-color);\n",
              "    box-shadow: 0 1px 2px rgba(60, 64, 67, 0.3), 0 1px 3px 1px rgba(60, 64, 67, 0.15);\n",
              "    fill: var(--button-hover-fill-color);\n",
              "  }\n",
              "\n",
              "  .colab-df-quickchart-complete:disabled,\n",
              "  .colab-df-quickchart-complete:disabled:hover {\n",
              "    background-color: var(--disabled-bg-color);\n",
              "    fill: var(--disabled-fill-color);\n",
              "    box-shadow: none;\n",
              "  }\n",
              "\n",
              "  .colab-df-spinner {\n",
              "    border: 2px solid var(--fill-color);\n",
              "    border-color: transparent;\n",
              "    border-bottom-color: var(--fill-color);\n",
              "    animation:\n",
              "      spin 1s steps(1) infinite;\n",
              "  }\n",
              "\n",
              "  @keyframes spin {\n",
              "    0% {\n",
              "      border-color: transparent;\n",
              "      border-bottom-color: var(--fill-color);\n",
              "      border-left-color: var(--fill-color);\n",
              "    }\n",
              "    20% {\n",
              "      border-color: transparent;\n",
              "      border-left-color: var(--fill-color);\n",
              "      border-top-color: var(--fill-color);\n",
              "    }\n",
              "    30% {\n",
              "      border-color: transparent;\n",
              "      border-left-color: var(--fill-color);\n",
              "      border-top-color: var(--fill-color);\n",
              "      border-right-color: var(--fill-color);\n",
              "    }\n",
              "    40% {\n",
              "      border-color: transparent;\n",
              "      border-right-color: var(--fill-color);\n",
              "      border-top-color: var(--fill-color);\n",
              "    }\n",
              "    60% {\n",
              "      border-color: transparent;\n",
              "      border-right-color: var(--fill-color);\n",
              "    }\n",
              "    80% {\n",
              "      border-color: transparent;\n",
              "      border-right-color: var(--fill-color);\n",
              "      border-bottom-color: var(--fill-color);\n",
              "    }\n",
              "    90% {\n",
              "      border-color: transparent;\n",
              "      border-bottom-color: var(--fill-color);\n",
              "    }\n",
              "  }\n",
              "</style>\n",
              "\n",
              "      <script>\n",
              "        async function quickchart(key) {\n",
              "          const quickchartButtonEl =\n",
              "            document.querySelector('#' + key + ' button');\n",
              "          quickchartButtonEl.disabled = true;  // To prevent multiple clicks.\n",
              "          quickchartButtonEl.classList.add('colab-df-spinner');\n",
              "          try {\n",
              "            const charts = await google.colab.kernel.invokeFunction(\n",
              "                'suggestCharts', [key], {});\n",
              "          } catch (error) {\n",
              "            console.error('Error during call to suggestCharts:', error);\n",
              "          }\n",
              "          quickchartButtonEl.classList.remove('colab-df-spinner');\n",
              "          quickchartButtonEl.classList.add('colab-df-quickchart-complete');\n",
              "        }\n",
              "        (() => {\n",
              "          let quickchartButtonEl =\n",
              "            document.querySelector('#df-8a467be8-d2ad-4cf9-b8ed-27ef657cd153 button');\n",
              "          quickchartButtonEl.style.display =\n",
              "            google.colab.kernel.accessAllowed ? 'block' : 'none';\n",
              "        })();\n",
              "      </script>\n",
              "    </div>\n",
              "    </div>\n",
              "  </div>\n"
            ],
            "application/vnd.google.colaboratory.intrinsic+json": {
              "type": "dataframe",
              "summary": "{\n  \"name\": \"airline\",\n  \"rows\": 8,\n  \"fields\": [\n    {\n      \"column\": \"date\",\n      \"properties\": {\n        \"dtype\": \"date\",\n        \"min\": \"1970-01-01 00:00:00.000004488\",\n        \"max\": \"2015-08-02 00:00:00\",\n        \"num_unique_values\": 7,\n        \"samples\": [\n          \"4488\",\n          \"2013-06-12 23:23:06.096256768\",\n          \"2014-09-19 00:00:00\"\n        ],\n        \"semantic_type\": \"\",\n        \"description\": \"\"\n      }\n    },\n    {\n      \"column\": \"overall_rating\",\n      \"properties\": {\n        \"dtype\": \"number\",\n        \"std\": 1452.8353056716292,\n        \"min\": 1.0,\n        \"max\": 4115.0,\n        \"num_unique_values\": 8,\n        \"samples\": [\n          6.385419198055893,\n          9.0,\n          4115.0\n        ],\n        \"semantic_type\": \"\",\n        \"description\": \"\"\n      }\n    },\n    {\n      \"column\": \"seat_comfort_rating\",\n      \"properties\": {\n        \"dtype\": \"number\",\n        \"std\": 1244.6306497361466,\n        \"min\": 0.0,\n        \"max\": 3523.0,\n        \"num_unique_values\": 8,\n        \"samples\": [\n          3.243258586432018,\n          4.0,\n          3523.0\n        ],\n        \"semantic_type\": \"\",\n        \"description\": \"\"\n      }\n    },\n    {\n      \"column\": \"cabin_staff_rating\",\n      \"properties\": {\n        \"dtype\": \"number\",\n        \"std\": 1244.4601873317374,\n        \"min\": 0.0,\n        \"max\": 3523.0,\n        \"num_unique_values\": 7,\n        \"samples\": [\n          3523.0,\n          3.5089412432585863,\n          5.0\n        ],\n        \"semantic_type\": \"\",\n        \"description\": \"\"\n      }\n    },\n    {\n      \"column\": \"food_beverages_rating\",\n      \"properties\": {\n        \"dtype\": \"number\",\n        \"std\": 1232.2636246230302,\n        \"min\": 0.0,\n        \"max\": 3488.0,\n        \"num_unique_values\": 8,\n        \"samples\": [\n          2.8821674311926606,\n          4.0,\n          3488.0\n        ],\n        \"semantic_type\": \"\",\n        \"description\": \"\"\n      }\n    },\n    {\n      \"column\": \"inflight_entertainment_rating\",\n      \"properties\": {\n        \"dtype\": \"number\",\n        \"std\": 1135.5071642476146,\n        \"min\": 0.0,\n        \"max\": 3214.0,\n        \"num_unique_values\": 8,\n        \"samples\": [\n          2.3995021779713754,\n          4.0,\n          3214.0\n        ],\n        \"semantic_type\": \"\",\n        \"description\": \"\"\n      }\n    },\n    {\n      \"column\": \"ground_service_rating\",\n      \"properties\": {\n        \"dtype\": \"number\",\n        \"std\": 82.05217911230184,\n        \"min\": 1.0,\n        \"max\": 235.0,\n        \"num_unique_values\": 7,\n        \"samples\": [\n          235.0,\n          3.2212765957446807,\n          5.0\n        ],\n        \"semantic_type\": \"\",\n        \"description\": \"\"\n      }\n    },\n    {\n      \"column\": \"wifi_connectivity_rating\",\n      \"properties\": {\n        \"dtype\": \"number\",\n        \"std\": 18.976290482711967,\n        \"min\": 1.0,\n        \"max\": 56.0,\n        \"num_unique_values\": 7,\n        \"samples\": [\n          56.0,\n          2.625,\n          5.0\n        ],\n        \"semantic_type\": \"\",\n        \"description\": \"\"\n      }\n    },\n    {\n      \"column\": \"value_money_rating\",\n      \"properties\": {\n        \"dtype\": \"number\",\n        \"std\": 1517.1602542804508,\n        \"min\": 0.0,\n        \"max\": 4294.0,\n        \"num_unique_values\": 7,\n        \"samples\": [\n          4294.0,\n          3.3365160689333955,\n          5.0\n        ],\n        \"semantic_type\": \"\",\n        \"description\": \"\"\n      }\n    },\n    {\n      \"column\": \"recommended\",\n      \"properties\": {\n        \"dtype\": \"number\",\n        \"std\": 1586.5409799271579,\n        \"min\": 0.0,\n        \"max\": 4488.0,\n        \"num_unique_values\": 5,\n        \"samples\": [\n          0.6029411764705882,\n          0.48934289513086343,\n          0.0\n        ],\n        \"semantic_type\": \"\",\n        \"description\": \"\"\n      }\n    }\n  ]\n}"
            }
          },
          "metadata": {},
          "execution_count": 7
        }
      ]
    },
    {
      "cell_type": "markdown",
      "source": [
        "Учитывая, что совокупная оценка и более узкие оценки имеют разную шкалу, есть смысл проверить стабильность шкалы совокупной оценки: во все ли годы она была от 1 до 10 или же это ввели в какой-то момент?\n",
        "\n",
        "Как видим ниже, шкала была стабильной, хотя, конечно, в 2007 и 2008 году максимальная реальная оценка в данных не была 10, но, видимо, это результат малого числа отзывов (которые написали не очень довольные пассажиры)."
      ],
      "metadata": {
        "id": "SEk4KiKx-z-X"
      }
    },
    {
      "cell_type": "code",
      "source": [
        "airline.groupby(airline.date.dt.year).agg(Min  = ('overall_rating', 'min'),\n",
        "                                          Mean = ('overall_rating', 'mean'),\n",
        "                                          Max  = ('overall_rating', 'max'),\n",
        "                                          N    = ('overall_rating', 'count')\n",
        "                                          )"
      ],
      "metadata": {
        "colab": {
          "base_uri": "https://localhost:8080/",
          "height": 488
        },
        "id": "mb6UkHZ48uby",
        "outputId": "e38f98cb-774d-4727-97bd-1347aff22d3c"
      },
      "execution_count": 8,
      "outputs": [
        {
          "output_type": "execute_result",
          "data": {
            "text/plain": [
              "      Min      Mean   Max     N\n",
              "date                           \n",
              "2003  NaN       NaN   NaN     0\n",
              "2004  NaN       NaN   NaN     0\n",
              "2005  NaN       NaN   NaN     0\n",
              "2006  NaN       NaN   NaN     0\n",
              "2007  1.0  3.250000   4.0    16\n",
              "2008  1.0  4.055556   8.0    54\n",
              "2009  1.0  5.703297  10.0    91\n",
              "2010  1.0  6.527473  10.0   182\n",
              "2011  1.0  6.941504  10.0   359\n",
              "2012  1.0  6.566667  10.0   510\n",
              "2013  1.0  6.689737  10.0   838\n",
              "2014  1.0  6.218462  10.0  1300\n",
              "2015  1.0  6.231373  10.0   765"
            ],
            "text/html": [
              "\n",
              "  <div id=\"df-ef84ac3d-b4ee-4c67-bec4-2ecb6a33abfa\" class=\"colab-df-container\">\n",
              "    <div>\n",
              "<style scoped>\n",
              "    .dataframe tbody tr th:only-of-type {\n",
              "        vertical-align: middle;\n",
              "    }\n",
              "\n",
              "    .dataframe tbody tr th {\n",
              "        vertical-align: top;\n",
              "    }\n",
              "\n",
              "    .dataframe thead th {\n",
              "        text-align: right;\n",
              "    }\n",
              "</style>\n",
              "<table border=\"1\" class=\"dataframe\">\n",
              "  <thead>\n",
              "    <tr style=\"text-align: right;\">\n",
              "      <th></th>\n",
              "      <th>Min</th>\n",
              "      <th>Mean</th>\n",
              "      <th>Max</th>\n",
              "      <th>N</th>\n",
              "    </tr>\n",
              "    <tr>\n",
              "      <th>date</th>\n",
              "      <th></th>\n",
              "      <th></th>\n",
              "      <th></th>\n",
              "      <th></th>\n",
              "    </tr>\n",
              "  </thead>\n",
              "  <tbody>\n",
              "    <tr>\n",
              "      <th>2003</th>\n",
              "      <td>NaN</td>\n",
              "      <td>NaN</td>\n",
              "      <td>NaN</td>\n",
              "      <td>0</td>\n",
              "    </tr>\n",
              "    <tr>\n",
              "      <th>2004</th>\n",
              "      <td>NaN</td>\n",
              "      <td>NaN</td>\n",
              "      <td>NaN</td>\n",
              "      <td>0</td>\n",
              "    </tr>\n",
              "    <tr>\n",
              "      <th>2005</th>\n",
              "      <td>NaN</td>\n",
              "      <td>NaN</td>\n",
              "      <td>NaN</td>\n",
              "      <td>0</td>\n",
              "    </tr>\n",
              "    <tr>\n",
              "      <th>2006</th>\n",
              "      <td>NaN</td>\n",
              "      <td>NaN</td>\n",
              "      <td>NaN</td>\n",
              "      <td>0</td>\n",
              "    </tr>\n",
              "    <tr>\n",
              "      <th>2007</th>\n",
              "      <td>1.0</td>\n",
              "      <td>3.250000</td>\n",
              "      <td>4.0</td>\n",
              "      <td>16</td>\n",
              "    </tr>\n",
              "    <tr>\n",
              "      <th>2008</th>\n",
              "      <td>1.0</td>\n",
              "      <td>4.055556</td>\n",
              "      <td>8.0</td>\n",
              "      <td>54</td>\n",
              "    </tr>\n",
              "    <tr>\n",
              "      <th>2009</th>\n",
              "      <td>1.0</td>\n",
              "      <td>5.703297</td>\n",
              "      <td>10.0</td>\n",
              "      <td>91</td>\n",
              "    </tr>\n",
              "    <tr>\n",
              "      <th>2010</th>\n",
              "      <td>1.0</td>\n",
              "      <td>6.527473</td>\n",
              "      <td>10.0</td>\n",
              "      <td>182</td>\n",
              "    </tr>\n",
              "    <tr>\n",
              "      <th>2011</th>\n",
              "      <td>1.0</td>\n",
              "      <td>6.941504</td>\n",
              "      <td>10.0</td>\n",
              "      <td>359</td>\n",
              "    </tr>\n",
              "    <tr>\n",
              "      <th>2012</th>\n",
              "      <td>1.0</td>\n",
              "      <td>6.566667</td>\n",
              "      <td>10.0</td>\n",
              "      <td>510</td>\n",
              "    </tr>\n",
              "    <tr>\n",
              "      <th>2013</th>\n",
              "      <td>1.0</td>\n",
              "      <td>6.689737</td>\n",
              "      <td>10.0</td>\n",
              "      <td>838</td>\n",
              "    </tr>\n",
              "    <tr>\n",
              "      <th>2014</th>\n",
              "      <td>1.0</td>\n",
              "      <td>6.218462</td>\n",
              "      <td>10.0</td>\n",
              "      <td>1300</td>\n",
              "    </tr>\n",
              "    <tr>\n",
              "      <th>2015</th>\n",
              "      <td>1.0</td>\n",
              "      <td>6.231373</td>\n",
              "      <td>10.0</td>\n",
              "      <td>765</td>\n",
              "    </tr>\n",
              "  </tbody>\n",
              "</table>\n",
              "</div>\n",
              "    <div class=\"colab-df-buttons\">\n",
              "\n",
              "  <div class=\"colab-df-container\">\n",
              "    <button class=\"colab-df-convert\" onclick=\"convertToInteractive('df-ef84ac3d-b4ee-4c67-bec4-2ecb6a33abfa')\"\n",
              "            title=\"Convert this dataframe to an interactive table.\"\n",
              "            style=\"display:none;\">\n",
              "\n",
              "  <svg xmlns=\"http://www.w3.org/2000/svg\" height=\"24px\" viewBox=\"0 -960 960 960\">\n",
              "    <path d=\"M120-120v-720h720v720H120Zm60-500h600v-160H180v160Zm220 220h160v-160H400v160Zm0 220h160v-160H400v160ZM180-400h160v-160H180v160Zm440 0h160v-160H620v160ZM180-180h160v-160H180v160Zm440 0h160v-160H620v160Z\"/>\n",
              "  </svg>\n",
              "    </button>\n",
              "\n",
              "  <style>\n",
              "    .colab-df-container {\n",
              "      display:flex;\n",
              "      gap: 12px;\n",
              "    }\n",
              "\n",
              "    .colab-df-convert {\n",
              "      background-color: #E8F0FE;\n",
              "      border: none;\n",
              "      border-radius: 50%;\n",
              "      cursor: pointer;\n",
              "      display: none;\n",
              "      fill: #1967D2;\n",
              "      height: 32px;\n",
              "      padding: 0 0 0 0;\n",
              "      width: 32px;\n",
              "    }\n",
              "\n",
              "    .colab-df-convert:hover {\n",
              "      background-color: #E2EBFA;\n",
              "      box-shadow: 0px 1px 2px rgba(60, 64, 67, 0.3), 0px 1px 3px 1px rgba(60, 64, 67, 0.15);\n",
              "      fill: #174EA6;\n",
              "    }\n",
              "\n",
              "    .colab-df-buttons div {\n",
              "      margin-bottom: 4px;\n",
              "    }\n",
              "\n",
              "    [theme=dark] .colab-df-convert {\n",
              "      background-color: #3B4455;\n",
              "      fill: #D2E3FC;\n",
              "    }\n",
              "\n",
              "    [theme=dark] .colab-df-convert:hover {\n",
              "      background-color: #434B5C;\n",
              "      box-shadow: 0px 1px 3px 1px rgba(0, 0, 0, 0.15);\n",
              "      filter: drop-shadow(0px 1px 2px rgba(0, 0, 0, 0.3));\n",
              "      fill: #FFFFFF;\n",
              "    }\n",
              "  </style>\n",
              "\n",
              "    <script>\n",
              "      const buttonEl =\n",
              "        document.querySelector('#df-ef84ac3d-b4ee-4c67-bec4-2ecb6a33abfa button.colab-df-convert');\n",
              "      buttonEl.style.display =\n",
              "        google.colab.kernel.accessAllowed ? 'block' : 'none';\n",
              "\n",
              "      async function convertToInteractive(key) {\n",
              "        const element = document.querySelector('#df-ef84ac3d-b4ee-4c67-bec4-2ecb6a33abfa');\n",
              "        const dataTable =\n",
              "          await google.colab.kernel.invokeFunction('convertToInteractive',\n",
              "                                                    [key], {});\n",
              "        if (!dataTable) return;\n",
              "\n",
              "        const docLinkHtml = 'Like what you see? Visit the ' +\n",
              "          '<a target=\"_blank\" href=https://colab.research.google.com/notebooks/data_table.ipynb>data table notebook</a>'\n",
              "          + ' to learn more about interactive tables.';\n",
              "        element.innerHTML = '';\n",
              "        dataTable['output_type'] = 'display_data';\n",
              "        await google.colab.output.renderOutput(dataTable, element);\n",
              "        const docLink = document.createElement('div');\n",
              "        docLink.innerHTML = docLinkHtml;\n",
              "        element.appendChild(docLink);\n",
              "      }\n",
              "    </script>\n",
              "  </div>\n",
              "\n",
              "\n",
              "    <div id=\"df-8b04994e-5481-4e88-829c-a1e4469ef9b3\">\n",
              "      <button class=\"colab-df-quickchart\" onclick=\"quickchart('df-8b04994e-5481-4e88-829c-a1e4469ef9b3')\"\n",
              "                title=\"Suggest charts\"\n",
              "                style=\"display:none;\">\n",
              "\n",
              "<svg xmlns=\"http://www.w3.org/2000/svg\" height=\"24px\"viewBox=\"0 0 24 24\"\n",
              "     width=\"24px\">\n",
              "    <g>\n",
              "        <path d=\"M19 3H5c-1.1 0-2 .9-2 2v14c0 1.1.9 2 2 2h14c1.1 0 2-.9 2-2V5c0-1.1-.9-2-2-2zM9 17H7v-7h2v7zm4 0h-2V7h2v10zm4 0h-2v-4h2v4z\"/>\n",
              "    </g>\n",
              "</svg>\n",
              "      </button>\n",
              "\n",
              "<style>\n",
              "  .colab-df-quickchart {\n",
              "      --bg-color: #E8F0FE;\n",
              "      --fill-color: #1967D2;\n",
              "      --hover-bg-color: #E2EBFA;\n",
              "      --hover-fill-color: #174EA6;\n",
              "      --disabled-fill-color: #AAA;\n",
              "      --disabled-bg-color: #DDD;\n",
              "  }\n",
              "\n",
              "  [theme=dark] .colab-df-quickchart {\n",
              "      --bg-color: #3B4455;\n",
              "      --fill-color: #D2E3FC;\n",
              "      --hover-bg-color: #434B5C;\n",
              "      --hover-fill-color: #FFFFFF;\n",
              "      --disabled-bg-color: #3B4455;\n",
              "      --disabled-fill-color: #666;\n",
              "  }\n",
              "\n",
              "  .colab-df-quickchart {\n",
              "    background-color: var(--bg-color);\n",
              "    border: none;\n",
              "    border-radius: 50%;\n",
              "    cursor: pointer;\n",
              "    display: none;\n",
              "    fill: var(--fill-color);\n",
              "    height: 32px;\n",
              "    padding: 0;\n",
              "    width: 32px;\n",
              "  }\n",
              "\n",
              "  .colab-df-quickchart:hover {\n",
              "    background-color: var(--hover-bg-color);\n",
              "    box-shadow: 0 1px 2px rgba(60, 64, 67, 0.3), 0 1px 3px 1px rgba(60, 64, 67, 0.15);\n",
              "    fill: var(--button-hover-fill-color);\n",
              "  }\n",
              "\n",
              "  .colab-df-quickchart-complete:disabled,\n",
              "  .colab-df-quickchart-complete:disabled:hover {\n",
              "    background-color: var(--disabled-bg-color);\n",
              "    fill: var(--disabled-fill-color);\n",
              "    box-shadow: none;\n",
              "  }\n",
              "\n",
              "  .colab-df-spinner {\n",
              "    border: 2px solid var(--fill-color);\n",
              "    border-color: transparent;\n",
              "    border-bottom-color: var(--fill-color);\n",
              "    animation:\n",
              "      spin 1s steps(1) infinite;\n",
              "  }\n",
              "\n",
              "  @keyframes spin {\n",
              "    0% {\n",
              "      border-color: transparent;\n",
              "      border-bottom-color: var(--fill-color);\n",
              "      border-left-color: var(--fill-color);\n",
              "    }\n",
              "    20% {\n",
              "      border-color: transparent;\n",
              "      border-left-color: var(--fill-color);\n",
              "      border-top-color: var(--fill-color);\n",
              "    }\n",
              "    30% {\n",
              "      border-color: transparent;\n",
              "      border-left-color: var(--fill-color);\n",
              "      border-top-color: var(--fill-color);\n",
              "      border-right-color: var(--fill-color);\n",
              "    }\n",
              "    40% {\n",
              "      border-color: transparent;\n",
              "      border-right-color: var(--fill-color);\n",
              "      border-top-color: var(--fill-color);\n",
              "    }\n",
              "    60% {\n",
              "      border-color: transparent;\n",
              "      border-right-color: var(--fill-color);\n",
              "    }\n",
              "    80% {\n",
              "      border-color: transparent;\n",
              "      border-right-color: var(--fill-color);\n",
              "      border-bottom-color: var(--fill-color);\n",
              "    }\n",
              "    90% {\n",
              "      border-color: transparent;\n",
              "      border-bottom-color: var(--fill-color);\n",
              "    }\n",
              "  }\n",
              "</style>\n",
              "\n",
              "      <script>\n",
              "        async function quickchart(key) {\n",
              "          const quickchartButtonEl =\n",
              "            document.querySelector('#' + key + ' button');\n",
              "          quickchartButtonEl.disabled = true;  // To prevent multiple clicks.\n",
              "          quickchartButtonEl.classList.add('colab-df-spinner');\n",
              "          try {\n",
              "            const charts = await google.colab.kernel.invokeFunction(\n",
              "                'suggestCharts', [key], {});\n",
              "          } catch (error) {\n",
              "            console.error('Error during call to suggestCharts:', error);\n",
              "          }\n",
              "          quickchartButtonEl.classList.remove('colab-df-spinner');\n",
              "          quickchartButtonEl.classList.add('colab-df-quickchart-complete');\n",
              "        }\n",
              "        (() => {\n",
              "          let quickchartButtonEl =\n",
              "            document.querySelector('#df-8b04994e-5481-4e88-829c-a1e4469ef9b3 button');\n",
              "          quickchartButtonEl.style.display =\n",
              "            google.colab.kernel.accessAllowed ? 'block' : 'none';\n",
              "        })();\n",
              "      </script>\n",
              "    </div>\n",
              "    </div>\n",
              "  </div>\n"
            ],
            "application/vnd.google.colaboratory.intrinsic+json": {
              "type": "dataframe",
              "summary": "{\n  \"name\": \"                                          )\",\n  \"rows\": 13,\n  \"fields\": [\n    {\n      \"column\": \"date\",\n      \"properties\": {\n        \"dtype\": \"int32\",\n        \"num_unique_values\": 13,\n        \"samples\": [\n          2014,\n          2012,\n          2003\n        ],\n        \"semantic_type\": \"\",\n        \"description\": \"\"\n      }\n    },\n    {\n      \"column\": \"Min\",\n      \"properties\": {\n        \"dtype\": \"number\",\n        \"std\": 0.0,\n        \"min\": 1.0,\n        \"max\": 1.0,\n        \"num_unique_values\": 1,\n        \"samples\": [\n          1.0\n        ],\n        \"semantic_type\": \"\",\n        \"description\": \"\"\n      }\n    },\n    {\n      \"column\": \"Mean\",\n      \"properties\": {\n        \"dtype\": \"number\",\n        \"std\": 1.281003546411588,\n        \"min\": 3.25,\n        \"max\": 6.9415041782729805,\n        \"num_unique_values\": 9,\n        \"samples\": [\n          6.218461538461538\n        ],\n        \"semantic_type\": \"\",\n        \"description\": \"\"\n      }\n    },\n    {\n      \"column\": \"Max\",\n      \"properties\": {\n        \"dtype\": \"number\",\n        \"std\": 2.0275875100994063,\n        \"min\": 4.0,\n        \"max\": 10.0,\n        \"num_unique_values\": 3,\n        \"samples\": [\n          4.0\n        ],\n        \"semantic_type\": \"\",\n        \"description\": \"\"\n      }\n    },\n    {\n      \"column\": \"N\",\n      \"properties\": {\n        \"dtype\": \"number\",\n        \"std\": 419,\n        \"min\": 0,\n        \"max\": 1300,\n        \"num_unique_values\": 10,\n        \"samples\": [\n          1300\n        ],\n        \"semantic_type\": \"\",\n        \"description\": \"\"\n      }\n    }\n  ]\n}"
            }
          },
          "metadata": {},
          "execution_count": 8
        }
      ]
    },
    {
      "cell_type": "markdown",
      "source": [
        "# Вопрос 1: Пассажиры из какого географического региона имеют наименьшую совокупную удовлетворенность полетом?"
      ],
      "metadata": {
        "id": "c0D-7VwTeZYO"
      }
    },
    {
      "cell_type": "markdown",
      "source": [
        "## Обоснование\n",
        "\n",
        "Итак, клиент хочет найти какую-то нишу, в которой существующие авиакомпании по какой-то причине не очень успешные. Один из вариантов — найти такую целевую аудиторию пассажиров, которая наименее удовлетворена полетами. У нас мало контекстуальной информации в датасате, но есть страна пассажира.\n",
        "\n",
        "Потенциально можно было бы найти, из каких стран пассажиры меньше всего удовлетворены полетами, но сравнение по странам не очень удобное. Давайте посмотрим ниже, почему это так.\n",
        "\n",
        "Во-первых, для тех отзывов, у которых есть совокупная оценка удовлетворенности, у нас в датафрейме 87 стран, это явно слишком много — что для табличного сравнения, что для визуализации, что для применения стат. тестов."
      ],
      "metadata": {
        "id": "G2hzmWd8C-je"
      }
    },
    {
      "cell_type": "code",
      "source": [
        "airline_with_overall_rating = airline[airline['overall_rating'].notnull()] # отбор рецензий, у которых есть совокупная оценка удовлетворенности!\n",
        "airline_with_overall_rating['author_country'].nunique()"
      ],
      "metadata": {
        "colab": {
          "base_uri": "https://localhost:8080/"
        },
        "id": "nB7xolAdeY9V",
        "outputId": "8295cf9a-5967-449b-fe9d-cb409accde5e"
      },
      "execution_count": 9,
      "outputs": [
        {
          "output_type": "execute_result",
          "data": {
            "text/plain": [
              "87"
            ]
          },
          "metadata": {},
          "execution_count": 9
        }
      ]
    },
    {
      "cell_type": "markdown",
      "source": [
        "Во-вторых, у нас явный перекос в кол-ве оценок по странам, у одних стран их очень много, а у других стран может быть по одному отзыву. Сопоставления будут некорректными.\n",
        "\n",
        "Конечно, мы можем ввести какое-то граничное значение и отсечь большинство стран с маленьким кол-вом отзывов, но это утеря информации. Поэтому есть смысл соотнести страны с географическими регионами и сравнить регионы между собой."
      ],
      "metadata": {
        "id": "m0eLyVlF0QuN"
      }
    },
    {
      "cell_type": "code",
      "source": [
        "airline_with_overall_rating['author_country'].value_counts(sort = True)"
      ],
      "metadata": {
        "colab": {
          "base_uri": "https://localhost:8080/",
          "height": 489
        },
        "id": "7l2jU7pRhnKj",
        "outputId": "eee62a8e-7b45-4047-949a-7ee9cdd0954b"
      },
      "execution_count": 10,
      "outputs": [
        {
          "output_type": "execute_result",
          "data": {
            "text/plain": [
              "author_country\n",
              "United Kingdom       1140\n",
              "United States         704\n",
              "Australia             533\n",
              "Canada                290\n",
              "Germany               113\n",
              "                     ... \n",
              "Nepal                   1\n",
              "Trinidad & Tobago       1\n",
              "Ecuador                 1\n",
              "Angola                  1\n",
              "Peru                    1\n",
              "Name: count, Length: 87, dtype: int64"
            ],
            "text/html": [
              "<div>\n",
              "<style scoped>\n",
              "    .dataframe tbody tr th:only-of-type {\n",
              "        vertical-align: middle;\n",
              "    }\n",
              "\n",
              "    .dataframe tbody tr th {\n",
              "        vertical-align: top;\n",
              "    }\n",
              "\n",
              "    .dataframe thead th {\n",
              "        text-align: right;\n",
              "    }\n",
              "</style>\n",
              "<table border=\"1\" class=\"dataframe\">\n",
              "  <thead>\n",
              "    <tr style=\"text-align: right;\">\n",
              "      <th></th>\n",
              "      <th>count</th>\n",
              "    </tr>\n",
              "    <tr>\n",
              "      <th>author_country</th>\n",
              "      <th></th>\n",
              "    </tr>\n",
              "  </thead>\n",
              "  <tbody>\n",
              "    <tr>\n",
              "      <th>United Kingdom</th>\n",
              "      <td>1140</td>\n",
              "    </tr>\n",
              "    <tr>\n",
              "      <th>United States</th>\n",
              "      <td>704</td>\n",
              "    </tr>\n",
              "    <tr>\n",
              "      <th>Australia</th>\n",
              "      <td>533</td>\n",
              "    </tr>\n",
              "    <tr>\n",
              "      <th>Canada</th>\n",
              "      <td>290</td>\n",
              "    </tr>\n",
              "    <tr>\n",
              "      <th>Germany</th>\n",
              "      <td>113</td>\n",
              "    </tr>\n",
              "    <tr>\n",
              "      <th>...</th>\n",
              "      <td>...</td>\n",
              "    </tr>\n",
              "    <tr>\n",
              "      <th>Nepal</th>\n",
              "      <td>1</td>\n",
              "    </tr>\n",
              "    <tr>\n",
              "      <th>Trinidad &amp; Tobago</th>\n",
              "      <td>1</td>\n",
              "    </tr>\n",
              "    <tr>\n",
              "      <th>Ecuador</th>\n",
              "      <td>1</td>\n",
              "    </tr>\n",
              "    <tr>\n",
              "      <th>Angola</th>\n",
              "      <td>1</td>\n",
              "    </tr>\n",
              "    <tr>\n",
              "      <th>Peru</th>\n",
              "      <td>1</td>\n",
              "    </tr>\n",
              "  </tbody>\n",
              "</table>\n",
              "<p>87 rows × 1 columns</p>\n",
              "</div><br><label><b>dtype:</b> int64</label>"
            ]
          },
          "metadata": {},
          "execution_count": 10
        }
      ]
    },
    {
      "cell_type": "markdown",
      "source": [
        "## Соотнесем страны и регионы\n",
        "\n",
        "Для начала давайте получим список стран, которые мы хотим сопоставить с географическими регионами."
      ],
      "metadata": {
        "id": "e3rO9y5YEBAm"
      }
    },
    {
      "cell_type": "code",
      "source": [
        "country_list = airline_with_overall_rating['author_country'].dropna().unique()\n",
        "print(sorted(country_list))"
      ],
      "metadata": {
        "colab": {
          "base_uri": "https://localhost:8080/"
        },
        "id": "BNHHZqXjhbWK",
        "outputId": "86e3f3d6-223c-4b62-c5ca-97986a9c0aa9"
      },
      "execution_count": 11,
      "outputs": [
        {
          "output_type": "stream",
          "name": "stdout",
          "text": [
            "['Angola', 'Argentina', 'Aruba', 'Australia', 'Austria', 'Bahrain', 'Bangladesh', 'Belgium', 'Bhutan', 'Brazil', 'Bulgaria', 'Cambodia', 'Canada', 'Chile', 'China', 'Colombia', 'Costa Rica', 'Croatia', 'Cyprus', 'Czech Republic', 'Denmark', 'Dominican Republic', 'Ecuador', 'Egypt', 'Estonia', 'Finland', 'France', 'Germany', 'Ghana', 'Greece', 'Hong Kong', 'Hungary', 'Iceland', 'India', 'Indonesia', 'Ireland', 'Israel', 'Italy', 'Japan', 'Jordan', 'Kazakhstan', 'Kenya', 'Kuwait', 'Latvia', 'Lithuania', 'Luxembourg', 'Macau', 'Malaysia', 'Maldives', 'Malta', 'Mauritius', 'Mexico', 'Morocco', 'Namibia', 'Nepal', 'Netherlands', 'New Zealand', 'Norway', 'Oman', 'Pakistan', 'Peru', 'Philippines', 'Poland', 'Portugal', 'Qatar', 'Romania', 'Russian Federation', 'Saudi Arabia', 'Serbia', 'Singapore', 'Slovenia', 'South Africa', 'South Korea', 'Spain', 'Sri Lanka', 'Sweden', 'Switzerland', 'Taiwan', 'Thailand', 'Trinidad & Tobago', 'Uganda', 'Ukraine', 'United Arab Emirates', 'United Kingdom', 'United States', 'Venezuela', 'Vietnam']\n"
          ]
        }
      ]
    },
    {
      "cell_type": "markdown",
      "source": [
        "А теперь построим Python-словарь, в котором соотнесем страну и географический регион. Соотносить будем в соответствии с [геосхемой ООН](https://en.wikipedia.org/wiki/United_Nations_geoscheme). Конечно, это неудобно соотносить вручную 87 стран с их макрогеографическими регионами, но поиск готовых словарей и автоматический мапинг с ручной правкой названий стран займет не меньше, если не больше, времени (был такой опыт).\n",
        "\n",
        "Более оптимальный вариант — вынесение \"словаря\" в отдельный csv-файл, так как это, как минимум, позволяет масштабировать решение, но поскольку такая задача у нас не стоит, то воспользуемся грубым способом."
      ],
      "metadata": {
        "id": "DY9IcSqoFSYz"
      }
    },
    {
      "cell_type": "code",
      "source": [
        "mapping_dict = {'Angola': 'Africa', 'Argentina': 'Americas', 'Aruba': 'Americas', 'Australia': 'Oceania', 'Austria': 'Europe',\n",
        "                'Bahrain': 'Asia', 'Bangladesh': 'Asia', 'Belgium': 'Europe', 'Bhutan': 'Asia', 'Brazil': 'Americas',\n",
        "                'Bulgaria': 'Europe', 'Cambodia': 'Asia', 'Canada': 'Americas', 'Chile': 'Americas', 'China': 'Asia',\n",
        "                'Colombia': 'Americas', 'Costa Rica': 'Americas', 'Croatia': 'Europe', 'Cyprus': 'Europe', 'Czech Republic': 'Europe',\n",
        "                'Denmark': 'Europe', 'Dominican Republic': 'Americas', 'Ecuador': 'Americas', 'Egypt': 'Africa', 'Estonia': 'Europe',\n",
        "                'Finland': 'Europe', 'France': 'Europe', 'Germany': 'Europe', 'Ghana': 'Africa', 'Greece': 'Europe',\n",
        "                'Hong Kong': 'Asia', 'Hungary': 'Europe', 'Iceland': 'Europe', 'India': 'Asia', 'Indonesia': 'Asia', 'Ireland': 'Europe',\n",
        "                'Israel': 'Asia',  'Italy': 'Europe', 'Japan': 'Asia', 'Jordan': 'Asia', 'Kazakhstan': 'Asia', 'Kenya': 'Africa', 'Kuwait': 'Asia',\n",
        "                'Latvia': 'Europe', 'Lithuania': 'Europe', 'Luxembourg': 'Europe', 'Macau': 'Asia', 'Malaysia': 'Asia', 'Maldives': 'Asia', 'Malta': 'Europe',\n",
        "                'Mauritius': 'Africa', 'Mexico': 'Americas', 'Morocco': 'Africa', 'Namibia': 'Africa', 'Nepal': 'Asia', 'Netherlands': 'Europe',\n",
        "                'New Zealand': 'Oceania', 'Norway': 'Europe', 'Oman': 'Africa', 'Pakistan': 'Asia', 'Peru': 'Americas', 'Philippines': 'Asia',\n",
        "                'Poland': 'Europe', 'Portugal': 'Europe', 'Qatar': 'Asia', 'Romania': 'Europe', 'Russian Federation': 'Europe', 'Saudi Arabia': 'Asia',\n",
        "                'Serbia': 'Europe', 'Singapore': 'Asia', 'Slovenia': 'Europe', 'South Africa': 'Africa', 'South Korea': 'Asia', 'Spain': 'Europe',\n",
        "                'Sri Lanka': 'Asia', 'Sweden': 'Europe', 'Switzerland': 'Europe', 'Taiwan': 'Asia', 'Thailand': 'Asia', 'Trinidad & Tobago': 'Americas',\n",
        "                'Uganda': 'Africa', 'Ukraine': 'Europe', 'United Arab Emirates': 'Asia', 'United Kingdom': 'Europe', 'United States': 'Americas',\n",
        "                'Venezuela': 'Americas', 'Vietnam': 'Asia'}"
      ],
      "metadata": {
        "id": "N1khiJBWyPs_"
      },
      "execution_count": 12,
      "outputs": []
    },
    {
      "cell_type": "markdown",
      "source": [
        "А теперь создадим простенькую функцию для мапинга и применим ее для создания новой колонки с регионом автора отзыва. Если указание страны автора отсутствует или же по какой-то причине мы упустили какую-то страну в словаре, то регион будет присвоен как NaN."
      ],
      "metadata": {
        "id": "LIbpo7k3LFQ7"
      }
    },
    {
      "cell_type": "code",
      "source": [
        "def country_mapping(country_name):\n",
        "  return mapping_dict.get(country_name, np.nan)\n",
        "\n",
        "airline_with_overall_rating.loc[:, 'region'] = airline_with_overall_rating.loc[:, 'author_country'].map(country_mapping)"
      ],
      "metadata": {
        "id": "DmBJum-aLEr6"
      },
      "execution_count": 15,
      "outputs": []
    },
    {
      "cell_type": "markdown",
      "source": [
        "Проверим, каким странам присвоился регион как NaN. Как видим, мы не упустили ни одну страну, NaN присвоился только тем строкам, где страна не была указана изначально."
      ],
      "metadata": {
        "id": "IvUAEKc_PuKa"
      }
    },
    {
      "cell_type": "code",
      "source": [
        "nan_region = airline_with_overall_rating[airline_with_overall_rating.region.isnull()]\n",
        "nan_region['author_country'].unique()"
      ],
      "metadata": {
        "colab": {
          "base_uri": "https://localhost:8080/"
        },
        "id": "SRfada_8Mk-b",
        "outputId": "7d42a427-109e-4f1e-fc8a-6e62613b3578"
      },
      "execution_count": 14,
      "outputs": [
        {
          "output_type": "execute_result",
          "data": {
            "text/plain": [
              "array([nan], dtype=object)"
            ]
          },
          "metadata": {},
          "execution_count": 14
        }
      ]
    },
    {
      "cell_type": "markdown",
      "source": [
        "## Можем ли пренебречь разницей во времени? (спойлер: нет)\n",
        "\n",
        "Несмотря на то, что у нас уже есть колонка с регионами и в принципе все готово для того, чтобы попытаться дать ответ на поставленный исследовательский вопрос, есть очень важный момент, требующий проверки.\n",
        "\n",
        "На авиалиниях могут происходить изменения, а потому средняя или медианная оценка пассажиров одного региона в разные временные периоды, очевидно, может быть разной. Кроме того, \"схлопывая\" разные годы в один датасет, мы можем проигнорировать разницу в размере датасета в разные годы (и какой-то год может исказить картину). Едва ли заказчику интересно, какая была удовлетворенность полетами много лет назад, когда он хочет открыть бизнес сейчас. Прошлые годы для него — шум в данных.\n",
        "\n",
        "Линейный график ниже показывает динамику изменения средней оценки совокупной удовлетворенности полетом по годам для пассажиров разных георегионов (доверительные интервалы отключены к показу, чтобы не отвлекать). Можно заметить, как резко меняется средняя оценка из года в год, особенно примечателен здесь кейс \"Америк\" (синяя линия): из года в год регион показывает стабильный тренд на снижение средней оценки.\n",
        "\n",
        "Таким образом, мы никак не можем игнорировать временную перспективу. Для того, чтобы не искажать результаты, мы вынуждены сильно ограничить размер датафрейма последним доступным годом в данных, 2015.\n",
        "\n"
      ],
      "metadata": {
        "id": "RBNp0AFlP_Xu"
      }
    },
    {
      "cell_type": "code",
      "source": [
        "plot1 = sns.lineplot(data=airline_with_overall_rating,\n",
        "                     x=airline_with_overall_rating.date.dt.year,\n",
        "                     y=\"overall_rating\",\n",
        "                     hue=\"region\",\n",
        "                     errorbar=None\n",
        "                     )\n",
        "\n",
        "plot1.set(xlabel =\"Год\",\n",
        "          ylabel = \"Ср. оценка\",\n",
        "          title ='Изменение ср. оценки совокупной удовлетворенности полетом по годам для георегионов'\n",
        "          )\n",
        "\n",
        "plot1.legend(title=\"Регион\")"
      ],
      "metadata": {
        "colab": {
          "base_uri": "https://localhost:8080/",
          "height": 490
        },
        "id": "7nkX2RuTQtAS",
        "outputId": "6a914449-d7c9-4513-aa9d-feec57c739d1"
      },
      "execution_count": 16,
      "outputs": [
        {
          "output_type": "execute_result",
          "data": {
            "text/plain": [
              "<matplotlib.legend.Legend at 0x7b4454af13d0>"
            ]
          },
          "metadata": {},
          "execution_count": 16
        },
        {
          "output_type": "display_data",
          "data": {
            "text/plain": [
              "<Figure size 640x480 with 1 Axes>"
            ],
            "image/png": "[encoded data removed]"
          },
          "metadata": {}
        }
      ]
    },
    {
      "cell_type": "markdown",
      "source": [
        "Давайте посмотрим на количество оценок в 2015 году по регионам, чтобы понять, насколько ли силен дисбаланс.\n",
        "\n",
        "Из агрегированной таблицы снизу видим, что в 2015 году пассажиры из Африки оставили всего 9 оценок, что, конечно, очень мало, но не будем исключать этот регион."
      ],
      "metadata": {
        "id": "NEoyCs8MdOcY"
      }
    },
    {
      "cell_type": "code",
      "source": [
        "airline_with_overall_rating_2015 = airline_with_overall_rating[airline_with_overall_rating.date.dt.year == 2015]\n",
        "airline_with_overall_rating_2015['overall_rating'].groupby(by=[airline_with_overall_rating_2015.region]).agg('count').sort_values()"
      ],
      "metadata": {
        "colab": {
          "base_uri": "https://localhost:8080/",
          "height": 272
        },
        "id": "CGnOpD9bQdKU",
        "outputId": "f88eece5-1005-4ee1-ee4d-b216dbc66462"
      },
      "execution_count": 17,
      "outputs": [
        {
          "output_type": "execute_result",
          "data": {
            "text/plain": [
              "region\n",
              "Africa        9\n",
              "Oceania      79\n",
              "Asia         96\n",
              "Americas    237\n",
              "Europe      344\n",
              "Name: overall_rating, dtype: int64"
            ],
            "text/html": [
              "<div>\n",
              "<style scoped>\n",
              "    .dataframe tbody tr th:only-of-type {\n",
              "        vertical-align: middle;\n",
              "    }\n",
              "\n",
              "    .dataframe tbody tr th {\n",
              "        vertical-align: top;\n",
              "    }\n",
              "\n",
              "    .dataframe thead th {\n",
              "        text-align: right;\n",
              "    }\n",
              "</style>\n",
              "<table border=\"1\" class=\"dataframe\">\n",
              "  <thead>\n",
              "    <tr style=\"text-align: right;\">\n",
              "      <th></th>\n",
              "      <th>overall_rating</th>\n",
              "    </tr>\n",
              "    <tr>\n",
              "      <th>region</th>\n",
              "      <th></th>\n",
              "    </tr>\n",
              "  </thead>\n",
              "  <tbody>\n",
              "    <tr>\n",
              "      <th>Africa</th>\n",
              "      <td>9</td>\n",
              "    </tr>\n",
              "    <tr>\n",
              "      <th>Oceania</th>\n",
              "      <td>79</td>\n",
              "    </tr>\n",
              "    <tr>\n",
              "      <th>Asia</th>\n",
              "      <td>96</td>\n",
              "    </tr>\n",
              "    <tr>\n",
              "      <th>Americas</th>\n",
              "      <td>237</td>\n",
              "    </tr>\n",
              "    <tr>\n",
              "      <th>Europe</th>\n",
              "      <td>344</td>\n",
              "    </tr>\n",
              "  </tbody>\n",
              "</table>\n",
              "</div><br><label><b>dtype:</b> int64</label>"
            ]
          },
          "metadata": {},
          "execution_count": 17
        }
      ]
    },
    {
      "cell_type": "markdown",
      "source": [
        "## Сравнение совокупной удовлетворенности по регионам для 2015 года\n",
        "\n",
        "Для начала сравним распределение совокупных оценок по регионам и их медианные значения. Как видно на скрипичной диаграмме, 4 региона из 5 сильно похожи друг на друга: у них одинаковая медиана (равна 8) и схожие формы распределений с заметным левым хвостом (отрицательная ассиметрия / лево-смещенное распределение). В то же время регион \"Америки\" заметно отличается от остальных 4 регионов: во-первых, у него заметно ниже медианное значение (равно 5); во-вторых, распределение является бимодальным.\n",
        "\n",
        "И прежде чем мы продолжим, стоит остановиться чуть подольше на региональном кейсе \"Америк\" и проверить распределения по странам, чтобы убедиться, что бимодальное распределение в регионе не является следствием объединения разных стран под одним регионом."
      ],
      "metadata": {
        "id": "5vQb7IkllZ7u"
      }
    },
    {
      "cell_type": "code",
      "source": [
        "plot2 = sns.violinplot(x = 'region', y = 'overall_rating', data = airline_with_overall_rating_2015, cut = 0)\n",
        "\n",
        "plot2.set(xlabel =\"Регион\", ylabel = \"Оценка\", title ='Сопоставление распределений совокупной удовлетворенности полетом по георегионам')"
      ],
      "metadata": {
        "colab": {
          "base_uri": "https://localhost:8080/",
          "height": 527
        },
        "id": "0Kh3cJrHQtiO",
        "outputId": "71ea5d29-33d2-4a20-d948-e37459f4b993"
      },
      "execution_count": 18,
      "outputs": [
        {
          "output_type": "execute_result",
          "data": {
            "text/plain": [
              "[Text(0.5, 0, 'Регион'),\n",
              " Text(0, 0.5, 'Оценка'),\n",
              " Text(0.5, 1.0, 'Сопоставление распределений совокупной удовлетворенности полетом по георегионам')]"
            ]
          },
          "metadata": {},
          "execution_count": 18
        },
        {
          "output_type": "display_data",
          "data": {
            "text/plain": [
              "<Figure size 640x480 with 1 Axes>"
            ],
            "image/png": "[encoded data removed]"
          },
          "metadata": {}
        }
      ]
    },
    {
      "cell_type": "markdown",
      "source": [
        "Построим отдельные гистограммы распределений для стран региона \"Америки\". Как видим, бимодальное распределение характерно для всех стран региона при условии достаточного количества наблюдений. Так что можем перейти к последнему действию для ответа на вопрос — к сопоставлению средних значений по регионам."
      ],
      "metadata": {
        "id": "EWL7wqFWm_pE"
      }
    },
    {
      "cell_type": "code",
      "source": [
        "airline_with_overall_rating_2015_americas = airline_with_overall_rating_2015[airline_with_overall_rating_2015.region == 'Americas']\n",
        "g = sns.FacetGrid(data=airline_with_overall_rating_2015_americas, col='author_country', col_wrap=3)\n",
        "g.map(sns.histplot, 'overall_rating')\n",
        "g.set(xlabel =\"Оценка\", ylabel = \"Кол-во\")"
      ],
      "metadata": {
        "colab": {
          "base_uri": "https://localhost:8080/",
          "height": 624
        },
        "id": "DCsJTZ9-iZ6C",
        "outputId": "fd8a5d6b-e5ad-4738-92dd-342290e0ead7"
      },
      "execution_count": 19,
      "outputs": [
        {
          "output_type": "execute_result",
          "data": {
            "text/plain": [
              "<seaborn.axisgrid.FacetGrid at 0x7b445497b9b0>"
            ]
          },
          "metadata": {},
          "execution_count": 19
        },
        {
          "output_type": "display_data",
          "data": {
            "text/plain": [
              "<Figure size 900x600 with 5 Axes>"
            ],
            "image/png": "[encoded data removed]"
          },
          "metadata": {}
        }
      ]
    },
    {
      "cell_type": "markdown",
      "source": [
        "Ниже представлена таблица со средними значениями совокупных оценок удовлетворительности полетом по регионам. Как видим, пассажиры региона \"Америки\" снова оказываются самыми неудовлетворенными своим полетом относительно пассажиров из других регионов."
      ],
      "metadata": {
        "id": "1y8cnHLZnmsz"
      }
    },
    {
      "cell_type": "code",
      "source": [
        "airline_with_overall_rating_2015['overall_rating'].groupby(by=[airline_with_overall_rating_2015.region]).agg('mean').sort_values()"
      ],
      "metadata": {
        "colab": {
          "base_uri": "https://localhost:8080/",
          "height": 272
        },
        "id": "kGlR4KhOnmQ_",
        "outputId": "fc9cf8a4-e66e-427a-cfe2-cfb69a476784"
      },
      "execution_count": 20,
      "outputs": [
        {
          "output_type": "execute_result",
          "data": {
            "text/plain": [
              "region\n",
              "Americas    5.172996\n",
              "Asia        6.489583\n",
              "Europe      6.697674\n",
              "Oceania     6.949367\n",
              "Africa      7.222222\n",
              "Name: overall_rating, dtype: float64"
            ],
            "text/html": [
              "<div>\n",
              "<style scoped>\n",
              "    .dataframe tbody tr th:only-of-type {\n",
              "        vertical-align: middle;\n",
              "    }\n",
              "\n",
              "    .dataframe tbody tr th {\n",
              "        vertical-align: top;\n",
              "    }\n",
              "\n",
              "    .dataframe thead th {\n",
              "        text-align: right;\n",
              "    }\n",
              "</style>\n",
              "<table border=\"1\" class=\"dataframe\">\n",
              "  <thead>\n",
              "    <tr style=\"text-align: right;\">\n",
              "      <th></th>\n",
              "      <th>overall_rating</th>\n",
              "    </tr>\n",
              "    <tr>\n",
              "      <th>region</th>\n",
              "      <th></th>\n",
              "    </tr>\n",
              "  </thead>\n",
              "  <tbody>\n",
              "    <tr>\n",
              "      <th>Americas</th>\n",
              "      <td>5.172996</td>\n",
              "    </tr>\n",
              "    <tr>\n",
              "      <th>Asia</th>\n",
              "      <td>6.489583</td>\n",
              "    </tr>\n",
              "    <tr>\n",
              "      <th>Europe</th>\n",
              "      <td>6.697674</td>\n",
              "    </tr>\n",
              "    <tr>\n",
              "      <th>Oceania</th>\n",
              "      <td>6.949367</td>\n",
              "    </tr>\n",
              "    <tr>\n",
              "      <th>Africa</th>\n",
              "      <td>7.222222</td>\n",
              "    </tr>\n",
              "  </tbody>\n",
              "</table>\n",
              "</div><br><label><b>dtype:</b> float64</label>"
            ]
          },
          "metadata": {},
          "execution_count": 20
        }
      ]
    },
    {
      "cell_type": "markdown",
      "source": [
        "## Заключение по вопросу 1\n",
        "\n",
        "Пассажиры из региона \"Америки\" является самыми неудовлетворенными своим полетом относительно пассажиров из других регионов в 2015 году в нашем датасете, об этом свидетельствует как сопоставление медиан вместе с распределениями значений, так и сопоставление средних значений. Кроме того, дополнительная проверка во временном срезе показывает стабильный тренд на снижение среднего значения совокупной оценки удовлетворительности полетом у пассажиров из \"Америк\".\n",
        "\n",
        "Исходя из этого, мы могли предложить нашему заказчику выбрать пассажиров из региона \"Америки\" в качестве потенциальной целевой аудитории, так как, вероятно, существующие авиакомпании не могут удовлетворить запросы этой аудитории.\n",
        "\n",
        "Впрочем, для более надежных выводов стоит сначала сравнить регионы с помощью статического теста, чтобы понять, не имеем ли мы дело с просто случайной разницей между группами. Этому посвящен следующий пункт работы."
      ],
      "metadata": {
        "id": "S0eC2xc1oOMf"
      }
    },
    {
      "cell_type": "markdown",
      "source": [
        "# Стат. тест 1: Сравнение совокупной удовлетворенности полетом по географическим регионам (для 2015 г.)"
      ],
      "metadata": {
        "id": "J20KAv3Hp-Ig"
      }
    },
    {
      "cell_type": "markdown",
      "source": [
        "## Обоснование, выбор теста\n",
        "\n",
        "Существует ли статистически значимая разница между географическими регионами относительно совокупной удовлетворенности полетом в 2015 году в нашем датасете? На этот вопрос важно ответить, чтобы убедиться, что обнаруженная в ходе ответа на первый вопрос разница является неслучайной.\n",
        "\n",
        "Поскольку регион — это категориальная переменная (5 категорий), а совокупная удовлетворенность полетом — числовая (интервальная), то следует применить либо ANOVA, либо его непараметрический аналог.\n",
        "\n",
        "Вообще говоря, при визуальной оценке распределений значений совокупной удовлетворенности полетом на скрипичной диаграмме в первом разделе мы уже видели, что ни для одного региона распределение не является нормальным: для \"Америк\" оно бимодальное, а в остальных регионах распределение лево-смещенное. То есть применять параметрические тесты невозможно, т.к. не соблюдается допущение о нормальности распределений.\n",
        "\n",
        "Убедиться в ненормальности распределений можно и через формальный тест Шапиро-Уилка. Как можно видить ниже, p-значение для всех регионов, кроме Африки, ниже 0.001 (т.е. значимость на 99.9-м уровне), а для Африки оно все равно ниже 0.05 (значимость на 95-м уровне). Нулевая гипотеза о нормальности распределений отвергается. Используем непараметрический аналог, тест Краскела-Уоллиса."
      ],
      "metadata": {
        "id": "7IHQOack9Csa"
      }
    },
    {
      "cell_type": "code",
      "source": [
        "america_2015 = airline_with_overall_rating_2015[airline_with_overall_rating_2015.region == 'Americas']\n",
        "africa_2015 = airline_with_overall_rating_2015[airline_with_overall_rating_2015.region == 'Africa']\n",
        "oceania_2015 = airline_with_overall_rating_2015[airline_with_overall_rating_2015.region == 'Oceania']\n",
        "europe_2015 = airline_with_overall_rating_2015[airline_with_overall_rating_2015.region == 'Europe']\n",
        "asia_2015 = airline_with_overall_rating_2015[airline_with_overall_rating_2015.region == 'Asia']"
      ],
      "metadata": {
        "id": "W_2SZbiuBGqy"
      },
      "execution_count": 21,
      "outputs": []
    },
    {
      "cell_type": "code",
      "source": [
        "stats.shapiro(america_2015['overall_rating'])"
      ],
      "metadata": {
        "colab": {
          "base_uri": "https://localhost:8080/"
        },
        "id": "neJXDc3eCASw",
        "outputId": "a0cf913a-4623-48d6-de2e-e957d6d5ca73"
      },
      "execution_count": 22,
      "outputs": [
        {
          "output_type": "execute_result",
          "data": {
            "text/plain": [
              "ShapiroResult(statistic=np.float64(0.846760358359768), pvalue=np.float64(1.4120655359220092e-14))"
            ]
          },
          "metadata": {},
          "execution_count": 22
        }
      ]
    },
    {
      "cell_type": "code",
      "source": [
        "stats.shapiro(africa_2015['overall_rating'])"
      ],
      "metadata": {
        "colab": {
          "base_uri": "https://localhost:8080/"
        },
        "id": "tHhI0V5zqUiu",
        "outputId": "dfe13427-ba5d-42dd-b7e8-c514734d3ad2"
      },
      "execution_count": 23,
      "outputs": [
        {
          "output_type": "execute_result",
          "data": {
            "text/plain": [
              "ShapiroResult(statistic=np.float64(0.8342066371511123), pvalue=np.float64(0.049771058233340784))"
            ]
          },
          "metadata": {},
          "execution_count": 23
        }
      ]
    },
    {
      "cell_type": "code",
      "source": [
        "stats.shapiro(oceania_2015['overall_rating'])"
      ],
      "metadata": {
        "colab": {
          "base_uri": "https://localhost:8080/"
        },
        "id": "Va08Eu7aC6wd",
        "outputId": "ba452282-702d-448e-ef60-0be203347a5d"
      },
      "execution_count": 24,
      "outputs": [
        {
          "output_type": "execute_result",
          "data": {
            "text/plain": [
              "ShapiroResult(statistic=np.float64(0.9022211591998696), pvalue=np.float64(1.6921780256685366e-05))"
            ]
          },
          "metadata": {},
          "execution_count": 24
        }
      ]
    },
    {
      "cell_type": "code",
      "source": [
        "stats.shapiro(europe_2015['overall_rating'])"
      ],
      "metadata": {
        "colab": {
          "base_uri": "https://localhost:8080/"
        },
        "id": "ZqmsvdtEC62f",
        "outputId": "7ed97d06-77b8-48cd-9c91-0a0a26d13b76"
      },
      "execution_count": 25,
      "outputs": [
        {
          "output_type": "execute_result",
          "data": {
            "text/plain": [
              "ShapiroResult(statistic=np.float64(0.8795761864777222), pvalue=np.float64(9.039838329872897e-16))"
            ]
          },
          "metadata": {},
          "execution_count": 25
        }
      ]
    },
    {
      "cell_type": "code",
      "source": [
        "stats.shapiro(asia_2015['overall_rating'])"
      ],
      "metadata": {
        "colab": {
          "base_uri": "https://localhost:8080/"
        },
        "id": "DMwMw7Y8C69s",
        "outputId": "8654029f-8847-4091-f5e6-02a5f696da43"
      },
      "execution_count": 26,
      "outputs": [
        {
          "output_type": "execute_result",
          "data": {
            "text/plain": [
              "ShapiroResult(statistic=np.float64(0.8661283615910615), pvalue=np.float64(7.905564796917333e-08))"
            ]
          },
          "metadata": {},
          "execution_count": 26
        }
      ]
    },
    {
      "cell_type": "markdown",
      "source": [
        "## Тест Краскела-Уоллиса\n",
        "\n",
        "Статистические гипотезы H0 и H1 для теста Краскела-Уоллиса можно задавать в двух видах: либо на разницу медиан (строгая формулировка), либо на стохастическое доминирование одного распределения над другим (нестрогая формулировка). Строгая формулировка требует, чтобы формы распределений всех групп были похожими, что, как мы уже увидели на скрипичной диаграмме ранее, не соответствует нашим данным. Поэтому задавать гипотезы будем на стохастическое доминирование (впрочем, нас с практической точки зрения все равно интересует подтверждение наличия разницы между группами, а как это сформулировано статистически — вопрос вторичный).\n",
        "\n",
        "* H0: Стохастическое доминирование распределений отсутствует.\n",
        "* H1: Хотя бы одного распределение стохастически доминирует над другим.\n",
        "\n",
        "Как видим ниже, тест имеет p-значение ниже 0.001, что позволяет на 99.9-м уровне доверия отвергнуть нулевую гипотезу в пользу альтернативной. Таким образом, существует неслучайная разница между регионами. Однако сам по себе тест Краскела-Уоллиса не может нам сказать, между какими именно регионами наблюдается неслучайная разница (может, в случае с \"Америками\" разницы с другими регионами и нет, а результат дает сравнение других регионов?). Применим непараметрический пост-хок тест Данна, чтобы понять разницу между конкретными регионами."
      ],
      "metadata": {
        "id": "bADokiE8EnmC"
      }
    },
    {
      "cell_type": "code",
      "source": [
        "stats.kruskal(america_2015['overall_rating'], africa_2015['overall_rating'], oceania_2015['overall_rating'], europe_2015['overall_rating'], asia_2015['overall_rating'])"
      ],
      "metadata": {
        "colab": {
          "base_uri": "https://localhost:8080/"
        },
        "id": "VU-2qMr8EnxL",
        "outputId": "8cbb17ee-f0e4-4121-b05e-da1f43ac7215"
      },
      "execution_count": 27,
      "outputs": [
        {
          "output_type": "execute_result",
          "data": {
            "text/plain": [
              "KruskalResult(statistic=np.float64(30.286286886310783), pvalue=np.float64(4.279612720886095e-06))"
            ]
          },
          "metadata": {},
          "execution_count": 27
        }
      ]
    },
    {
      "cell_type": "markdown",
      "source": [
        "## Пост-хок тест Данна\n",
        "\n",
        "Воспользуемся апостериорным критерием Данна, реализованным в библиотеке \"scikit_posthocs\" (установлена в Collab дополнительно в начале работы). Т.к. мы проводим множественные сравнения, используем поправку Холма-Бонферрони.\n",
        "\n",
        "Как видно из таблицы ниже, регион \"Америки\" действительно значимо отличается от практически всех регионов, за исключением \"Африки\" (но там всего 9 наблюдений), причем это единственный регион, который как-то отличается от других:\n",
        "\n",
        "* значимая разница между \"Америками\" и \"Азией\" на 95-м уровне доверия (p < 0.05),\n",
        "* значимая разница между \"Америками\" и \"Океанией\" на 99-м уровне доверия (p < 0.01),\n",
        "* значимая разница между \"Америками\" и \"Европой\" на 99.9-м уровне доверия (p < 0.001)."
      ],
      "metadata": {
        "id": "8NgASkQYH3XA"
      }
    },
    {
      "cell_type": "code",
      "source": [
        "sp.posthoc_dunn(a = airline_with_overall_rating_2015,\n",
        "                val_col = 'overall_rating',\n",
        "                group_col = 'region',\n",
        "                p_adjust='holm')"
      ],
      "metadata": {
        "colab": {
          "base_uri": "https://localhost:8080/",
          "height": 206
        },
        "id": "TaRXn1QmH2Sy",
        "outputId": "79bc5a9a-b91c-4966-8c94-9b2b4dcf1f72"
      },
      "execution_count": 28,
      "outputs": [
        {
          "output_type": "execute_result",
          "data": {
            "text/plain": [
              "            Africa  Americas      Asia    Europe   Oceania\n",
              "Africa    1.000000  0.358107  1.000000  1.000000  1.000000\n",
              "Americas  0.358107  1.000000  0.021124  0.000009  0.001376\n",
              "Asia      1.000000  0.021124  1.000000  1.000000  1.000000\n",
              "Europe    1.000000  0.000009  1.000000  1.000000  1.000000\n",
              "Oceania   1.000000  0.001376  1.000000  1.000000  1.000000"
            ],
            "text/html": [
              "\n",
              "  <div id=\"df-13c9002a-92c2-4ec3-8900-b02fbf284663\" class=\"colab-df-container\">\n",
              "    <div>\n",
              "<style scoped>\n",
              "    .dataframe tbody tr th:only-of-type {\n",
              "        vertical-align: middle;\n",
              "    }\n",
              "\n",
              "    .dataframe tbody tr th {\n",
              "        vertical-align: top;\n",
              "    }\n",
              "\n",
              "    .dataframe thead th {\n",
              "        text-align: right;\n",
              "    }\n",
              "</style>\n",
              "<table border=\"1\" class=\"dataframe\">\n",
              "  <thead>\n",
              "    <tr style=\"text-align: right;\">\n",
              "      <th></th>\n",
              "      <th>Africa</th>\n",
              "      <th>Americas</th>\n",
              "      <th>Asia</th>\n",
              "      <th>Europe</th>\n",
              "      <th>Oceania</th>\n",
              "    </tr>\n",
              "  </thead>\n",
              "  <tbody>\n",
              "    <tr>\n",
              "      <th>Africa</th>\n",
              "      <td>1.000000</td>\n",
              "      <td>0.358107</td>\n",
              "      <td>1.000000</td>\n",
              "      <td>1.000000</td>\n",
              "      <td>1.000000</td>\n",
              "    </tr>\n",
              "    <tr>\n",
              "      <th>Americas</th>\n",
              "      <td>0.358107</td>\n",
              "      <td>1.000000</td>\n",
              "      <td>0.021124</td>\n",
              "      <td>0.000009</td>\n",
              "      <td>0.001376</td>\n",
              "    </tr>\n",
              "    <tr>\n",
              "      <th>Asia</th>\n",
              "      <td>1.000000</td>\n",
              "      <td>0.021124</td>\n",
              "      <td>1.000000</td>\n",
              "      <td>1.000000</td>\n",
              "      <td>1.000000</td>\n",
              "    </tr>\n",
              "    <tr>\n",
              "      <th>Europe</th>\n",
              "      <td>1.000000</td>\n",
              "      <td>0.000009</td>\n",
              "      <td>1.000000</td>\n",
              "      <td>1.000000</td>\n",
              "      <td>1.000000</td>\n",
              "    </tr>\n",
              "    <tr>\n",
              "      <th>Oceania</th>\n",
              "      <td>1.000000</td>\n",
              "      <td>0.001376</td>\n",
              "      <td>1.000000</td>\n",
              "      <td>1.000000</td>\n",
              "      <td>1.000000</td>\n",
              "    </tr>\n",
              "  </tbody>\n",
              "</table>\n",
              "</div>\n",
              "    <div class=\"colab-df-buttons\">\n",
              "\n",
              "  <div class=\"colab-df-container\">\n",
              "    <button class=\"colab-df-convert\" onclick=\"convertToInteractive('df-13c9002a-92c2-4ec3-8900-b02fbf284663')\"\n",
              "            title=\"Convert this dataframe to an interactive table.\"\n",
              "            style=\"display:none;\">\n",
              "\n",
              "  <svg xmlns=\"http://www.w3.org/2000/svg\" height=\"24px\" viewBox=\"0 -960 960 960\">\n",
              "    <path d=\"M120-120v-720h720v720H120Zm60-500h600v-160H180v160Zm220 220h160v-160H400v160Zm0 220h160v-160H400v160ZM180-400h160v-160H180v160Zm440 0h160v-160H620v160ZM180-180h160v-160H180v160Zm440 0h160v-160H620v160Z\"/>\n",
              "  </svg>\n",
              "    </button>\n",
              "\n",
              "  <style>\n",
              "    .colab-df-container {\n",
              "      display:flex;\n",
              "      gap: 12px;\n",
              "    }\n",
              "\n",
              "    .colab-df-convert {\n",
              "      background-color: #E8F0FE;\n",
              "      border: none;\n",
              "      border-radius: 50%;\n",
              "      cursor: pointer;\n",
              "      display: none;\n",
              "      fill: #1967D2;\n",
              "      height: 32px;\n",
              "      padding: 0 0 0 0;\n",
              "      width: 32px;\n",
              "    }\n",
              "\n",
              "    .colab-df-convert:hover {\n",
              "      background-color: #E2EBFA;\n",
              "      box-shadow: 0px 1px 2px rgba(60, 64, 67, 0.3), 0px 1px 3px 1px rgba(60, 64, 67, 0.15);\n",
              "      fill: #174EA6;\n",
              "    }\n",
              "\n",
              "    .colab-df-buttons div {\n",
              "      margin-bottom: 4px;\n",
              "    }\n",
              "\n",
              "    [theme=dark] .colab-df-convert {\n",
              "      background-color: #3B4455;\n",
              "      fill: #D2E3FC;\n",
              "    }\n",
              "\n",
              "    [theme=dark] .colab-df-convert:hover {\n",
              "      background-color: #434B5C;\n",
              "      box-shadow: 0px 1px 3px 1px rgba(0, 0, 0, 0.15);\n",
              "      filter: drop-shadow(0px 1px 2px rgba(0, 0, 0, 0.3));\n",
              "      fill: #FFFFFF;\n",
              "    }\n",
              "  </style>\n",
              "\n",
              "    <script>\n",
              "      const buttonEl =\n",
              "        document.querySelector('#df-13c9002a-92c2-4ec3-8900-b02fbf284663 button.colab-df-convert');\n",
              "      buttonEl.style.display =\n",
              "        google.colab.kernel.accessAllowed ? 'block' : 'none';\n",
              "\n",
              "      async function convertToInteractive(key) {\n",
              "        const element = document.querySelector('#df-13c9002a-92c2-4ec3-8900-b02fbf284663');\n",
              "        const dataTable =\n",
              "          await google.colab.kernel.invokeFunction('convertToInteractive',\n",
              "                                                    [key], {});\n",
              "        if (!dataTable) return;\n",
              "\n",
              "        const docLinkHtml = 'Like what you see? Visit the ' +\n",
              "          '<a target=\"_blank\" href=https://colab.research.google.com/notebooks/data_table.ipynb>data table notebook</a>'\n",
              "          + ' to learn more about interactive tables.';\n",
              "        element.innerHTML = '';\n",
              "        dataTable['output_type'] = 'display_data';\n",
              "        await google.colab.output.renderOutput(dataTable, element);\n",
              "        const docLink = document.createElement('div');\n",
              "        docLink.innerHTML = docLinkHtml;\n",
              "        element.appendChild(docLink);\n",
              "      }\n",
              "    </script>\n",
              "  </div>\n",
              "\n",
              "\n",
              "    <div id=\"df-1ffaf3cf-511a-4e9e-8cba-7bed1c1e70ef\">\n",
              "      <button class=\"colab-df-quickchart\" onclick=\"quickchart('df-1ffaf3cf-511a-4e9e-8cba-7bed1c1e70ef')\"\n",
              "                title=\"Suggest charts\"\n",
              "                style=\"display:none;\">\n",
              "\n",
              "<svg xmlns=\"http://www.w3.org/2000/svg\" height=\"24px\"viewBox=\"0 0 24 24\"\n",
              "     width=\"24px\">\n",
              "    <g>\n",
              "        <path d=\"M19 3H5c-1.1 0-2 .9-2 2v14c0 1.1.9 2 2 2h14c1.1 0 2-.9 2-2V5c0-1.1-.9-2-2-2zM9 17H7v-7h2v7zm4 0h-2V7h2v10zm4 0h-2v-4h2v4z\"/>\n",
              "    </g>\n",
              "</svg>\n",
              "      </button>\n",
              "\n",
              "<style>\n",
              "  .colab-df-quickchart {\n",
              "      --bg-color: #E8F0FE;\n",
              "      --fill-color: #1967D2;\n",
              "      --hover-bg-color: #E2EBFA;\n",
              "      --hover-fill-color: #174EA6;\n",
              "      --disabled-fill-color: #AAA;\n",
              "      --disabled-bg-color: #DDD;\n",
              "  }\n",
              "\n",
              "  [theme=dark] .colab-df-quickchart {\n",
              "      --bg-color: #3B4455;\n",
              "      --fill-color: #D2E3FC;\n",
              "      --hover-bg-color: #434B5C;\n",
              "      --hover-fill-color: #FFFFFF;\n",
              "      --disabled-bg-color: #3B4455;\n",
              "      --disabled-fill-color: #666;\n",
              "  }\n",
              "\n",
              "  .colab-df-quickchart {\n",
              "    background-color: var(--bg-color);\n",
              "    border: none;\n",
              "    border-radius: 50%;\n",
              "    cursor: pointer;\n",
              "    display: none;\n",
              "    fill: var(--fill-color);\n",
              "    height: 32px;\n",
              "    padding: 0;\n",
              "    width: 32px;\n",
              "  }\n",
              "\n",
              "  .colab-df-quickchart:hover {\n",
              "    background-color: var(--hover-bg-color);\n",
              "    box-shadow: 0 1px 2px rgba(60, 64, 67, 0.3), 0 1px 3px 1px rgba(60, 64, 67, 0.15);\n",
              "    fill: var(--button-hover-fill-color);\n",
              "  }\n",
              "\n",
              "  .colab-df-quickchart-complete:disabled,\n",
              "  .colab-df-quickchart-complete:disabled:hover {\n",
              "    background-color: var(--disabled-bg-color);\n",
              "    fill: var(--disabled-fill-color);\n",
              "    box-shadow: none;\n",
              "  }\n",
              "\n",
              "  .colab-df-spinner {\n",
              "    border: 2px solid var(--fill-color);\n",
              "    border-color: transparent;\n",
              "    border-bottom-color: var(--fill-color);\n",
              "    animation:\n",
              "      spin 1s steps(1) infinite;\n",
              "  }\n",
              "\n",
              "  @keyframes spin {\n",
              "    0% {\n",
              "      border-color: transparent;\n",
              "      border-bottom-color: var(--fill-color);\n",
              "      border-left-color: var(--fill-color);\n",
              "    }\n",
              "    20% {\n",
              "      border-color: transparent;\n",
              "      border-left-color: var(--fill-color);\n",
              "      border-top-color: var(--fill-color);\n",
              "    }\n",
              "    30% {\n",
              "      border-color: transparent;\n",
              "      border-left-color: var(--fill-color);\n",
              "      border-top-color: var(--fill-color);\n",
              "      border-right-color: var(--fill-color);\n",
              "    }\n",
              "    40% {\n",
              "      border-color: transparent;\n",
              "      border-right-color: var(--fill-color);\n",
              "      border-top-color: var(--fill-color);\n",
              "    }\n",
              "    60% {\n",
              "      border-color: transparent;\n",
              "      border-right-color: var(--fill-color);\n",
              "    }\n",
              "    80% {\n",
              "      border-color: transparent;\n",
              "      border-right-color: var(--fill-color);\n",
              "      border-bottom-color: var(--fill-color);\n",
              "    }\n",
              "    90% {\n",
              "      border-color: transparent;\n",
              "      border-bottom-color: var(--fill-color);\n",
              "    }\n",
              "  }\n",
              "</style>\n",
              "\n",
              "      <script>\n",
              "        async function quickchart(key) {\n",
              "          const quickchartButtonEl =\n",
              "            document.querySelector('#' + key + ' button');\n",
              "          quickchartButtonEl.disabled = true;  // To prevent multiple clicks.\n",
              "          quickchartButtonEl.classList.add('colab-df-spinner');\n",
              "          try {\n",
              "            const charts = await google.colab.kernel.invokeFunction(\n",
              "                'suggestCharts', [key], {});\n",
              "          } catch (error) {\n",
              "            console.error('Error during call to suggestCharts:', error);\n",
              "          }\n",
              "          quickchartButtonEl.classList.remove('colab-df-spinner');\n",
              "          quickchartButtonEl.classList.add('colab-df-quickchart-complete');\n",
              "        }\n",
              "        (() => {\n",
              "          let quickchartButtonEl =\n",
              "            document.querySelector('#df-1ffaf3cf-511a-4e9e-8cba-7bed1c1e70ef button');\n",
              "          quickchartButtonEl.style.display =\n",
              "            google.colab.kernel.accessAllowed ? 'block' : 'none';\n",
              "        })();\n",
              "      </script>\n",
              "    </div>\n",
              "    </div>\n",
              "  </div>\n"
            ],
            "application/vnd.google.colaboratory.intrinsic+json": {
              "type": "dataframe",
              "summary": "{\n  \"name\": \"                p_adjust='holm')\",\n  \"rows\": 5,\n  \"fields\": [\n    {\n      \"column\": \"Africa\",\n      \"properties\": {\n        \"dtype\": \"number\",\n        \"std\": 0.287063339182871,\n        \"min\": 0.3581068597390214,\n        \"max\": 1.0,\n        \"num_unique_values\": 2,\n        \"samples\": [\n          0.3581068597390214,\n          1.0\n        ],\n        \"semantic_type\": \"\",\n        \"description\": \"\"\n      }\n    },\n    {\n      \"column\": \"Americas\",\n      \"properties\": {\n        \"dtype\": \"number\",\n        \"std\": 0.4322813343363146,\n        \"min\": 8.890807411436214e-06,\n        \"max\": 1.0,\n        \"num_unique_values\": 5,\n        \"samples\": [\n          1.0,\n          0.0013764400091613202\n        ],\n        \"semantic_type\": \"\",\n        \"description\": \"\"\n      }\n    },\n    {\n      \"column\": \"Asia\",\n      \"properties\": {\n        \"dtype\": \"number\",\n        \"std\": 0.4377668134831684,\n        \"min\": 0.021123646758163882,\n        \"max\": 1.0,\n        \"num_unique_values\": 2,\n        \"samples\": [\n          0.021123646758163882,\n          1.0\n        ],\n        \"semantic_type\": \"\",\n        \"description\": \"\"\n      }\n    },\n    {\n      \"column\": \"Europe\",\n      \"properties\": {\n        \"dtype\": \"number\",\n        \"std\": 0.4472096194100086,\n        \"min\": 8.890807411436214e-06,\n        \"max\": 1.0,\n        \"num_unique_values\": 2,\n        \"samples\": [\n          8.890807411436214e-06,\n          1.0\n        ],\n        \"semantic_type\": \"\",\n        \"description\": \"\"\n      }\n    },\n    {\n      \"column\": \"Oceania\",\n      \"properties\": {\n        \"dtype\": \"number\",\n        \"std\": 0.4465980328144709,\n        \"min\": 0.0013764400091613202,\n        \"max\": 1.0,\n        \"num_unique_values\": 2,\n        \"samples\": [\n          0.0013764400091613202,\n          1.0\n        ],\n        \"semantic_type\": \"\",\n        \"description\": \"\"\n      }\n    }\n  ]\n}"
            }
          },
          "metadata": {},
          "execution_count": 28
        }
      ]
    },
    {
      "cell_type": "markdown",
      "source": [
        "## Заключение по стат. тесту 1\n",
        "\n",
        "Результаты теста Краскела-Уоллиса подтвердили наличие разницы между регионами в распределениях совокупной удовлетворенности полетом. Пост-хок тест Данна подтвердил, что неслучайная разница существует между \"Америками\" и другими регионами (кроме \"Африки\", где число наблюдений слишком маленькое).\n",
        "\n",
        "Мы можем подтвердить вывод о разнице \"Америк\" с другими регионами, полученный в ходе визуального анализа при ответе на вопрос 1. Пассажиры региона \"Америки\" действительно имеют наименьшую совокупную удовлетворенность полетом и эта разница неслучайна.\n",
        "\n",
        "С практической точки зрения мы действительно можем порекомендовать нашему заказчику обратить внимание на пассажиров этого региона и взять их за целевую аудиторию."
      ],
      "metadata": {
        "id": "edJPMdVELQur"
      }
    },
    {
      "cell_type": "markdown",
      "source": [
        "# Вопрос 2: Как различается совокупная удовлетворенность полетом у пассажиров из региона \"Америки\" в 2015 году в зависимости от класса пассажира?"
      ],
      "metadata": {
        "id": "Isv1qIkWMlEy"
      }
    },
    {
      "cell_type": "markdown",
      "source": [
        "## Обоснование\n",
        "\n",
        "Мы уже определили, что пассажиры из региона \"Америки\" могли бы стать хорошей целевой аудиторией для заказчика. Но попробуем немного сузить целевую аудиторию. У нас в датасете не так много контекстуальной информации, но есть полезная колонка с классом пассажира. А что если пассажиры по-разному удовлетворены полетом в зависимости от класса полета? Тогда заказчик мог бы сфокусироваться только на одном классе с наименьшими показателями."
      ],
      "metadata": {
        "id": "MV5-oFzPeRof"
      }
    },
    {
      "cell_type": "markdown",
      "source": [
        "## Объединим классы для удобства\n",
        "\n",
        "Для начала посмотрим, какими классами летали пассажиры из региона \"Америки\" в 2015 году и в каком количестве. Как видим ниже, летают чаще всего \"Экономом\", а реже всего \"Премиум-экономом\". Впрочем, \"Первым классом\" тоже летали довольно редко. Кажется, что классы, которыми летают редко, будет тяжело сравнивать с более часто используемыми классами. Так что есть смысл объединить категории: \"Эконом-класс\" объединить с \"Премиум-экономом\", а \"Бизнес-класс\" объединить с \"Первым классом\". Учитывая порядковый характер переменной и сходство классов по принципу привилегированности пассажира, такое объединение будет довольно органичным."
      ],
      "metadata": {
        "id": "GUFgtzhGeOcU"
      }
    },
    {
      "cell_type": "code",
      "source": [
        "america_2015['overall_rating'].groupby(by=[america_2015.cabin_flown]).agg('count').sort_values()"
      ],
      "metadata": {
        "colab": {
          "base_uri": "https://localhost:8080/",
          "height": 241
        },
        "id": "nQiTaGcDPz7d",
        "outputId": "ae292adc-f39a-4aac-aafd-75738f7c4082"
      },
      "execution_count": 29,
      "outputs": [
        {
          "output_type": "execute_result",
          "data": {
            "text/plain": [
              "cabin_flown\n",
              "Premium Economy     12\n",
              "First Class         16\n",
              "Business Class      47\n",
              "Economy            148\n",
              "Name: overall_rating, dtype: int64"
            ],
            "text/html": [
              "<div>\n",
              "<style scoped>\n",
              "    .dataframe tbody tr th:only-of-type {\n",
              "        vertical-align: middle;\n",
              "    }\n",
              "\n",
              "    .dataframe tbody tr th {\n",
              "        vertical-align: top;\n",
              "    }\n",
              "\n",
              "    .dataframe thead th {\n",
              "        text-align: right;\n",
              "    }\n",
              "</style>\n",
              "<table border=\"1\" class=\"dataframe\">\n",
              "  <thead>\n",
              "    <tr style=\"text-align: right;\">\n",
              "      <th></th>\n",
              "      <th>overall_rating</th>\n",
              "    </tr>\n",
              "    <tr>\n",
              "      <th>cabin_flown</th>\n",
              "      <th></th>\n",
              "    </tr>\n",
              "  </thead>\n",
              "  <tbody>\n",
              "    <tr>\n",
              "      <th>Premium Economy</th>\n",
              "      <td>12</td>\n",
              "    </tr>\n",
              "    <tr>\n",
              "      <th>First Class</th>\n",
              "      <td>16</td>\n",
              "    </tr>\n",
              "    <tr>\n",
              "      <th>Business Class</th>\n",
              "      <td>47</td>\n",
              "    </tr>\n",
              "    <tr>\n",
              "      <th>Economy</th>\n",
              "      <td>148</td>\n",
              "    </tr>\n",
              "  </tbody>\n",
              "</table>\n",
              "</div><br><label><b>dtype:</b> int64</label>"
            ]
          },
          "metadata": {},
          "execution_count": 29
        }
      ]
    },
    {
      "cell_type": "markdown",
      "source": [
        "Пишем простую функцию для удобства и создаем новую колонку с двумя категориями: \"Эконом (включая Премиум)\" и \"Бизнес и первый класс\". Иначе говоря, мы делим пассажиров на условно \"непривилегированных\" и \"привилегированных\"."
      ],
      "metadata": {
        "id": "5DFBzA56hVag"
      }
    },
    {
      "cell_type": "code",
      "source": [
        "def cabin_simplifier(cabin_original):\n",
        "  if cabin_original == \"Economy\" or cabin_original == \"Premium Economy\":\n",
        "    return \"Economy (incl. Premium)\"\n",
        "  elif cabin_original == \"First Class\" or cabin_original == \"Business Class\":\n",
        "    return \"Business & First\"\n",
        "  else:\n",
        "    return np.nan\n",
        "\n",
        "america_2015.loc[:, 'cabin_simple'] = america_2015.loc[:, 'cabin_flown'].apply(cabin_simplifier)"
      ],
      "metadata": {
        "id": "cxAyhXBKfkDx"
      },
      "execution_count": 31,
      "outputs": []
    },
    {
      "cell_type": "markdown",
      "source": [
        "Теперь мы имеем дело с двумя категориями с адекватным количеством наблюдений для сравнения."
      ],
      "metadata": {
        "id": "o2Grhw2tidwY"
      }
    },
    {
      "cell_type": "code",
      "source": [
        "america_2015['overall_rating'].groupby(by=[america_2015.cabin_simple]).agg('count').sort_values()"
      ],
      "metadata": {
        "colab": {
          "base_uri": "https://localhost:8080/",
          "height": 178
        },
        "id": "1c-n-g5aieMs",
        "outputId": "dfb44503-3a70-4838-ece5-57494f0bfe6e"
      },
      "execution_count": 32,
      "outputs": [
        {
          "output_type": "execute_result",
          "data": {
            "text/plain": [
              "cabin_simple\n",
              "Business & First            63\n",
              "Economy (incl. Premium)    160\n",
              "Name: overall_rating, dtype: int64"
            ],
            "text/html": [
              "<div>\n",
              "<style scoped>\n",
              "    .dataframe tbody tr th:only-of-type {\n",
              "        vertical-align: middle;\n",
              "    }\n",
              "\n",
              "    .dataframe tbody tr th {\n",
              "        vertical-align: top;\n",
              "    }\n",
              "\n",
              "    .dataframe thead th {\n",
              "        text-align: right;\n",
              "    }\n",
              "</style>\n",
              "<table border=\"1\" class=\"dataframe\">\n",
              "  <thead>\n",
              "    <tr style=\"text-align: right;\">\n",
              "      <th></th>\n",
              "      <th>overall_rating</th>\n",
              "    </tr>\n",
              "    <tr>\n",
              "      <th>cabin_simple</th>\n",
              "      <th></th>\n",
              "    </tr>\n",
              "  </thead>\n",
              "  <tbody>\n",
              "    <tr>\n",
              "      <th>Business &amp; First</th>\n",
              "      <td>63</td>\n",
              "    </tr>\n",
              "    <tr>\n",
              "      <th>Economy (incl. Premium)</th>\n",
              "      <td>160</td>\n",
              "    </tr>\n",
              "  </tbody>\n",
              "</table>\n",
              "</div><br><label><b>dtype:</b> int64</label>"
            ]
          },
          "metadata": {},
          "execution_count": 32
        }
      ]
    },
    {
      "cell_type": "markdown",
      "source": [
        "## Непосредственно сравнение\n",
        "\n",
        "Для начала построим скрипичную диаграмму для сравнения распределений совокупной удовлетворенности полетом. Как видим ниже, во-первых, есть разница в формах распределений: распределение оценок у пассажиров \"Эконома\" бимодальное, тогда как распределение оценок у пассажиров \"Бизнес + первый класс\" лево-смещенное. Во-вторых, видна резкая разница в медианных значениях: у пассажиров \"Эконома\" медиана равна 3, а у пассажиров \"Бизнес + первый класс\" она равна 8."
      ],
      "metadata": {
        "id": "NvADwwEZis7T"
      }
    },
    {
      "cell_type": "code",
      "source": [
        "plot3 = sns.violinplot(x = 'cabin_simple', y = 'overall_rating', data = america_2015, cut = 0)\n",
        "plot3.set(xlabel =\"Класс полета\", ylabel = \"Оценка\", title ='Сопоставление распределений совокупной удовлетворенности полетом по классам полета')"
      ],
      "metadata": {
        "colab": {
          "base_uri": "https://localhost:8080/",
          "height": 527
        },
        "id": "Nv8dh8_vixH4",
        "outputId": "75a54c9f-9a9d-480c-e17e-8f5d1595aa80"
      },
      "execution_count": 33,
      "outputs": [
        {
          "output_type": "execute_result",
          "data": {
            "text/plain": [
              "[Text(0.5, 0, 'Класс полета'),\n",
              " Text(0, 0.5, 'Оценка'),\n",
              " Text(0.5, 1.0, 'Сопоставление распределений совокупной удовлетворенности полетом по классам полета')]"
            ]
          },
          "metadata": {},
          "execution_count": 33
        },
        {
          "output_type": "display_data",
          "data": {
            "text/plain": [
              "<Figure size 640x480 with 1 Axes>"
            ],
            "image/png": "[encoded data removed]"
          },
          "metadata": {}
        }
      ]
    },
    {
      "cell_type": "markdown",
      "source": [
        "Также, как видим ниже, наблюдается разница в средних значениях, где \"Эконом\" снова имеет более низкое значение по сравнению с \"Бизнес + первый класс\"."
      ],
      "metadata": {
        "id": "iyBgvS9crRBX"
      }
    },
    {
      "cell_type": "code",
      "source": [
        "america_2015['overall_rating'].groupby(by=[america_2015.cabin_simple]).agg('mean').sort_values()"
      ],
      "metadata": {
        "colab": {
          "base_uri": "https://localhost:8080/",
          "height": 178
        },
        "id": "GkZxyudErRJ5",
        "outputId": "9b42cd6b-a82d-41c5-e1c5-3d32a2d3bdbe"
      },
      "execution_count": 34,
      "outputs": [
        {
          "output_type": "execute_result",
          "data": {
            "text/plain": [
              "cabin_simple\n",
              "Economy (incl. Premium)    4.743750\n",
              "Business & First           6.619048\n",
              "Name: overall_rating, dtype: float64"
            ],
            "text/html": [
              "<div>\n",
              "<style scoped>\n",
              "    .dataframe tbody tr th:only-of-type {\n",
              "        vertical-align: middle;\n",
              "    }\n",
              "\n",
              "    .dataframe tbody tr th {\n",
              "        vertical-align: top;\n",
              "    }\n",
              "\n",
              "    .dataframe thead th {\n",
              "        text-align: right;\n",
              "    }\n",
              "</style>\n",
              "<table border=\"1\" class=\"dataframe\">\n",
              "  <thead>\n",
              "    <tr style=\"text-align: right;\">\n",
              "      <th></th>\n",
              "      <th>overall_rating</th>\n",
              "    </tr>\n",
              "    <tr>\n",
              "      <th>cabin_simple</th>\n",
              "      <th></th>\n",
              "    </tr>\n",
              "  </thead>\n",
              "  <tbody>\n",
              "    <tr>\n",
              "      <th>Economy (incl. Premium)</th>\n",
              "      <td>4.743750</td>\n",
              "    </tr>\n",
              "    <tr>\n",
              "      <th>Business &amp; First</th>\n",
              "      <td>6.619048</td>\n",
              "    </tr>\n",
              "  </tbody>\n",
              "</table>\n",
              "</div><br><label><b>dtype:</b> float64</label>"
            ]
          },
          "metadata": {},
          "execution_count": 34
        }
      ]
    },
    {
      "cell_type": "markdown",
      "source": [
        "## Заключение по вопросу 2\n",
        "\n",
        "Среди пассажиров из региона \"Америки\" в 2015 году мы видим различия в совокупной удовлетворительности полетом в зависимости от класса полета: медианное и среднее значение у пассажиров \"Эконома\" ниже, чем у пассажиров из группы \"Бизнес + первый класс\".\n",
        "\n",
        "Исходя из этого, мы могли предложить нашему заказчику сузить целевую аудиторию до пассажиров \"Эконома\" (непривилегированных пассажиров) из региона \"Америки\", так как, вероятно, существующие авиакомпании не могут удовлетворить запросы непосредственно этой аудитории.\n",
        "\n",
        "Впрочем, для более надежных выводов стоит сначала сравнить две категории с помощью статического теста, чтобы понять, не имеем ли мы дело с просто случайной разницей. Этому посвящен следующий пункт работы."
      ],
      "metadata": {
        "id": "6i56m3UGrvT8"
      }
    },
    {
      "cell_type": "markdown",
      "source": [
        "# Стат. тест 2: Сравнение совокупной удовлетворенности полетом по объединенному классу полета (для 2015 г., для пассажиров из региона \"Америки\")"
      ],
      "metadata": {
        "id": "V_gLUxLjsmGV"
      }
    },
    {
      "cell_type": "markdown",
      "source": [
        "## Обоснование, выбор теста\n",
        "\n",
        "Существует ли статистически значимая разница между двумя объединенными классами полета относительно совокупной удовлетворенности полетом в 2015 году среди пассажиров региона \"Америки\"? На этот вопрос важно ответить, чтобы убедиться, что обнаруженная в ходе ответа на второй вопрос разница является неслучайной.\n",
        "\n",
        "Поскольку класс полета после наших преобразований — это по сути бинарная переменная, а совокупная удовлетворенность полетом — числовая (интервальная), то следует применить либо t-тест, либо его непараметрический аналог.\n",
        "\n",
        "При визуальной оценке распределений значений совокупной удовлетворенности полетом на скрипичной диаграмме мы уже видели, что ни для одного из двух классов полета распределение не является нормальным: для \"Эконома\" оно бимодальное, а для \"Бизнес + первый класс\" распределение лево-смещенное. То есть применять параметрические тесты невозможно, т.к. не соблюдается допущение о нормальности распределений.\n",
        "\n",
        "Убедиться в ненормальности распределений можно и через формальный тест Шапиро-Уилка. Как можно видить ниже, p-значение для обоих классов ниже 0.001 (т.е. значимость на 99.9-м уровне). Нулевая гипотеза о нормальности распределений отвергается. Используем непараметрический аналог, тест Манна-Уитни."
      ],
      "metadata": {
        "id": "2yXQyXzgstpd"
      }
    },
    {
      "cell_type": "code",
      "source": [
        "priviliged_america_2015 = america_2015[america_2015.cabin_simple == 'Business & First']\n",
        "unpriviliged_america_2015 = america_2015[america_2015.cabin_simple == 'Economy (incl. Premium)']"
      ],
      "metadata": {
        "id": "QDcz4el6tIku"
      },
      "execution_count": 35,
      "outputs": []
    },
    {
      "cell_type": "code",
      "source": [
        "stats.shapiro(priviliged_america_2015['overall_rating'])"
      ],
      "metadata": {
        "colab": {
          "base_uri": "https://localhost:8080/"
        },
        "id": "B88cBUudutPl",
        "outputId": "bf83a1ba-f8c6-4463-94b0-795cbd08645d"
      },
      "execution_count": 36,
      "outputs": [
        {
          "output_type": "execute_result",
          "data": {
            "text/plain": [
              "ShapiroResult(statistic=np.float64(0.8772235521466424), pvalue=np.float64(1.4091596350301961e-05))"
            ]
          },
          "metadata": {},
          "execution_count": 36
        }
      ]
    },
    {
      "cell_type": "code",
      "source": [
        "stats.shapiro(unpriviliged_america_2015['overall_rating'])"
      ],
      "metadata": {
        "colab": {
          "base_uri": "https://localhost:8080/"
        },
        "id": "8rlCOd0tutWh",
        "outputId": "49fac3a6-8d7b-4790-cc87-835972e41ae5"
      },
      "execution_count": 37,
      "outputs": [
        {
          "output_type": "execute_result",
          "data": {
            "text/plain": [
              "ShapiroResult(statistic=np.float64(0.8256786464175745), pvalue=np.float64(1.5578121086092875e-12))"
            ]
          },
          "metadata": {},
          "execution_count": 37
        }
      ]
    },
    {
      "cell_type": "markdown",
      "source": [
        "## Тест Манна-Уитни\n",
        "\n",
        "Зададим гипотезы в простом виде — как сравнение распределений.\n",
        "\n",
        "* H0: Разница в распределениях отсутствует.\n",
        "* H1: Существует разница в распределениях.\n",
        "\n",
        "Как видим ниже, p-значение меньше 0.001: это означает, что на 99.9-м уровне доверия мы можем отвергнуть нулевую гипотезу в пользу альтернативной. Иначе говоря, разница в распределениях существует."
      ],
      "metadata": {
        "id": "fdX72ECVvWV0"
      }
    },
    {
      "cell_type": "code",
      "source": [
        "stats.mannwhitneyu(priviliged_america_2015['overall_rating'], unpriviliged_america_2015['overall_rating'])"
      ],
      "metadata": {
        "colab": {
          "base_uri": "https://localhost:8080/"
        },
        "id": "sz3W2VXavWdM",
        "outputId": "17939ae2-a01a-4c4b-8046-b5d97618d370"
      },
      "execution_count": 38,
      "outputs": [
        {
          "output_type": "execute_result",
          "data": {
            "text/plain": [
              "MannwhitneyuResult(statistic=np.float64(6537.0), pvalue=np.float64(0.00047701250681504937))"
            ]
          },
          "metadata": {},
          "execution_count": 38
        }
      ]
    },
    {
      "cell_type": "markdown",
      "source": [
        "## Заключение по стат. тесту 2\n",
        "\n",
        "Результаты теста Манна-Уитни подтвердили наличие разницы между пассажирами \"Эконома\" и пассажирами \"Бизнес + первый класс\" в распределениях совокупной удовлетворенности полетом в 2015 г. (для региона \"Америки\").\n",
        "\n",
        "Мы можем подтвердить вывод о разнице двух объединенных классов, полученный в ходе визуального анализа при ответе на вопрос 2. Пассажиры из \"Эконома\" действительно менее удовлетворены полетами, и эта разница неслучайна (для пассажиров региона \"Америки\", 2015 г.).\n",
        "\n",
        "С практической точки зрения мы можем порекомендовать нашему заказчику сузить целевую аудиторию: вместо всех пассажиров региона \"Америки\" мы предлагаем ему взять пассажиров эконом-класса (включая премиум-эконом) в качестве своей целевой аудитории, так как они действительно сильно неудовлетворены полетами в отличие от пассажиров категории \"Бизнес + первый класс\"."
      ],
      "metadata": {
        "id": "9tmbt5RsxQ-3"
      }
    },
    {
      "cell_type": "markdown",
      "source": [
        "# Вопрос 3: У кого из потенциальных конкурентов наихудшие сидения в салонах?"
      ],
      "metadata": {
        "id": "q5TLYAg6ifna"
      }
    },
    {
      "cell_type": "markdown",
      "source": [
        "Итак, мы определили довольно узкую целевую аудиторию для нашего заказчика — пассажиры эконом-класса (включая премиум-эконом) из региона \"Америки\". Но мы пока что никак не рассмотрели потенциальных конкурентов и их слабые стороны (за счет чего заказчик смог бы опередить их?). Давайте займемся этим. Сначала определим, какие компании могли бы быть конкурентами нашему заказчику, учитывая уже определенную нами целевую аудиторию, а затем попытаемся посмотреть на удовлетворенность пассажиров наших конкурентов сидениями в салонах и определить самые слабые компании в этом аспекте удовлетворенности полетом (возможно, именно с этими компаниями стоило бы конкуририровать нашему заказчику, чтобы преуспеть)."
      ],
      "metadata": {
        "id": "sAtvKt-3DrI2"
      }
    },
    {
      "cell_type": "markdown",
      "source": [
        "## Определение ключевых конкурентов\n",
        "\n",
        "Очевидно, что страна автора отзыва или его регион необязательно означают, что авиакомпания, на рейс которой написан отзыв, обслуживает преимущественно пассажиров из этой страны или этого региона. Например, если единичный американец прилетит в Россию и воспользуется внутренним рейсом \"Аэрофлота\", \"Аэрофлот\" все равно не будет считать американцев своей целевой аудиторией. Однако если пассажиры эконом-класса из региона \"Америки\" пользуются какими-то компаниями в датасате чаще других (чаще пишут на них отзывы), то это будут, вероятно, компании, нацеленные на эту аудиторию или хотя бы часто обслуживающие эту аудиторию.\n",
        "\n",
        "Для начала посмотрим, на какое количество компаний всего было написано отзывов нашей целевой аудиторией. Видим, что на 59 авиакомпаний, это очень много. Среди них явно есть не интересующие нас авиакомпании. Решим эту проблему.\n"
      ],
      "metadata": {
        "id": "Upg5krtCA2QJ"
      }
    },
    {
      "cell_type": "code",
      "source": [
        "unpriviliged_america_2015[unpriviliged_america_2015.airline_name.notnull()].airline_name.unique().size"
      ],
      "metadata": {
        "colab": {
          "base_uri": "https://localhost:8080/"
        },
        "id": "5EP1pOvITTQe",
        "outputId": "dffb65c2-1064-4f28-e1ba-341a030fa0cc"
      },
      "execution_count": 39,
      "outputs": [
        {
          "output_type": "execute_result",
          "data": {
            "text/plain": [
              "59"
            ]
          },
          "metadata": {},
          "execution_count": 39
        }
      ]
    },
    {
      "cell_type": "markdown",
      "source": [
        "Определим, на рейсы каких компаний чаще всего пишет отзывы наша целевая аудитория в 2015 году: посчитаем количество отзывов на компанию от пассажиров эконом-класса из региона \"Америки\" в 2015 году, а также построим рейтинг компаний по кол-ву отзывов. Для удобства также посчитаем кумулятивный %, чтобы понимать суммарную долю этих авиакомпаний из верхушки построенного рейтинга.\n",
        "\n",
        "Как видим ниже, на первые 10 компаний в списке по количеству отзывов от целевой аудитории в 2015 году приходится 60.26% от количества всех отзывов, написанных нашей целевой аудиторией в 2015 году. В целом, кажется, что можно остановиться на этой десятке и признать эти 10 компаний в качестве потенциальных конкурентов нашему заказчику, т.к. на них приходится больше половины всех отзывов от нашей целевой аудитории. Кроме того, если мы \"загуглим\" эти компании, то увидим, что они либо американские (США), либо канадские, причем зачастую по типу лоукостеров, то есть действительно нацелены на пассажиров эконома.\n",
        "\n",
        "P.S. Единственное исключение в виде \"Британских авиалиний\", изначально попадающих в топ-10, исключено из списка, т.к. будем фокусироваться на компаниях из того же георегиона, что и пассажиры из целевой аудитории.\n"
      ],
      "metadata": {
        "id": "3GY6eKp6UcUQ"
      }
    },
    {
      "cell_type": "code",
      "source": [
        "# топ-10 по кол-ву отзывов\n",
        "n_reviews_per_company = unpriviliged_america_2015['airline_name'].groupby(by=[unpriviliged_america_2015.airline_name]).agg('count').sort_values(ascending = False)\n",
        "n_reviews_per_company = n_reviews_per_company.drop(labels=['british-airways'])\n",
        "n_reviews_per_company.head(10)"
      ],
      "metadata": {
        "colab": {
          "base_uri": "https://localhost:8080/",
          "height": 429
        },
        "id": "RSZ0mlHiCNUQ",
        "outputId": "76bb7c79-6d3d-4ecd-bfac-e28ed324a552"
      },
      "execution_count": 40,
      "outputs": [
        {
          "output_type": "execute_result",
          "data": {
            "text/plain": [
              "airline_name\n",
              "air-canada-rouge      15\n",
              "allegiant-air         12\n",
              "united-airlines       12\n",
              "air-canada            11\n",
              "american-airlines     10\n",
              "spirit-airlines        9\n",
              "frontier-airlines      9\n",
              "sunwing-airlines       8\n",
              "southwest-airlines     4\n",
              "delta-air-lines        4\n",
              "Name: airline_name, dtype: int64"
            ],
            "text/html": [
              "<div>\n",
              "<style scoped>\n",
              "    .dataframe tbody tr th:only-of-type {\n",
              "        vertical-align: middle;\n",
              "    }\n",
              "\n",
              "    .dataframe tbody tr th {\n",
              "        vertical-align: top;\n",
              "    }\n",
              "\n",
              "    .dataframe thead th {\n",
              "        text-align: right;\n",
              "    }\n",
              "</style>\n",
              "<table border=\"1\" class=\"dataframe\">\n",
              "  <thead>\n",
              "    <tr style=\"text-align: right;\">\n",
              "      <th></th>\n",
              "      <th>airline_name</th>\n",
              "    </tr>\n",
              "    <tr>\n",
              "      <th>airline_name</th>\n",
              "      <th></th>\n",
              "    </tr>\n",
              "  </thead>\n",
              "  <tbody>\n",
              "    <tr>\n",
              "      <th>air-canada-rouge</th>\n",
              "      <td>15</td>\n",
              "    </tr>\n",
              "    <tr>\n",
              "      <th>allegiant-air</th>\n",
              "      <td>12</td>\n",
              "    </tr>\n",
              "    <tr>\n",
              "      <th>united-airlines</th>\n",
              "      <td>12</td>\n",
              "    </tr>\n",
              "    <tr>\n",
              "      <th>air-canada</th>\n",
              "      <td>11</td>\n",
              "    </tr>\n",
              "    <tr>\n",
              "      <th>american-airlines</th>\n",
              "      <td>10</td>\n",
              "    </tr>\n",
              "    <tr>\n",
              "      <th>spirit-airlines</th>\n",
              "      <td>9</td>\n",
              "    </tr>\n",
              "    <tr>\n",
              "      <th>frontier-airlines</th>\n",
              "      <td>9</td>\n",
              "    </tr>\n",
              "    <tr>\n",
              "      <th>sunwing-airlines</th>\n",
              "      <td>8</td>\n",
              "    </tr>\n",
              "    <tr>\n",
              "      <th>southwest-airlines</th>\n",
              "      <td>4</td>\n",
              "    </tr>\n",
              "    <tr>\n",
              "      <th>delta-air-lines</th>\n",
              "      <td>4</td>\n",
              "    </tr>\n",
              "  </tbody>\n",
              "</table>\n",
              "</div><br><label><b>dtype:</b> int64</label>"
            ]
          },
          "metadata": {},
          "execution_count": 40
        }
      ]
    },
    {
      "cell_type": "code",
      "source": [
        "# кумулятивный процент\n",
        "cum_table = n_reviews_per_company.cumsum() / n_reviews_per_company.sum()\n",
        "cum_table.head(10)"
      ],
      "metadata": {
        "colab": {
          "base_uri": "https://localhost:8080/",
          "height": 429
        },
        "id": "uEcaHlvjSQvR",
        "outputId": "82027066-149a-41b8-9868-e001b814a761"
      },
      "execution_count": 41,
      "outputs": [
        {
          "output_type": "execute_result",
          "data": {
            "text/plain": [
              "airline_name\n",
              "air-canada-rouge      0.096154\n",
              "allegiant-air         0.173077\n",
              "united-airlines       0.250000\n",
              "air-canada            0.320513\n",
              "american-airlines     0.384615\n",
              "spirit-airlines       0.442308\n",
              "frontier-airlines     0.500000\n",
              "sunwing-airlines      0.551282\n",
              "southwest-airlines    0.576923\n",
              "delta-air-lines       0.602564\n",
              "Name: airline_name, dtype: float64"
            ],
            "text/html": [
              "<div>\n",
              "<style scoped>\n",
              "    .dataframe tbody tr th:only-of-type {\n",
              "        vertical-align: middle;\n",
              "    }\n",
              "\n",
              "    .dataframe tbody tr th {\n",
              "        vertical-align: top;\n",
              "    }\n",
              "\n",
              "    .dataframe thead th {\n",
              "        text-align: right;\n",
              "    }\n",
              "</style>\n",
              "<table border=\"1\" class=\"dataframe\">\n",
              "  <thead>\n",
              "    <tr style=\"text-align: right;\">\n",
              "      <th></th>\n",
              "      <th>airline_name</th>\n",
              "    </tr>\n",
              "    <tr>\n",
              "      <th>airline_name</th>\n",
              "      <th></th>\n",
              "    </tr>\n",
              "  </thead>\n",
              "  <tbody>\n",
              "    <tr>\n",
              "      <th>air-canada-rouge</th>\n",
              "      <td>0.096154</td>\n",
              "    </tr>\n",
              "    <tr>\n",
              "      <th>allegiant-air</th>\n",
              "      <td>0.173077</td>\n",
              "    </tr>\n",
              "    <tr>\n",
              "      <th>united-airlines</th>\n",
              "      <td>0.250000</td>\n",
              "    </tr>\n",
              "    <tr>\n",
              "      <th>air-canada</th>\n",
              "      <td>0.320513</td>\n",
              "    </tr>\n",
              "    <tr>\n",
              "      <th>american-airlines</th>\n",
              "      <td>0.384615</td>\n",
              "    </tr>\n",
              "    <tr>\n",
              "      <th>spirit-airlines</th>\n",
              "      <td>0.442308</td>\n",
              "    </tr>\n",
              "    <tr>\n",
              "      <th>frontier-airlines</th>\n",
              "      <td>0.500000</td>\n",
              "    </tr>\n",
              "    <tr>\n",
              "      <th>sunwing-airlines</th>\n",
              "      <td>0.551282</td>\n",
              "    </tr>\n",
              "    <tr>\n",
              "      <th>southwest-airlines</th>\n",
              "      <td>0.576923</td>\n",
              "    </tr>\n",
              "    <tr>\n",
              "      <th>delta-air-lines</th>\n",
              "      <td>0.602564</td>\n",
              "    </tr>\n",
              "  </tbody>\n",
              "</table>\n",
              "</div><br><label><b>dtype:</b> float64</label>"
            ]
          },
          "metadata": {},
          "execution_count": 41
        }
      ]
    },
    {
      "cell_type": "markdown",
      "source": [
        "## Попытка определить отстающих конкурентов, используя таблицу \"Seat\"\n",
        "\n",
        "В используемом датасете есть отдельная таблица, в которой собраны подробные отзывы на сидения в салонах самолетов разных авиакомпаний. Полагаем, что написание отдельного отзыва с рассмотрением разных аспектов удобности сидений (пространство для ног, ширина кресла и др.) является более рефлексивным, нежели просто оценка удобства кресла в общем отзыве на полет в таблице \"Airline\". То есть можно ожидать, что совокупная оценка кресел из таблицы \"Seat\" будет более полезной, нежели оценка из таблицы \"Airline\". Попробуем воспользоваться таблицей \"Seat\".\n",
        "\n",
        "Загрузим таблицу и посмотрим на первые 3 строки для лучшего понимания данных."
      ],
      "metadata": {
        "id": "tj_rw1YvjpGD"
      }
    },
    {
      "cell_type": "code",
      "source": [
        "seat = pd.read_csv('/content/drive/MyDrive/Python_Course_Sociology/Project_1/seat.csv')\n",
        "seat.head(3)"
      ],
      "metadata": {
        "colab": {
          "base_uri": "https://localhost:8080/",
          "height": 384
        },
        "id": "68WkNrMVlm2S",
        "outputId": "93cac49a-2aa0-43c4-bfa2-643414ebd2c4"
      },
      "execution_count": 42,
      "outputs": [
        {
          "output_type": "execute_result",
          "data": {
            "text/plain": [
              "  airline_name                      link                       title  \\\n",
              "0   air-canada  /seat-reviews/air-canada  Air Canada customer review   \n",
              "1   air-canada  /seat-reviews/air-canada  Air Canada customer review   \n",
              "2   air-france  /seat-reviews/air-france  Air France customer review   \n",
              "\n",
              "          author author_country        date  \\\n",
              "0  Tyler Thomson         Canada  2014-01-03   \n",
              "1         J Wong    New Zealand  2011-09-19   \n",
              "2      K Roberts  United States  2014-07-24   \n",
              "\n",
              "                                             content     aircraft seat_layout  \\\n",
              "0  The XM interior that Air Canada introduced a f...  AIRBUS A320         3X3   \n",
              "1  Good legroom no in flight entertainment compon...   B777-200LR       3x3x3   \n",
              "2  The seat did not actually recline it sort of s...  AIRBUS A380       2x3x2   \n",
              "\n",
              "  date_flown  ... type_traveller overall_rating  seat_legroom_rating  \\\n",
              "0        NaN  ...            NaN              9                    5   \n",
              "1        NaN  ...            NaN              8                    4   \n",
              "2        NaN  ...            NaN              3                    4   \n",
              "\n",
              "   seat_recline_rating  seat_width_rating  aisle_space_rating  \\\n",
              "0                    4                  5                   4   \n",
              "1                    4                  5                   5   \n",
              "2                    1                  3                   3   \n",
              "\n",
              "   viewing_tv_rating  power_supply_rating  seat_storage_rating  recommended  \n",
              "0                5.0                  NaN                  NaN            1  \n",
              "1                5.0                  NaN                  NaN            1  \n",
              "2                3.0                  NaN                  NaN            0  \n",
              "\n",
              "[3 rows x 21 columns]"
            ],
            "text/html": [
              "\n",
              "  <div id=\"df-b12a5314-669d-48de-ae76-7ab683c84b96\" class=\"colab-df-container\">\n",
              "    <div>\n",
              "<style scoped>\n",
              "    .dataframe tbody tr th:only-of-type {\n",
              "        vertical-align: middle;\n",
              "    }\n",
              "\n",
              "    .dataframe tbody tr th {\n",
              "        vertical-align: top;\n",
              "    }\n",
              "\n",
              "    .dataframe thead th {\n",
              "        text-align: right;\n",
              "    }\n",
              "</style>\n",
              "<table border=\"1\" class=\"dataframe\">\n",
              "  <thead>\n",
              "    <tr style=\"text-align: right;\">\n",
              "      <th></th>\n",
              "      <th>airline_name</th>\n",
              "      <th>link</th>\n",
              "      <th>title</th>\n",
              "      <th>author</th>\n",
              "      <th>author_country</th>\n",
              "      <th>date</th>\n",
              "      <th>content</th>\n",
              "      <th>aircraft</th>\n",
              "      <th>seat_layout</th>\n",
              "      <th>date_flown</th>\n",
              "      <th>...</th>\n",
              "      <th>type_traveller</th>\n",
              "      <th>overall_rating</th>\n",
              "      <th>seat_legroom_rating</th>\n",
              "      <th>seat_recline_rating</th>\n",
              "      <th>seat_width_rating</th>\n",
              "      <th>aisle_space_rating</th>\n",
              "      <th>viewing_tv_rating</th>\n",
              "      <th>power_supply_rating</th>\n",
              "      <th>seat_storage_rating</th>\n",
              "      <th>recommended</th>\n",
              "    </tr>\n",
              "  </thead>\n",
              "  <tbody>\n",
              "    <tr>\n",
              "      <th>0</th>\n",
              "      <td>air-canada</td>\n",
              "      <td>/seat-reviews/air-canada</td>\n",
              "      <td>Air Canada customer review</td>\n",
              "      <td>Tyler Thomson</td>\n",
              "      <td>Canada</td>\n",
              "      <td>2014-01-03</td>\n",
              "      <td>The XM interior that Air Canada introduced a f...</td>\n",
              "      <td>AIRBUS A320</td>\n",
              "      <td>3X3</td>\n",
              "      <td>NaN</td>\n",
              "      <td>...</td>\n",
              "      <td>NaN</td>\n",
              "      <td>9</td>\n",
              "      <td>5</td>\n",
              "      <td>4</td>\n",
              "      <td>5</td>\n",
              "      <td>4</td>\n",
              "      <td>5.0</td>\n",
              "      <td>NaN</td>\n",
              "      <td>NaN</td>\n",
              "      <td>1</td>\n",
              "    </tr>\n",
              "    <tr>\n",
              "      <th>1</th>\n",
              "      <td>air-canada</td>\n",
              "      <td>/seat-reviews/air-canada</td>\n",
              "      <td>Air Canada customer review</td>\n",
              "      <td>J Wong</td>\n",
              "      <td>New Zealand</td>\n",
              "      <td>2011-09-19</td>\n",
              "      <td>Good legroom no in flight entertainment compon...</td>\n",
              "      <td>B777-200LR</td>\n",
              "      <td>3x3x3</td>\n",
              "      <td>NaN</td>\n",
              "      <td>...</td>\n",
              "      <td>NaN</td>\n",
              "      <td>8</td>\n",
              "      <td>4</td>\n",
              "      <td>4</td>\n",
              "      <td>5</td>\n",
              "      <td>5</td>\n",
              "      <td>5.0</td>\n",
              "      <td>NaN</td>\n",
              "      <td>NaN</td>\n",
              "      <td>1</td>\n",
              "    </tr>\n",
              "    <tr>\n",
              "      <th>2</th>\n",
              "      <td>air-france</td>\n",
              "      <td>/seat-reviews/air-france</td>\n",
              "      <td>Air France customer review</td>\n",
              "      <td>K Roberts</td>\n",
              "      <td>United States</td>\n",
              "      <td>2014-07-24</td>\n",
              "      <td>The seat did not actually recline it sort of s...</td>\n",
              "      <td>AIRBUS A380</td>\n",
              "      <td>2x3x2</td>\n",
              "      <td>NaN</td>\n",
              "      <td>...</td>\n",
              "      <td>NaN</td>\n",
              "      <td>3</td>\n",
              "      <td>4</td>\n",
              "      <td>1</td>\n",
              "      <td>3</td>\n",
              "      <td>3</td>\n",
              "      <td>3.0</td>\n",
              "      <td>NaN</td>\n",
              "      <td>NaN</td>\n",
              "      <td>0</td>\n",
              "    </tr>\n",
              "  </tbody>\n",
              "</table>\n",
              "<p>3 rows × 21 columns</p>\n",
              "</div>\n",
              "    <div class=\"colab-df-buttons\">\n",
              "\n",
              "  <div class=\"colab-df-container\">\n",
              "    <button class=\"colab-df-convert\" onclick=\"convertToInteractive('df-b12a5314-669d-48de-ae76-7ab683c84b96')\"\n",
              "            title=\"Convert this dataframe to an interactive table.\"\n",
              "            style=\"display:none;\">\n",
              "\n",
              "  <svg xmlns=\"http://www.w3.org/2000/svg\" height=\"24px\" viewBox=\"0 -960 960 960\">\n",
              "    <path d=\"M120-120v-720h720v720H120Zm60-500h600v-160H180v160Zm220 220h160v-160H400v160Zm0 220h160v-160H400v160ZM180-400h160v-160H180v160Zm440 0h160v-160H620v160ZM180-180h160v-160H180v160Zm440 0h160v-160H620v160Z\"/>\n",
              "  </svg>\n",
              "    </button>\n",
              "\n",
              "  <style>\n",
              "    .colab-df-container {\n",
              "      display:flex;\n",
              "      gap: 12px;\n",
              "    }\n",
              "\n",
              "    .colab-df-convert {\n",
              "      background-color: #E8F0FE;\n",
              "      border: none;\n",
              "      border-radius: 50%;\n",
              "      cursor: pointer;\n",
              "      display: none;\n",
              "      fill: #1967D2;\n",
              "      height: 32px;\n",
              "      padding: 0 0 0 0;\n",
              "      width: 32px;\n",
              "    }\n",
              "\n",
              "    .colab-df-convert:hover {\n",
              "      background-color: #E2EBFA;\n",
              "      box-shadow: 0px 1px 2px rgba(60, 64, 67, 0.3), 0px 1px 3px 1px rgba(60, 64, 67, 0.15);\n",
              "      fill: #174EA6;\n",
              "    }\n",
              "\n",
              "    .colab-df-buttons div {\n",
              "      margin-bottom: 4px;\n",
              "    }\n",
              "\n",
              "    [theme=dark] .colab-df-convert {\n",
              "      background-color: #3B4455;\n",
              "      fill: #D2E3FC;\n",
              "    }\n",
              "\n",
              "    [theme=dark] .colab-df-convert:hover {\n",
              "      background-color: #434B5C;\n",
              "      box-shadow: 0px 1px 3px 1px rgba(0, 0, 0, 0.15);\n",
              "      filter: drop-shadow(0px 1px 2px rgba(0, 0, 0, 0.3));\n",
              "      fill: #FFFFFF;\n",
              "    }\n",
              "  </style>\n",
              "\n",
              "    <script>\n",
              "      const buttonEl =\n",
              "        document.querySelector('#df-b12a5314-669d-48de-ae76-7ab683c84b96 button.colab-df-convert');\n",
              "      buttonEl.style.display =\n",
              "        google.colab.kernel.accessAllowed ? 'block' : 'none';\n",
              "\n",
              "      async function convertToInteractive(key) {\n",
              "        const element = document.querySelector('#df-b12a5314-669d-48de-ae76-7ab683c84b96');\n",
              "        const dataTable =\n",
              "          await google.colab.kernel.invokeFunction('convertToInteractive',\n",
              "                                                    [key], {});\n",
              "        if (!dataTable) return;\n",
              "\n",
              "        const docLinkHtml = 'Like what you see? Visit the ' +\n",
              "          '<a target=\"_blank\" href=https://colab.research.google.com/notebooks/data_table.ipynb>data table notebook</a>'\n",
              "          + ' to learn more about interactive tables.';\n",
              "        element.innerHTML = '';\n",
              "        dataTable['output_type'] = 'display_data';\n",
              "        await google.colab.output.renderOutput(dataTable, element);\n",
              "        const docLink = document.createElement('div');\n",
              "        docLink.innerHTML = docLinkHtml;\n",
              "        element.appendChild(docLink);\n",
              "      }\n",
              "    </script>\n",
              "  </div>\n",
              "\n",
              "\n",
              "    <div id=\"df-41dca5e1-80cd-4ba0-968c-5e949b98712c\">\n",
              "      <button class=\"colab-df-quickchart\" onclick=\"quickchart('df-41dca5e1-80cd-4ba0-968c-5e949b98712c')\"\n",
              "                title=\"Suggest charts\"\n",
              "                style=\"display:none;\">\n",
              "\n",
              "<svg xmlns=\"http://www.w3.org/2000/svg\" height=\"24px\"viewBox=\"0 0 24 24\"\n",
              "     width=\"24px\">\n",
              "    <g>\n",
              "        <path d=\"M19 3H5c-1.1 0-2 .9-2 2v14c0 1.1.9 2 2 2h14c1.1 0 2-.9 2-2V5c0-1.1-.9-2-2-2zM9 17H7v-7h2v7zm4 0h-2V7h2v10zm4 0h-2v-4h2v4z\"/>\n",
              "    </g>\n",
              "</svg>\n",
              "      </button>\n",
              "\n",
              "<style>\n",
              "  .colab-df-quickchart {\n",
              "      --bg-color: #E8F0FE;\n",
              "      --fill-color: #1967D2;\n",
              "      --hover-bg-color: #E2EBFA;\n",
              "      --hover-fill-color: #174EA6;\n",
              "      --disabled-fill-color: #AAA;\n",
              "      --disabled-bg-color: #DDD;\n",
              "  }\n",
              "\n",
              "  [theme=dark] .colab-df-quickchart {\n",
              "      --bg-color: #3B4455;\n",
              "      --fill-color: #D2E3FC;\n",
              "      --hover-bg-color: #434B5C;\n",
              "      --hover-fill-color: #FFFFFF;\n",
              "      --disabled-bg-color: #3B4455;\n",
              "      --disabled-fill-color: #666;\n",
              "  }\n",
              "\n",
              "  .colab-df-quickchart {\n",
              "    background-color: var(--bg-color);\n",
              "    border: none;\n",
              "    border-radius: 50%;\n",
              "    cursor: pointer;\n",
              "    display: none;\n",
              "    fill: var(--fill-color);\n",
              "    height: 32px;\n",
              "    padding: 0;\n",
              "    width: 32px;\n",
              "  }\n",
              "\n",
              "  .colab-df-quickchart:hover {\n",
              "    background-color: var(--hover-bg-color);\n",
              "    box-shadow: 0 1px 2px rgba(60, 64, 67, 0.3), 0 1px 3px 1px rgba(60, 64, 67, 0.15);\n",
              "    fill: var(--button-hover-fill-color);\n",
              "  }\n",
              "\n",
              "  .colab-df-quickchart-complete:disabled,\n",
              "  .colab-df-quickchart-complete:disabled:hover {\n",
              "    background-color: var(--disabled-bg-color);\n",
              "    fill: var(--disabled-fill-color);\n",
              "    box-shadow: none;\n",
              "  }\n",
              "\n",
              "  .colab-df-spinner {\n",
              "    border: 2px solid var(--fill-color);\n",
              "    border-color: transparent;\n",
              "    border-bottom-color: var(--fill-color);\n",
              "    animation:\n",
              "      spin 1s steps(1) infinite;\n",
              "  }\n",
              "\n",
              "  @keyframes spin {\n",
              "    0% {\n",
              "      border-color: transparent;\n",
              "      border-bottom-color: var(--fill-color);\n",
              "      border-left-color: var(--fill-color);\n",
              "    }\n",
              "    20% {\n",
              "      border-color: transparent;\n",
              "      border-left-color: var(--fill-color);\n",
              "      border-top-color: var(--fill-color);\n",
              "    }\n",
              "    30% {\n",
              "      border-color: transparent;\n",
              "      border-left-color: var(--fill-color);\n",
              "      border-top-color: var(--fill-color);\n",
              "      border-right-color: var(--fill-color);\n",
              "    }\n",
              "    40% {\n",
              "      border-color: transparent;\n",
              "      border-right-color: var(--fill-color);\n",
              "      border-top-color: var(--fill-color);\n",
              "    }\n",
              "    60% {\n",
              "      border-color: transparent;\n",
              "      border-right-color: var(--fill-color);\n",
              "    }\n",
              "    80% {\n",
              "      border-color: transparent;\n",
              "      border-right-color: var(--fill-color);\n",
              "      border-bottom-color: var(--fill-color);\n",
              "    }\n",
              "    90% {\n",
              "      border-color: transparent;\n",
              "      border-bottom-color: var(--fill-color);\n",
              "    }\n",
              "  }\n",
              "</style>\n",
              "\n",
              "      <script>\n",
              "        async function quickchart(key) {\n",
              "          const quickchartButtonEl =\n",
              "            document.querySelector('#' + key + ' button');\n",
              "          quickchartButtonEl.disabled = true;  // To prevent multiple clicks.\n",
              "          quickchartButtonEl.classList.add('colab-df-spinner');\n",
              "          try {\n",
              "            const charts = await google.colab.kernel.invokeFunction(\n",
              "                'suggestCharts', [key], {});\n",
              "          } catch (error) {\n",
              "            console.error('Error during call to suggestCharts:', error);\n",
              "          }\n",
              "          quickchartButtonEl.classList.remove('colab-df-spinner');\n",
              "          quickchartButtonEl.classList.add('colab-df-quickchart-complete');\n",
              "        }\n",
              "        (() => {\n",
              "          let quickchartButtonEl =\n",
              "            document.querySelector('#df-41dca5e1-80cd-4ba0-968c-5e949b98712c button');\n",
              "          quickchartButtonEl.style.display =\n",
              "            google.colab.kernel.accessAllowed ? 'block' : 'none';\n",
              "        })();\n",
              "      </script>\n",
              "    </div>\n",
              "    </div>\n",
              "  </div>\n"
            ],
            "application/vnd.google.colaboratory.intrinsic+json": {
              "type": "dataframe",
              "variable_name": "seat"
            }
          },
          "metadata": {},
          "execution_count": 42
        }
      ]
    },
    {
      "cell_type": "markdown",
      "source": [
        "Сделаем базовую проверку на дубликаты. К сожалению, как минимум один какой-то текст отзыва продублирован в датафрейме."
      ],
      "metadata": {
        "id": "Zk_VTejHmv8o"
      }
    },
    {
      "cell_type": "code",
      "source": [
        "seat['content'].duplicated().any()"
      ],
      "metadata": {
        "colab": {
          "base_uri": "https://localhost:8080/"
        },
        "id": "hv2guBMwmbED",
        "outputId": "28efb61a-f9d7-4a1f-dc7a-20e9d0dc6982"
      },
      "execution_count": 43,
      "outputs": [
        {
          "output_type": "execute_result",
          "data": {
            "text/plain": [
              "np.True_"
            ]
          },
          "metadata": {},
          "execution_count": 43
        }
      ]
    },
    {
      "cell_type": "markdown",
      "source": [
        "Посмотрим, что это за отзывы-дубликаты. Как видим, вообще говоря этот отзыв нас не интересует, так как относится к не интересующей нас авиакомпании из Австралии."
      ],
      "metadata": {
        "id": "FRy2AvrFn5Ze"
      }
    },
    {
      "cell_type": "code",
      "source": [
        "seat[seat.content.duplicated()]"
      ],
      "metadata": {
        "colab": {
          "base_uri": "https://localhost:8080/",
          "height": 252
        },
        "id": "4E4XhfH1npx0",
        "outputId": "b139a3d3-666a-4b26-e646-c9da3b3fbbbe"
      },
      "execution_count": 44,
      "outputs": [
        {
          "output_type": "execute_result",
          "data": {
            "text/plain": [
              "        airline_name                            link  \\\n",
              "48  virgin-australia  /seat-reviews/virgin-australia   \n",
              "\n",
              "                               title     author author_country        date  \\\n",
              "48  Virgin Australia customer review  B Johnson  United States  2013-01-18   \n",
              "\n",
              "                                              content        aircraft  \\\n",
              "48  LAX-BNE. Premium Economy seats were very comfo...  BOEING 737-800   \n",
              "\n",
              "   seat_layout date_flown  ... type_traveller overall_rating  \\\n",
              "48         3x3        NaN  ...            NaN              5   \n",
              "\n",
              "    seat_legroom_rating  seat_recline_rating  seat_width_rating  \\\n",
              "48                    2                    2                  3   \n",
              "\n",
              "    aisle_space_rating  viewing_tv_rating  power_supply_rating  \\\n",
              "48                   3                0.0                  NaN   \n",
              "\n",
              "    seat_storage_rating  recommended  \n",
              "48                  NaN            0  \n",
              "\n",
              "[1 rows x 21 columns]"
            ],
            "text/html": [
              "\n",
              "  <div id=\"df-e01f55c6-1bf5-4e2f-ab5c-6590664c266a\" class=\"colab-df-container\">\n",
              "    <div>\n",
              "<style scoped>\n",
              "    .dataframe tbody tr th:only-of-type {\n",
              "        vertical-align: middle;\n",
              "    }\n",
              "\n",
              "    .dataframe tbody tr th {\n",
              "        vertical-align: top;\n",
              "    }\n",
              "\n",
              "    .dataframe thead th {\n",
              "        text-align: right;\n",
              "    }\n",
              "</style>\n",
              "<table border=\"1\" class=\"dataframe\">\n",
              "  <thead>\n",
              "    <tr style=\"text-align: right;\">\n",
              "      <th></th>\n",
              "      <th>airline_name</th>\n",
              "      <th>link</th>\n",
              "      <th>title</th>\n",
              "      <th>author</th>\n",
              "      <th>author_country</th>\n",
              "      <th>date</th>\n",
              "      <th>content</th>\n",
              "      <th>aircraft</th>\n",
              "      <th>seat_layout</th>\n",
              "      <th>date_flown</th>\n",
              "      <th>...</th>\n",
              "      <th>type_traveller</th>\n",
              "      <th>overall_rating</th>\n",
              "      <th>seat_legroom_rating</th>\n",
              "      <th>seat_recline_rating</th>\n",
              "      <th>seat_width_rating</th>\n",
              "      <th>aisle_space_rating</th>\n",
              "      <th>viewing_tv_rating</th>\n",
              "      <th>power_supply_rating</th>\n",
              "      <th>seat_storage_rating</th>\n",
              "      <th>recommended</th>\n",
              "    </tr>\n",
              "  </thead>\n",
              "  <tbody>\n",
              "    <tr>\n",
              "      <th>48</th>\n",
              "      <td>virgin-australia</td>\n",
              "      <td>/seat-reviews/virgin-australia</td>\n",
              "      <td>Virgin Australia customer review</td>\n",
              "      <td>B Johnson</td>\n",
              "      <td>United States</td>\n",
              "      <td>2013-01-18</td>\n",
              "      <td>LAX-BNE. Premium Economy seats were very comfo...</td>\n",
              "      <td>BOEING 737-800</td>\n",
              "      <td>3x3</td>\n",
              "      <td>NaN</td>\n",
              "      <td>...</td>\n",
              "      <td>NaN</td>\n",
              "      <td>5</td>\n",
              "      <td>2</td>\n",
              "      <td>2</td>\n",
              "      <td>3</td>\n",
              "      <td>3</td>\n",
              "      <td>0.0</td>\n",
              "      <td>NaN</td>\n",
              "      <td>NaN</td>\n",
              "      <td>0</td>\n",
              "    </tr>\n",
              "  </tbody>\n",
              "</table>\n",
              "<p>1 rows × 21 columns</p>\n",
              "</div>\n",
              "    <div class=\"colab-df-buttons\">\n",
              "\n",
              "  <div class=\"colab-df-container\">\n",
              "    <button class=\"colab-df-convert\" onclick=\"convertToInteractive('df-e01f55c6-1bf5-4e2f-ab5c-6590664c266a')\"\n",
              "            title=\"Convert this dataframe to an interactive table.\"\n",
              "            style=\"display:none;\">\n",
              "\n",
              "  <svg xmlns=\"http://www.w3.org/2000/svg\" height=\"24px\" viewBox=\"0 -960 960 960\">\n",
              "    <path d=\"M120-120v-720h720v720H120Zm60-500h600v-160H180v160Zm220 220h160v-160H400v160Zm0 220h160v-160H400v160ZM180-400h160v-160H180v160Zm440 0h160v-160H620v160ZM180-180h160v-160H180v160Zm440 0h160v-160H620v160Z\"/>\n",
              "  </svg>\n",
              "    </button>\n",
              "\n",
              "  <style>\n",
              "    .colab-df-container {\n",
              "      display:flex;\n",
              "      gap: 12px;\n",
              "    }\n",
              "\n",
              "    .colab-df-convert {\n",
              "      background-color: #E8F0FE;\n",
              "      border: none;\n",
              "      border-radius: 50%;\n",
              "      cursor: pointer;\n",
              "      display: none;\n",
              "      fill: #1967D2;\n",
              "      height: 32px;\n",
              "      padding: 0 0 0 0;\n",
              "      width: 32px;\n",
              "    }\n",
              "\n",
              "    .colab-df-convert:hover {\n",
              "      background-color: #E2EBFA;\n",
              "      box-shadow: 0px 1px 2px rgba(60, 64, 67, 0.3), 0px 1px 3px 1px rgba(60, 64, 67, 0.15);\n",
              "      fill: #174EA6;\n",
              "    }\n",
              "\n",
              "    .colab-df-buttons div {\n",
              "      margin-bottom: 4px;\n",
              "    }\n",
              "\n",
              "    [theme=dark] .colab-df-convert {\n",
              "      background-color: #3B4455;\n",
              "      fill: #D2E3FC;\n",
              "    }\n",
              "\n",
              "    [theme=dark] .colab-df-convert:hover {\n",
              "      background-color: #434B5C;\n",
              "      box-shadow: 0px 1px 3px 1px rgba(0, 0, 0, 0.15);\n",
              "      filter: drop-shadow(0px 1px 2px rgba(0, 0, 0, 0.3));\n",
              "      fill: #FFFFFF;\n",
              "    }\n",
              "  </style>\n",
              "\n",
              "    <script>\n",
              "      const buttonEl =\n",
              "        document.querySelector('#df-e01f55c6-1bf5-4e2f-ab5c-6590664c266a button.colab-df-convert');\n",
              "      buttonEl.style.display =\n",
              "        google.colab.kernel.accessAllowed ? 'block' : 'none';\n",
              "\n",
              "      async function convertToInteractive(key) {\n",
              "        const element = document.querySelector('#df-e01f55c6-1bf5-4e2f-ab5c-6590664c266a');\n",
              "        const dataTable =\n",
              "          await google.colab.kernel.invokeFunction('convertToInteractive',\n",
              "                                                    [key], {});\n",
              "        if (!dataTable) return;\n",
              "\n",
              "        const docLinkHtml = 'Like what you see? Visit the ' +\n",
              "          '<a target=\"_blank\" href=https://colab.research.google.com/notebooks/data_table.ipynb>data table notebook</a>'\n",
              "          + ' to learn more about interactive tables.';\n",
              "        element.innerHTML = '';\n",
              "        dataTable['output_type'] = 'display_data';\n",
              "        await google.colab.output.renderOutput(dataTable, element);\n",
              "        const docLink = document.createElement('div');\n",
              "        docLink.innerHTML = docLinkHtml;\n",
              "        element.appendChild(docLink);\n",
              "      }\n",
              "    </script>\n",
              "  </div>\n",
              "\n",
              "    </div>\n",
              "  </div>\n"
            ],
            "application/vnd.google.colaboratory.intrinsic+json": {
              "type": "dataframe"
            }
          },
          "metadata": {},
          "execution_count": 44
        }
      ]
    },
    {
      "cell_type": "markdown",
      "source": [
        "Давайте отфильтруем нужные нам строки в таблице \"Seat\" (то есть чтобы авиакомпания была из определенного нами списка 10 конкурентов). Это можно сделать по-разному, но давайте пойдем более сложным.\n",
        "\n",
        "Переведем Pandas-серию из предыдущего подпункта про определение конкурентов в датафрейм и воспользуемся им, чтобы через inner-джойн с таблицей \"Seat\" по ключу \"airline_name\" получить желаемую таблицу, в которой останутся только отзывы на сидения у 10 компаний-конкурентов."
      ],
      "metadata": {
        "id": "BWPaqWPKoufy"
      }
    },
    {
      "cell_type": "code",
      "source": [
        "cum_table_top10_df = cum_table.head(10).to_frame()\n",
        "cum_table_top10_df.rename(columns={\"airline_name\": \"cum_perc\"}, inplace=True)\n",
        "cum_table_top10_df = cum_table_top10_df.reset_index()\n",
        "cum_table_top10_df\n",
        "\n",
        "seats_of_competitors = pd.merge(\n",
        "    left=cum_table_top10_df,\n",
        "    right=seat,\n",
        "    how='inner',\n",
        "    left_on=['airline_name'],\n",
        "    right_on=['airline_name'],\n",
        ")"
      ],
      "metadata": {
        "id": "eOi3cTFEXmwV"
      },
      "execution_count": 45,
      "outputs": []
    },
    {
      "cell_type": "markdown",
      "source": [
        "Джойн прошел успешно, в датафрейме только нужные компании.\n",
        "\n",
        "Но, как мы видим, из 10 определенных нами компаний-конкурентов только для 6 был написан хотя бы один отзыв на сидения, это уже довольно плохо."
      ],
      "metadata": {
        "id": "9A4dOJviqGBO"
      }
    },
    {
      "cell_type": "code",
      "source": [
        "seats_of_competitors.airline_name.unique()"
      ],
      "metadata": {
        "colab": {
          "base_uri": "https://localhost:8080/"
        },
        "id": "2jffzyjtqapR",
        "outputId": "e520abf1-d312-450f-bf7c-8c5f904f9db7"
      },
      "execution_count": 46,
      "outputs": [
        {
          "output_type": "execute_result",
          "data": {
            "text/plain": [
              "array(['air-canada-rouge', 'allegiant-air', 'united-airlines',\n",
              "       'air-canada', 'american-airlines', 'spirit-airlines'], dtype=object)"
            ]
          },
          "metadata": {},
          "execution_count": 46
        }
      ]
    },
    {
      "cell_type": "markdown",
      "source": [
        "Впрочем, если мы посмотрим на количество отзывов на сиденья у интересующих нас компаний, то все еще намного хуже, так как это количество очень маленькое, у трех компаний вообще только по одному отзыву. И это мы еще не проверяли даже дату у этих отзывов!\n",
        "\n",
        "Какой промежуточный вывод мы можем сделать? К сожалению, таблица \"Seat\" никак не может помочь нам с определением отстающих в качестве сидений конкурентов, поскольку объем выборки слишком маленький. Возможно, что пассажиры не любят писать отдельные отзывы на сиденья или же не любят делать это на сайте, с которого выкачали данные. Также возможны какие-либо технические проблемы при выгрузке данных. Техническому исполнителю, который предоставил заказчику таблицу, следует проверить таблицу на полноту данных. В случае же, если малое количество отзывов в таблице не связано с техническими проблемами, стоит найти другой источник данных.\n",
        "\n",
        "В текущем отчете попробуем воспользоваться основной таблицей \"Airlines\", а именно колонкой \"seat_comfort_rating\"."
      ],
      "metadata": {
        "id": "8BM8s_9FrTf6"
      }
    },
    {
      "cell_type": "code",
      "source": [
        "seats_of_competitors['overall_rating'].groupby(by=[seats_of_competitors.airline_name]).agg('count').sort_values(ascending = False)"
      ],
      "metadata": {
        "colab": {
          "base_uri": "https://localhost:8080/",
          "height": 303
        },
        "id": "bpk64L3kqxlz",
        "outputId": "4837f03c-7d63-432d-fb68-8f3c259dff17"
      },
      "execution_count": 47,
      "outputs": [
        {
          "output_type": "execute_result",
          "data": {
            "text/plain": [
              "airline_name\n",
              "american-airlines    5\n",
              "united-airlines      4\n",
              "air-canada           3\n",
              "air-canada-rouge     1\n",
              "allegiant-air        1\n",
              "spirit-airlines      1\n",
              "Name: overall_rating, dtype: int64"
            ],
            "text/html": [
              "<div>\n",
              "<style scoped>\n",
              "    .dataframe tbody tr th:only-of-type {\n",
              "        vertical-align: middle;\n",
              "    }\n",
              "\n",
              "    .dataframe tbody tr th {\n",
              "        vertical-align: top;\n",
              "    }\n",
              "\n",
              "    .dataframe thead th {\n",
              "        text-align: right;\n",
              "    }\n",
              "</style>\n",
              "<table border=\"1\" class=\"dataframe\">\n",
              "  <thead>\n",
              "    <tr style=\"text-align: right;\">\n",
              "      <th></th>\n",
              "      <th>overall_rating</th>\n",
              "    </tr>\n",
              "    <tr>\n",
              "      <th>airline_name</th>\n",
              "      <th></th>\n",
              "    </tr>\n",
              "  </thead>\n",
              "  <tbody>\n",
              "    <tr>\n",
              "      <th>american-airlines</th>\n",
              "      <td>5</td>\n",
              "    </tr>\n",
              "    <tr>\n",
              "      <th>united-airlines</th>\n",
              "      <td>4</td>\n",
              "    </tr>\n",
              "    <tr>\n",
              "      <th>air-canada</th>\n",
              "      <td>3</td>\n",
              "    </tr>\n",
              "    <tr>\n",
              "      <th>air-canada-rouge</th>\n",
              "      <td>1</td>\n",
              "    </tr>\n",
              "    <tr>\n",
              "      <th>allegiant-air</th>\n",
              "      <td>1</td>\n",
              "    </tr>\n",
              "    <tr>\n",
              "      <th>spirit-airlines</th>\n",
              "      <td>1</td>\n",
              "    </tr>\n",
              "  </tbody>\n",
              "</table>\n",
              "</div><br><label><b>dtype:</b> int64</label>"
            ]
          },
          "metadata": {},
          "execution_count": 47
        }
      ]
    },
    {
      "cell_type": "markdown",
      "source": [
        "## Попытка определить отстающих конкурентов, используя таблицу \"Airline\"\n",
        "\n",
        "Создадим отдельный датафрейм с отзывами на полеты, написанные нашей целевой аудиторией* на определенные нами 10 компаний-конкурентов в 2015 году.\n",
        "\n",
        "После чего создадим датафрейм, в котором отфильтруем те отзывы, в которых была оставлена оценка комфортности кресел в полете.\n",
        "\n",
        "\\* Вообще говоря, мы могли бы брать отзывы с оценками кресел у компаний-конкурентов, написанные не только нашей целевой аудиторией, чтобы повысить объем выборок, но более широкие выборки снизят репрезентативность (в нестрогом смысле) результатов. Поскольку наш заказчик будет нацелен на целевую аудиторию, ему будет интересен именно ее опыт, а потому расширение выборок считаем неоправданным."
      ],
      "metadata": {
        "id": "hgk986MnttEK"
      }
    },
    {
      "cell_type": "code",
      "source": [
        "competitors_airline_2015 = pd.merge(\n",
        "                                    left=cum_table_top10_df,\n",
        "                                    right=unpriviliged_america_2015,\n",
        "                                    how='inner',\n",
        "                                    left_on=['airline_name'],\n",
        "                                    right_on=['airline_name'],\n",
        "                                    )\n",
        "\n",
        "competitors_airline_2015_with_seat_rating = competitors_airline_2015[competitors_airline_2015['seat_comfort_rating'].notnull()]"
      ],
      "metadata": {
        "id": "RpUD_QcCttu6"
      },
      "execution_count": 48,
      "outputs": []
    },
    {
      "cell_type": "markdown",
      "source": [
        "Как видим, с количеством отзывов, где есть оценка комфортности кресел, в таблице \"Airlines\" все лучше, чем в таблице \"Seat\". Конечно, это все равно слишком малое количество, но предварительный анализ для выработки гипотезы к последующей проверке мы провести можем."
      ],
      "metadata": {
        "id": "ZwKX50C1Qi19"
      }
    },
    {
      "cell_type": "code",
      "source": [
        "competitors_airline_2015_with_seat_rating['seat_comfort_rating'].groupby(by=[competitors_airline_2015_with_seat_rating.airline_name]).agg('count').sort_values(ascending = False)"
      ],
      "metadata": {
        "colab": {
          "base_uri": "https://localhost:8080/",
          "height": 429
        },
        "id": "S2Gqg5fguS6_",
        "outputId": "b86fb98d-c5bf-438a-bc2e-5117f1ac948d"
      },
      "execution_count": 49,
      "outputs": [
        {
          "output_type": "execute_result",
          "data": {
            "text/plain": [
              "airline_name\n",
              "air-canada-rouge      15\n",
              "allegiant-air         12\n",
              "united-airlines       12\n",
              "air-canada            11\n",
              "american-airlines     10\n",
              "frontier-airlines      9\n",
              "spirit-airlines        9\n",
              "sunwing-airlines       8\n",
              "delta-air-lines        4\n",
              "southwest-airlines     4\n",
              "Name: seat_comfort_rating, dtype: int64"
            ],
            "text/html": [
              "<div>\n",
              "<style scoped>\n",
              "    .dataframe tbody tr th:only-of-type {\n",
              "        vertical-align: middle;\n",
              "    }\n",
              "\n",
              "    .dataframe tbody tr th {\n",
              "        vertical-align: top;\n",
              "    }\n",
              "\n",
              "    .dataframe thead th {\n",
              "        text-align: right;\n",
              "    }\n",
              "</style>\n",
              "<table border=\"1\" class=\"dataframe\">\n",
              "  <thead>\n",
              "    <tr style=\"text-align: right;\">\n",
              "      <th></th>\n",
              "      <th>seat_comfort_rating</th>\n",
              "    </tr>\n",
              "    <tr>\n",
              "      <th>airline_name</th>\n",
              "      <th></th>\n",
              "    </tr>\n",
              "  </thead>\n",
              "  <tbody>\n",
              "    <tr>\n",
              "      <th>air-canada-rouge</th>\n",
              "      <td>15</td>\n",
              "    </tr>\n",
              "    <tr>\n",
              "      <th>allegiant-air</th>\n",
              "      <td>12</td>\n",
              "    </tr>\n",
              "    <tr>\n",
              "      <th>united-airlines</th>\n",
              "      <td>12</td>\n",
              "    </tr>\n",
              "    <tr>\n",
              "      <th>air-canada</th>\n",
              "      <td>11</td>\n",
              "    </tr>\n",
              "    <tr>\n",
              "      <th>american-airlines</th>\n",
              "      <td>10</td>\n",
              "    </tr>\n",
              "    <tr>\n",
              "      <th>frontier-airlines</th>\n",
              "      <td>9</td>\n",
              "    </tr>\n",
              "    <tr>\n",
              "      <th>spirit-airlines</th>\n",
              "      <td>9</td>\n",
              "    </tr>\n",
              "    <tr>\n",
              "      <th>sunwing-airlines</th>\n",
              "      <td>8</td>\n",
              "    </tr>\n",
              "    <tr>\n",
              "      <th>delta-air-lines</th>\n",
              "      <td>4</td>\n",
              "    </tr>\n",
              "    <tr>\n",
              "      <th>southwest-airlines</th>\n",
              "      <td>4</td>\n",
              "    </tr>\n",
              "  </tbody>\n",
              "</table>\n",
              "</div><br><label><b>dtype:</b> int64</label>"
            ]
          },
          "metadata": {},
          "execution_count": 49
        }
      ]
    },
    {
      "cell_type": "markdown",
      "source": [
        "Ниже построена довольно большая скрипичная диаграмма, в которой авиакомпании-конкуренты упорядочены от большего значения медианы к меньшему. Как видим, 4 крайние правые авиакомпании имеют наименьшее медианное значение (медиана равна 1).\n",
        "\n",
        "Иначе говоря, по медианному значению оценки комфортности кресел в полете авиакомпании \"Sunwing Airlines\", \"Spirit Airlines\", \"American Airlines\" и \"Air Canada Rouge\" являются хорошими кандидатами на признание самыми слабыми по комфортности кресел среди 10 выявленных нами конкурентов."
      ],
      "metadata": {
        "id": "qepRG5usRJ5K"
      }
    },
    {
      "cell_type": "code",
      "source": [
        "order_by_median = competitors_airline_2015_with_seat_rating.groupby(by=['airline_name'])['seat_comfort_rating'].median().sort_values().iloc[::-1].index\n",
        "\n",
        "sns.set_theme(rc={'figure.figsize':(18.7,8.27)})\n",
        "\n",
        "plot4 = sns.violinplot(x = 'airline_name', y = 'seat_comfort_rating', data = competitors_airline_2015_with_seat_rating, cut = 0, order = order_by_median)\n",
        "plot4.set(xlabel =\"Авиакомпания\", ylabel = \"Оценка\", title ='Сопоставление распределений оценок комфортности кресел по авиакомпаниям-конкурентам')"
      ],
      "metadata": {
        "colab": {
          "base_uri": "https://localhost:8080/",
          "height": 802
        },
        "id": "fli14TIrvewp",
        "outputId": "6131d2f7-9f30-46d4-c78f-88ce95cfd3b4"
      },
      "execution_count": 50,
      "outputs": [
        {
          "output_type": "execute_result",
          "data": {
            "text/plain": [
              "[Text(0.5, 0, 'Авиакомпания'),\n",
              " Text(0, 0.5, 'Оценка'),\n",
              " Text(0.5, 1.0, 'Сопоставление распределений оценок комфортности кресел по авиакомпаниям-конкурентам')]"
            ]
          },
          "metadata": {},
          "execution_count": 50
        },
        {
          "output_type": "display_data",
          "data": {
            "text/plain": [
              "<Figure size 1870x827 with 1 Axes>"
            ],
            "image/png": "[encoded data removed]"
          },
          "metadata": {}
        }
      ]
    },
    {
      "cell_type": "markdown",
      "source": [
        "Если мы составим рейтинг компаний-конкурентов по среднему значению оценки комфортности кресел, то все те же 4 компании находятся на последних местах, хотя их позиции на этих последних местах незначительно поменялись между собой. Опять же, это свидетельство в пользу того, что именно эти компании являются хорошими кандидатами на признание самыми слабыми по комфортности кресел среди 10 выявленных нами конкурентов."
      ],
      "metadata": {
        "id": "IZ2hF-K6iK18"
      }
    },
    {
      "cell_type": "code",
      "source": [
        "competitors_airline_2015_with_seat_rating['seat_comfort_rating'].groupby(by=[competitors_airline_2015_with_seat_rating.airline_name]).agg('mean').sort_values(ascending = False)"
      ],
      "metadata": {
        "colab": {
          "base_uri": "https://localhost:8080/",
          "height": 429
        },
        "id": "LiC0Bqavxmbv",
        "outputId": "00a1661a-22e9-4ba6-dd49-fad5a2f75ddf"
      },
      "execution_count": 51,
      "outputs": [
        {
          "output_type": "execute_result",
          "data": {
            "text/plain": [
              "airline_name\n",
              "southwest-airlines    3.750000\n",
              "air-canada            3.000000\n",
              "frontier-airlines     2.666667\n",
              "delta-air-lines       2.500000\n",
              "united-airlines       2.250000\n",
              "allegiant-air         2.166667\n",
              "sunwing-airlines      2.000000\n",
              "spirit-airlines       1.888889\n",
              "air-canada-rouge      1.800000\n",
              "american-airlines     1.400000\n",
              "Name: seat_comfort_rating, dtype: float64"
            ],
            "text/html": [
              "<div>\n",
              "<style scoped>\n",
              "    .dataframe tbody tr th:only-of-type {\n",
              "        vertical-align: middle;\n",
              "    }\n",
              "\n",
              "    .dataframe tbody tr th {\n",
              "        vertical-align: top;\n",
              "    }\n",
              "\n",
              "    .dataframe thead th {\n",
              "        text-align: right;\n",
              "    }\n",
              "</style>\n",
              "<table border=\"1\" class=\"dataframe\">\n",
              "  <thead>\n",
              "    <tr style=\"text-align: right;\">\n",
              "      <th></th>\n",
              "      <th>seat_comfort_rating</th>\n",
              "    </tr>\n",
              "    <tr>\n",
              "      <th>airline_name</th>\n",
              "      <th></th>\n",
              "    </tr>\n",
              "  </thead>\n",
              "  <tbody>\n",
              "    <tr>\n",
              "      <th>southwest-airlines</th>\n",
              "      <td>3.750000</td>\n",
              "    </tr>\n",
              "    <tr>\n",
              "      <th>air-canada</th>\n",
              "      <td>3.000000</td>\n",
              "    </tr>\n",
              "    <tr>\n",
              "      <th>frontier-airlines</th>\n",
              "      <td>2.666667</td>\n",
              "    </tr>\n",
              "    <tr>\n",
              "      <th>delta-air-lines</th>\n",
              "      <td>2.500000</td>\n",
              "    </tr>\n",
              "    <tr>\n",
              "      <th>united-airlines</th>\n",
              "      <td>2.250000</td>\n",
              "    </tr>\n",
              "    <tr>\n",
              "      <th>allegiant-air</th>\n",
              "      <td>2.166667</td>\n",
              "    </tr>\n",
              "    <tr>\n",
              "      <th>sunwing-airlines</th>\n",
              "      <td>2.000000</td>\n",
              "    </tr>\n",
              "    <tr>\n",
              "      <th>spirit-airlines</th>\n",
              "      <td>1.888889</td>\n",
              "    </tr>\n",
              "    <tr>\n",
              "      <th>air-canada-rouge</th>\n",
              "      <td>1.800000</td>\n",
              "    </tr>\n",
              "    <tr>\n",
              "      <th>american-airlines</th>\n",
              "      <td>1.400000</td>\n",
              "    </tr>\n",
              "  </tbody>\n",
              "</table>\n",
              "</div><br><label><b>dtype:</b> float64</label>"
            ]
          },
          "metadata": {},
          "execution_count": 51
        }
      ]
    },
    {
      "cell_type": "markdown",
      "source": [
        "## Заключение по вопросу 3\n",
        "\n",
        "В данном разделе отчета мы сначала определили 10 потенциальных конкурентов нашему заказчику, ориентируясь на то, на рейсы каких авиакомпаний чаще всего пишут представители определенной нами целевой аудитории. Чтобы понять, у кого из этих 10 конкурентов самые худшие сидения в салонах (с кем нашему заказчику можно было бы эффективнее конкурировать в борьбе за целевую аудиторию), мы попытались сначала воспользоваться специализированной таблицей \"Seat\", однако из-за критической неполноты данных мы вынуждены были использовать таблицу \"Airline\".\n",
        "\n",
        "Мы определили, что наихудшие оценки комфортности кресел, если строить рейтинг как по медиане, так и по среднему значению, наблюдаются у компаний-конкурентов  \"Sunwing Airlines\", \"Spirit Airlines\", \"American Airlines\" и \"Air Canada Rouge\". Однако мы не можем надежно утверждать, что эта разница неслучайная без применения стат. тестов; более того, размер выборок крайне маленький.\n",
        "\n",
        "Мы могли бы порекомендовать заказчику:\n",
        "\n",
        "1. Убедиться в корректности процедуры сбора данных для таблицы \"Seat\" по причине неполноты данных в таблице. Если на сайте, с которого собирались отзывы, их действительно так мало, то стоит найти альтернативный источник подробных отзывов на кресла авиакомпаний.\n",
        "\n",
        "2. Стоит заказать сбор дополнительных данных о компаниях \"Sunwing Airlines\", \"Spirit Airlines\", \"American Airlines\" и \"Air Canada Rouge\" как потенциальных конкурентах. Крайне вероятно, что требуется отдельное маркетинговое исследование, чтобы понять их уязвимости в плане сидений в салонах."
      ],
      "metadata": {
        "id": "TdCJtpPulpgc"
      }
    },
    {
      "cell_type": "markdown",
      "source": [
        "# Выводы\n",
        "\n",
        "Как мы помним, задание от заказчика состояло в том, чтобы найти ему определенную нишу в бизнесе пассажирских авиаперевозок и предложить ему дальнейшие действия.\n",
        "\n",
        "Во-первых, мы определили целевую аудиторию для нашего заказчика — это пассажиры эконом-класса (включая эконом-премиум) из географического макрорегиона \"Америки\". Эта целевая аудитория является наименее удовлетворенной своими полетами, а потому заказчик мог бы войти на рынок с идеей повысить удовлетворенность полетами этой целевой аудитории.\n",
        "\n",
        "Во-вторых, мы определили, какие 10 авиакомпаний являются ключевыми для нашей целевой аудитории (на них представители целевой аудтории чаще всего пишут отзывы) — это потенциальные конкуренты для нашего заказчика. Мы также смогли определить, что из этих 10 компаний у 4-х наихудшие показатели удовлетворенности комфортом кресел среди представителей целевой аудитории. Это \"Sunwing Airlines\", \"Spirit Airlines\", \"American Airlines\" и \"Air Canada Rouge\". Именно с этими авиакомпаниями, возможно, заказчику стоит соревноваться в первую очередь. Однако мы не можем быть уверены, что разница в авиакомпаниях по комфорту кресел является неслучайной из-за малых размеров выборок.\n",
        "\n",
        "Мы предлагаем заказчику:\n",
        "\n",
        "1. Остановиться на пассажирах эконом-класса из георегиона \"Америки\" в качестве целевой аудитории.\n",
        "\n",
        "2. В идеале заказать сбор дополнительной информации о всех 10 выделенных нами потенциальных компаниях-конкурентах, поскольку в предоставленном датасете мало контекстуальной информации о них. Более того, у нас практически отсутствует детализированная информации о креслах в салонах их самолетов и мы не знаем, по какой именно причине у одних авиакомпаний оценки комфортности кресел меньше, чем у других (ответ на этот вопрос могла бы дать предоставленная таблица \"Seat\", но в ней критическая неполнота данных).\n",
        "\n",
        "3. Заказать отдельное исследование на определение совокупности факторов, определяющих (не)удовлетворенность полетом представителями целевой аудитории, так как у нас нет гарантии того, что комфорт кресел является сильным фактором. То, что существует бизнес-ниша, в которой есть авиакомпании с креслами, которыми недовольны представители целевой аудитории, не означает, что вхождение в эту нишу с улучшением кресел обеспечит довольных клиентов, т.к. следует принимать во внимание совокупность факторов."
      ],
      "metadata": {
        "id": "XbVlbLa72IN6"
      }
    }
  ]
}